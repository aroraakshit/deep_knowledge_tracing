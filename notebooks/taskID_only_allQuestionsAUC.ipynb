{
 "cells": [
  {
   "cell_type": "code",
   "execution_count": 33,
   "metadata": {},
   "outputs": [],
   "source": [
    "import json\n",
    "from sklearn.preprocessing import MultiLabelBinarizer\n",
    "import numpy as np\n",
    "import tensorflow as tf\n",
    "import pprint as pp\n",
    "import math\n",
    "import random\n",
    "import matplotlib.pyplot as plt\n",
    "%matplotlib inline"
   ]
  },
  {
   "cell_type": "markdown",
   "metadata": {},
   "source": [
    "This code can work with tf.VERSION = '1.4.1' (for MacOS High Sierra); functions may change for other versions."
   ]
  },
  {
   "cell_type": "markdown",
   "metadata": {},
   "source": [
    "Model Parameters:"
   ]
  },
  {
   "cell_type": "code",
   "execution_count": 98,
   "metadata": {},
   "outputs": [],
   "source": [
    "training_set_split = 0.8\n",
    "validation_set_split = 0.1\n",
    "learning_rate = np.logspace(-5,0,5)\n",
    "num_units = 50 #number of units in RNN cell\n",
    "training_steps = 40 #number of epochs\n",
    "display_step = 20 #number of epochs after which to display progress\n",
    "optimize_using = \"adam\" #other option: \"momentum\""
   ]
  },
  {
   "cell_type": "code",
   "execution_count": 10,
   "metadata": {},
   "outputs": [
    {
     "name": "stdout",
     "output_type": "stream",
     "text": [
      "Tensorflow version: 1.4.1\n"
     ]
    }
   ],
   "source": [
    "print(\"Tensorflow version: \" + str(tf.VERSION))"
   ]
  },
  {
   "cell_type": "markdown",
   "metadata": {},
   "source": [
    "Loading JSON file into dictionary called 'student_vectors'"
   ]
  },
  {
   "cell_type": "code",
   "execution_count": 11,
   "metadata": {},
   "outputs": [],
   "source": [
    "filepath = \"../data/student_vectors_n_task_10_n_limit_10000.json\"\n",
    "student_vectors = json.load(open(filepath))"
   ]
  },
  {
   "cell_type": "markdown",
   "metadata": {},
   "source": [
    "Collecting unique CCSSM labels and Task IDs"
   ]
  },
  {
   "cell_type": "code",
   "execution_count": 35,
   "metadata": {},
   "outputs": [
    {
     "name": "stdout",
     "output_type": "stream",
     "text": [
      "Number of unique task IDs: 10\n",
      "Number of students: 1255\n"
     ]
    }
   ],
   "source": [
    "task_ids = []\n",
    "for i in student_vectors:\n",
    "    for j in student_vectors[i]:\n",
    "        if j['task_id'] not in task_ids:\n",
    "            task_ids.append(j['task_id'])\n",
    "print(\"Number of unique task IDs: \" + str(len(task_ids)))\n",
    "print(\"Number of students: \" + str(len(student_vectors)))"
   ]
  },
  {
   "cell_type": "markdown",
   "metadata": {},
   "source": [
    "Creating 1-hot encoding for Task IDs and CCSSM Labels"
   ]
  },
  {
   "cell_type": "code",
   "execution_count": 36,
   "metadata": {},
   "outputs": [],
   "source": [
    "#pre-processing for using MultiLabelBinarizer\n",
    "temp_ids = []\n",
    "for i in task_ids:\n",
    "    temp_ids.append([i])\n",
    "\n",
    "#generating encodings\n",
    "enc = MultiLabelBinarizer()\n",
    "task_ids_1hot = (enc.fit_transform(temp_ids)).astype(float)\n",
    "task_ids_classes = enc.classes_\n",
    "task_ids_dict = dict(zip(task_ids, task_ids_1hot))\n",
    "# print(\"\\n1-hot encoding for task IDs:\")\n",
    "# pp.pprint(task_ids_dict)"
   ]
  },
  {
   "cell_type": "markdown",
   "metadata": {},
   "source": [
    "Generating input sequences of interactions to feed the network. Say we have 3 task IDs; here is an example of interaction vectors generated:\n",
    "1. User correctly solves task 2 of label 3: [010   000]\n",
    "2. User incorrectly solves task 1 of label 2: [000   100]\n",
    "\n",
    "1-hot representation of task IDs: \n",
    "task ID 1: 1,0,0\n",
    "task ID 2: 0,1,0\n",
    "task ID 3: 0,0,1"
   ]
  },
  {
   "cell_type": "code",
   "execution_count": 49,
   "metadata": {},
   "outputs": [],
   "source": [
    "sequences = []\n",
    "output_y_taskid = []\n",
    "output_y = []\n",
    "seqlen = []\n",
    "incorrect_tid_vec = np.zeros((len(task_ids)), dtype=np.float)\n",
    "for i in student_vectors:\n",
    "    temp_seq = []\n",
    "    for j in student_vectors[i]:\n",
    "        if(j['second_try'] == False): #ignoring second_try\n",
    "            if(j['correct'] == True):\n",
    "                vec = np.concatenate([task_ids_dict[j['task_id']],incorrect_tid_vec])\n",
    "                temp_seq.append(vec)\n",
    "            else:\n",
    "                vec = np.concatenate([incorrect_tid_vec,task_ids_dict[j['task_id']]])\n",
    "                temp_seq.append(vec)\n",
    "    seqlen.append(len(temp_seq))\n",
    "    last_one = temp_seq.pop() #remove last interaction vector\n",
    "    sequences.append(temp_seq) #add it to x\n",
    "    first_one = temp_seq.pop(0) #remove first interaction vector\n",
    "    temp_seq.append(last_one)\n",
    "    output_y.append(temp_seq) #concatenate with last vector, and append to output!\n",
    "    output_y_taskid.append(temp_seq)\n",
    "    \n",
    "# print(\"Sample interaction vector: \")\n",
    "# pp.pprint(sequences[0][0])\n",
    "length_interaction_vector = 2*(len(task_ids)) #length of interaction vector"
   ]
  },
  {
   "cell_type": "markdown",
   "metadata": {},
   "source": [
    "Finding maximum sequence length."
   ]
  },
  {
   "cell_type": "code",
   "execution_count": 50,
   "metadata": {},
   "outputs": [
    {
     "name": "stdout",
     "output_type": "stream",
     "text": [
      "Maximum sequence length: 186\n"
     ]
    }
   ],
   "source": [
    "max_seqlen = max(seqlen)\n",
    "print(\"Maximum sequence length: \"+str(max_seqlen))"
   ]
  },
  {
   "cell_type": "markdown",
   "metadata": {},
   "source": [
    "Padding the sequences according to maximum sequence length. Making padded sequences of shape: number of students, maximum sequence length, length of interaction vector."
   ]
  },
  {
   "cell_type": "code",
   "execution_count": 60,
   "metadata": {},
   "outputs": [
    {
     "name": "stdout",
     "output_type": "stream",
     "text": [
      "Sequences have been padded according to the maximum sequence length. Final shape: (1255, 186, 20)\n"
     ]
    }
   ],
   "source": [
    "padded_sequences = np.zeros(shape=(len(student_vectors),max_seqlen,length_interaction_vector),dtype=float)\n",
    "for i in range(len(sequences)):\n",
    "    for j in range(len(sequences[i])):\n",
    "        padded_sequences[i][j] = sequences[i][j]\n",
    "print(\"Sequences have been padded according to the maximum sequence length. Final shape: \" + str(padded_sequences.shape))\n",
    "\n",
    "padded_output = np.zeros(shape=(len(student_vectors),max_seqlen,length_interaction_vector),dtype=float)\n",
    "for i in range(len(output_y)):\n",
    "    for j in range(len(output_y[i])):\n",
    "        padded_output[i][j] = output_y[i][j]\n",
    "        \n",
    "padded_output_taskid = np.zeros(shape=(len(student_vectors),max_seqlen,length_interaction_vector),dtype=float)\n",
    "for i in range(len(output_y_taskid)):\n",
    "    for j in range(len(output_y_taskid[i])):\n",
    "        padded_output_taskid[i][j] = output_y_taskid[i][j]"
   ]
  },
  {
   "cell_type": "markdown",
   "metadata": {},
   "source": [
    "Split the data into training and testing sets. Will take random validation sets at the time of training.<br>\n",
    "Review: **Try using sklearn**"
   ]
  },
  {
   "cell_type": "code",
   "execution_count": 61,
   "metadata": {},
   "outputs": [
    {
     "name": "stdout",
     "output_type": "stream",
     "text": [
      "Splitting 1255 rows into 1005 for training, 125 for validation and 125 for testing.\n",
      "Implemented 9-fold cross validation.\n"
     ]
    }
   ],
   "source": [
    "split = round((training_set_split+validation_set_split)*len(student_vectors))\n",
    "\n",
    "#separating training & validation set\n",
    "training_x = padded_sequences[:split]\n",
    "training_y = np.asarray(padded_output)[:split]\n",
    "training_y_taskid = np.asarray(padded_output_taskid)[:split]\n",
    "training_seqlen = seqlen[:split]\n",
    "\n",
    "#generating validation and training sets by implementing k-fold cross validation (k = maximum_position)\n",
    "validation_set_size = math.floor(validation_set_split * len(student_vectors))\n",
    "training_set_size = len(training_x) - validation_set_size\n",
    "maximum_position = math.floor(len(training_x) / validation_set_size)\n",
    "\n",
    "def get_next_train_valid_set(position):\n",
    "    if(position>=maximum_position):\n",
    "        position = position % maximum_position\n",
    "    print(\"Picking validation set from position: \"+str(position))\n",
    "    valid_start = position*validation_set_size\n",
    "    valid_end = valid_start + validation_set_size\n",
    "    \n",
    "    valid_set_x = training_x[valid_start : valid_end]\n",
    "    valid_set_y = training_y[valid_start : valid_end]\n",
    "    valid_set_y_taskid = np.asarray(training_y_taskid)[valid_start : valid_end]\n",
    "    valid_set_seqlen = np.asarray(training_seqlen[valid_start:valid_end])\n",
    "    \n",
    "    train_set_x = np.concatenate((training_x[:valid_start], training_x[valid_end:]))\n",
    "    train_set_y = np.concatenate((training_y[:valid_start], training_y[valid_end:]))\n",
    "    train_set_y_taskid = np.concatenate((np.asarray(training_y_taskid)[:valid_start], np.asarray(training_y_taskid)[valid_end:]))\n",
    "    train_set_seqlen = np.concatenate((np.asarray(training_seqlen)[:valid_start],np.asarray(training_seqlen)[valid_end:]))\n",
    "    \n",
    "    if(len(train_set_x) != training_set_size): #test\n",
    "        print(\"that's not good it is:\")\n",
    "        print(train_set_x.shape)\n",
    "    \n",
    "    return (train_set_seqlen,valid_set_seqlen,valid_set_x,valid_set_y,valid_set_y_taskid,train_set_x,train_set_y,train_set_y_taskid)\n",
    "\n",
    "#separating test set\n",
    "test_x = padded_sequences[split:]\n",
    "test_y = np.asarray(padded_output)[split:]\n",
    "test_y_taskid = np.asarray(padded_output_taskid)[split:]\n",
    "test_seqlen = seqlen[split:]\n",
    "\n",
    "print(\"Splitting \"+str(len(student_vectors))+\" rows into \"+str(training_set_size)+ \" for training, \"+str(validation_set_size)+\" for validation and \"+str(len(test_x)) + \" for testing.\")\n",
    "print(\"Implemented \"+str(maximum_position)+\"-fold cross validation.\")"
   ]
  },
  {
   "cell_type": "markdown",
   "metadata": {},
   "source": [
    "Building the model"
   ]
  },
  {
   "cell_type": "code",
   "execution_count": 108,
   "metadata": {},
   "outputs": [],
   "source": [
    "tf.reset_default_graph()\n",
    "\n",
    "#defining placeholders\n",
    "x = tf.placeholder(tf.float32, [None, max_seqlen, length_interaction_vector]) #(<batch_size>, <max_time>, <num_features>)\n",
    "y = tf.placeholder(tf.float32, [None, max_seqlen, length_interaction_vector]) #(<batch_size>, <num_features>)\n",
    "y_taskid = tf.placeholder(tf.float32, [None, max_seqlen, length_interaction_vector])\n",
    "seqlen_tf = tf.placeholder(tf.float32,[None])\n",
    "\n",
    "#defining tensorflow variables\n",
    "learning_tf_rate = tf.Variable(0.0, name=\"learning_tf_rate\",dtype=tf.float32)\n",
    "\n",
    "#dynamic RNN definition\n",
    "def dynamicRNN(x):\n",
    "    rnn_cell = tf.nn.rnn_cell.BasicLSTMCell(num_units)\n",
    "    outputs, states = tf.nn.dynamic_rnn(rnn_cell, x, dtype=tf.float32,sequence_length=seqlen_tf)\n",
    "    \n",
    "    #transformation on outputs needed, otherwise auc=0\n",
    "    #outputs = tf.transpose(outputs, [1, 0, 2])\n",
    "    out_size = length_interaction_vector\n",
    "    logit = tf.contrib.layers.fully_connected(outputs, out_size)\n",
    "    outputs = tf.nn.sigmoid(logit)\n",
    "    return outputs\n",
    "\n",
    "#making predictions\n",
    "pred = dynamicRNN(x)\n",
    "    \n",
    "# Define loss and optimizer\n",
    "cost = tf.reduce_mean(tf.nn.sigmoid_cross_entropy_with_logits(logits=pred, labels=y))\n",
    "if(optimize_using == \"momentum\"):\n",
    "    optimizer = tf.train.MomentumOptimizer(learning_rate=learning_tf_rate,momentum=0.9).minimize(cost)\n",
    "elif (optimize_using == \"adagrad\"):\n",
    "    optimizer = tf.train.AdagradOptimizer(learning_rate=learning_tf_rate).minimize(cost)\n",
    "elif (optimize_using == \"adam\"):\n",
    "    optimizer = tf.train.AdamOptimizer(learning_rate=learning_tf_rate).minimize(cost)\n",
    "    \n",
    "\n",
    "# Evaluate model - use AUC to evaluate model\n",
    "auc,  opts = tf.metrics.auc(labels = y_taskid, predictions = pred, curve='ROC')"
   ]
  },
  {
   "cell_type": "markdown",
   "metadata": {},
   "source": [
    "Training the model for hyperparameter (learning rate) tuning."
   ]
  },
  {
   "cell_type": "code",
   "execution_count": 109,
   "metadata": {
    "scrolled": false
   },
   "outputs": [
    {
     "name": "stdout",
     "output_type": "stream",
     "text": [
      "1-fold cross-validation\n",
      "Current Learning Rate: 1e-05\n",
      "Picking validation set from position: 0\n",
      "Step 1, Loss = 0.9667708, Learning Rate = 1e-05, Train AUC:0.7380419\n",
      "Step 20, Loss = 0.9667416, Learning Rate = 1e-05, Train AUC:0.73790866\n",
      "Step 40, Loss = 0.9667096, Learning Rate = 1e-05, Train AUC:0.7376664\n",
      "Valid_auc_taskid: 0.73776305 with k = 1\n",
      "Optimization Finished!\n",
      "2-fold cross-validation\n",
      "Current Learning Rate: 1e-05\n",
      "Picking validation set from position: 1\n",
      "Step 1, Loss = 0.9666594, Learning Rate = 1e-05, Train AUC:0.63231206\n",
      "Step 20, Loss = 0.9666199, Learning Rate = 1e-05, Train AUC:0.63070047\n",
      "Step 40, Loss = 0.966586, Learning Rate = 1e-05, Train AUC:0.62925243\n",
      "Valid_auc_taskid: 0.6283644 with k = 2\n",
      "Optimization Finished!\n",
      "3-fold cross-validation\n",
      "Current Learning Rate: 1e-05\n",
      "Picking validation set from position: 2\n",
      "Step 1, Loss = 0.9665316, Learning Rate = 1e-05, Train AUC:0.62026703\n",
      "Step 20, Loss = 0.9665024, Learning Rate = 1e-05, Train AUC:0.6197806\n",
      "Step 40, Loss = 0.96647424, Learning Rate = 1e-05, Train AUC:0.61880815\n",
      "Valid_auc_taskid: 0.61863613 with k = 3\n",
      "Optimization Finished!\n",
      "4-fold cross-validation\n",
      "Current Learning Rate: 1e-05\n",
      "Picking validation set from position: 3\n",
      "Step 1, Loss = 0.966617, Learning Rate = 1e-05, Train AUC:0.7262423\n",
      "Step 20, Loss = 0.96659136, Learning Rate = 1e-05, Train AUC:0.7245219\n",
      "Step 40, Loss = 0.96656317, Learning Rate = 1e-05, Train AUC:0.72246456\n",
      "Valid_auc_taskid: 0.7223149 with k = 4\n",
      "Optimization Finished!\n",
      "5-fold cross-validation\n",
      "Current Learning Rate: 1e-05\n",
      "Picking validation set from position: 4\n",
      "Step 1, Loss = 0.9665634, Learning Rate = 1e-05, Train AUC:0.6679056\n",
      "Step 20, Loss = 0.9665396, Learning Rate = 1e-05, Train AUC:0.6676091\n",
      "Step 40, Loss = 0.9665122, Learning Rate = 1e-05, Train AUC:0.6673054\n",
      "Valid_auc_taskid: 0.667559 with k = 5\n",
      "Optimization Finished!\n",
      "6-fold cross-validation\n",
      "Current Learning Rate: 1e-05\n",
      "Picking validation set from position: 5\n",
      "Step 1, Loss = 0.9668911, Learning Rate = 1e-05, Train AUC:0.7752132\n",
      "Step 20, Loss = 0.96685714, Learning Rate = 1e-05, Train AUC:0.77314645\n",
      "Step 40, Loss = 0.96682435, Learning Rate = 1e-05, Train AUC:0.7717281\n",
      "Valid_auc_taskid: 0.7712974 with k = 6\n",
      "Optimization Finished!\n",
      "7-fold cross-validation\n",
      "Current Learning Rate: 1e-05\n",
      "Picking validation set from position: 6\n",
      "Step 1, Loss = 0.9664996, Learning Rate = 1e-05, Train AUC:0.62690914\n",
      "Step 20, Loss = 0.9664662, Learning Rate = 1e-05, Train AUC:0.6255097\n",
      "Step 40, Loss = 0.96643305, Learning Rate = 1e-05, Train AUC:0.62448734\n",
      "Valid_auc_taskid: 0.62417984 with k = 7\n",
      "Optimization Finished!\n",
      "8-fold cross-validation\n",
      "Current Learning Rate: 1e-05\n",
      "Picking validation set from position: 7\n",
      "Step 1, Loss = 0.96684617, Learning Rate = 1e-05, Train AUC:0.6584728\n",
      "Step 20, Loss = 0.966814, Learning Rate = 1e-05, Train AUC:0.6573965\n",
      "Step 40, Loss = 0.9667784, Learning Rate = 1e-05, Train AUC:0.6562895\n",
      "Valid_auc_taskid: 0.65565294 with k = 8\n",
      "Optimization Finished!\n",
      "9-fold cross-validation\n",
      "Current Learning Rate: 1e-05\n",
      "Picking validation set from position: 8\n",
      "Step 1, Loss = 0.9662617, Learning Rate = 1e-05, Train AUC:0.617665\n",
      "Step 20, Loss = 0.96623564, Learning Rate = 1e-05, Train AUC:0.61742616\n",
      "Step 40, Loss = 0.9662121, Learning Rate = 1e-05, Train AUC:0.61713785\n",
      "Valid_auc_taskid: 0.61766416 with k = 9\n",
      "Optimization Finished!\n",
      "Train_auc_taskid: 0.61777484\n",
      "Average Valid_auc_taskid: 0.67149246\n",
      "1-fold cross-validation\n",
      "Current Learning Rate: 0.00017782794\n",
      "Picking validation set from position: 0\n",
      "Step 1, Loss = 0.96693206, Learning Rate = 0.00017782794, Train AUC:0.66688573\n",
      "Step 20, Loss = 0.96639305, Learning Rate = 0.00017782794, Train AUC:0.65429604\n",
      "Step 40, Loss = 0.96603405, Learning Rate = 0.00017782794, Train AUC:0.64260745\n",
      "Valid_auc_taskid: 0.64200896 with k = 1\n",
      "Optimization Finished!\n",
      "2-fold cross-validation\n",
      "Current Learning Rate: 0.00017782794\n",
      "Picking validation set from position: 1\n",
      "Step 1, Loss = 0.966312, Learning Rate = 0.00017782794, Train AUC:0.64011306\n",
      "Step 20, Loss = 0.9659752, Learning Rate = 0.00017782794, Train AUC:0.6333059\n",
      "Step 40, Loss = 0.96577525, Learning Rate = 0.00017782794, Train AUC:0.6250976\n",
      "Valid_auc_taskid: 0.6249462 with k = 2\n",
      "Optimization Finished!\n",
      "3-fold cross-validation\n",
      "Current Learning Rate: 0.00017782794\n",
      "Picking validation set from position: 2\n",
      "Step 1, Loss = 0.9666119, Learning Rate = 0.00017782794, Train AUC:0.7754646\n",
      "Step 20, Loss = 0.9661635, Learning Rate = 0.00017782794, Train AUC:0.7543316\n",
      "Step 40, Loss = 0.96589065, Learning Rate = 0.00017782794, Train AUC:0.74106413\n",
      "Valid_auc_taskid: 0.73995167 with k = 3\n",
      "Optimization Finished!\n",
      "4-fold cross-validation\n",
      "Current Learning Rate: 0.00017782794\n",
      "Picking validation set from position: 3\n",
      "Step 1, Loss = 0.9664636, Learning Rate = 0.00017782794, Train AUC:0.6638817\n",
      "Step 20, Loss = 0.96610004, Learning Rate = 0.00017782794, Train AUC:0.6555071\n",
      "Step 40, Loss = 0.96583796, Learning Rate = 0.00017782794, Train AUC:0.6509691\n",
      "Valid_auc_taskid: 0.65029436 with k = 4\n",
      "Optimization Finished!\n",
      "5-fold cross-validation\n",
      "Current Learning Rate: 0.00017782794\n",
      "Picking validation set from position: 4\n",
      "Step 1, Loss = 0.96649015, Learning Rate = 0.00017782794, Train AUC:0.72521925\n",
      "Step 20, Loss = 0.9661503, Learning Rate = 0.00017782794, Train AUC:0.7162172\n",
      "Step 40, Loss = 0.96590865, Learning Rate = 0.00017782794, Train AUC:0.7048029\n",
      "Valid_auc_taskid: 0.70429593 with k = 5\n",
      "Optimization Finished!\n",
      "6-fold cross-validation\n",
      "Current Learning Rate: 0.00017782794\n",
      "Picking validation set from position: 5\n",
      "Step 1, Loss = 0.9668103, Learning Rate = 0.00017782794, Train AUC:0.6920486\n",
      "Step 20, Loss = 0.9662873, Learning Rate = 0.00017782794, Train AUC:0.68311024\n",
      "Step 40, Loss = 0.965973, Learning Rate = 0.00017782794, Train AUC:0.674011\n",
      "Valid_auc_taskid: 0.67285 with k = 6\n",
      "Optimization Finished!\n",
      "7-fold cross-validation\n",
      "Current Learning Rate: 0.00017782794\n",
      "Picking validation set from position: 6\n",
      "Step 1, Loss = 0.96681184, Learning Rate = 0.00017782794, Train AUC:0.77502155\n",
      "Step 20, Loss = 0.96631294, Learning Rate = 0.00017782794, Train AUC:0.7657758\n",
      "Step 40, Loss = 0.9659452, Learning Rate = 0.00017782794, Train AUC:0.75215787\n",
      "Valid_auc_taskid: 0.7520121 with k = 7\n",
      "Optimization Finished!\n",
      "8-fold cross-validation\n",
      "Current Learning Rate: 0.00017782794\n",
      "Picking validation set from position: 7\n",
      "Step 1, Loss = 0.9665412, Learning Rate = 0.00017782794, Train AUC:0.68194735\n",
      "Step 20, Loss = 0.966067, Learning Rate = 0.00017782794, Train AUC:0.6658577\n",
      "Step 40, Loss = 0.96578336, Learning Rate = 0.00017782794, Train AUC:0.64880514\n",
      "Valid_auc_taskid: 0.64684296 with k = 8\n",
      "Optimization Finished!\n",
      "9-fold cross-validation\n",
      "Current Learning Rate: 0.00017782794\n",
      "Picking validation set from position: 8\n",
      "Step 1, Loss = 0.96661, Learning Rate = 0.00017782794, Train AUC:0.68534464\n",
      "Step 20, Loss = 0.9661365, Learning Rate = 0.00017782794, Train AUC:0.6814323\n",
      "Step 40, Loss = 0.96585524, Learning Rate = 0.00017782794, Train AUC:0.6746779\n",
      "Valid_auc_taskid: 0.6725 with k = 9\n",
      "Optimization Finished!\n",
      "Train_auc_taskid: 0.6683642\n",
      "Average Valid_auc_taskid: 0.67841136\n",
      "1-fold cross-validation\n",
      "Current Learning Rate: 0.0031622776\n",
      "Picking validation set from position: 0\n",
      "Step 1, Loss = 0.96637094, Learning Rate = 0.0031622776, Train AUC:0.6305267\n",
      "Step 20, Loss = 0.9656417, Learning Rate = 0.0031622776, Train AUC:0.5993546\n",
      "Step 40, Loss = 0.96562684, Learning Rate = 0.0031622776, Train AUC:0.5899098\n",
      "Valid_auc_taskid: 0.5890487 with k = 1\n",
      "Optimization Finished!\n",
      "2-fold cross-validation\n",
      "Current Learning Rate: 0.0031622776\n",
      "Picking validation set from position: 1\n",
      "Step 1, Loss = 0.96634716, Learning Rate = 0.0031622776, Train AUC:0.6487908\n",
      "Step 20, Loss = 0.9656573, Learning Rate = 0.0031622776, Train AUC:0.6089989\n",
      "Step 40, Loss = 0.9656447, Learning Rate = 0.0031622776, Train AUC:0.5999511\n",
      "Valid_auc_taskid: 0.5994026 with k = 2\n",
      "Optimization Finished!\n",
      "3-fold cross-validation\n",
      "Current Learning Rate: 0.0031622776\n",
      "Picking validation set from position: 2\n",
      "Step 1, Loss = 0.96627307, Learning Rate = 0.0031622776, Train AUC:0.6476394\n",
      "Step 20, Loss = 0.9656402, Learning Rate = 0.0031622776, Train AUC:0.60534436\n",
      "Step 40, Loss = 0.96561134, Learning Rate = 0.0031622776, Train AUC:0.59170914\n",
      "Valid_auc_taskid: 0.5907042 with k = 3\n",
      "Optimization Finished!\n",
      "4-fold cross-validation\n",
      "Current Learning Rate: 0.0031622776\n",
      "Picking validation set from position: 3\n"
     ]
    },
    {
     "name": "stdout",
     "output_type": "stream",
     "text": [
      "Step 1, Loss = 0.96632236, Learning Rate = 0.0031622776, Train AUC:0.6269261\n",
      "Step 20, Loss = 0.96559155, Learning Rate = 0.0031622776, Train AUC:0.56347305\n",
      "Step 40, Loss = 0.96559155, Learning Rate = 0.0031622776, Train AUC:0.54230756\n",
      "Valid_auc_taskid: 0.54067075 with k = 4\n",
      "Optimization Finished!\n",
      "5-fold cross-validation\n",
      "Current Learning Rate: 0.0031622776\n",
      "Picking validation set from position: 4\n",
      "Step 1, Loss = 0.9662424, Learning Rate = 0.0031622776, Train AUC:0.63925016\n",
      "Step 20, Loss = 0.96561134, Learning Rate = 0.0031622776, Train AUC:0.5751304\n",
      "Step 40, Loss = 0.96560794, Learning Rate = 0.0031622776, Train AUC:0.5542335\n",
      "Valid_auc_taskid: 0.5525202 with k = 5\n",
      "Optimization Finished!\n",
      "6-fold cross-validation\n",
      "Current Learning Rate: 0.0031622776\n",
      "Picking validation set from position: 5\n",
      "Step 1, Loss = 0.96640074, Learning Rate = 0.0031622776, Train AUC:0.5544811\n",
      "Step 20, Loss = 0.9656537, Learning Rate = 0.0031622776, Train AUC:0.5333892\n",
      "Step 40, Loss = 0.9656536, Learning Rate = 0.0031622776, Train AUC:0.5314959\n",
      "Valid_auc_taskid: 0.5312874 with k = 6\n",
      "Optimization Finished!\n",
      "7-fold cross-validation\n",
      "Current Learning Rate: 0.0031622776\n",
      "Picking validation set from position: 6\n",
      "Step 1, Loss = 0.9660956, Learning Rate = 0.0031622776, Train AUC:0.5735272\n",
      "Step 20, Loss = 0.96553147, Learning Rate = 0.0031622776, Train AUC:0.56673825\n",
      "Step 40, Loss = 0.96551895, Learning Rate = 0.0031622776, Train AUC:0.5645581\n",
      "Valid_auc_taskid: 0.5646521 with k = 7\n",
      "Optimization Finished!\n",
      "8-fold cross-validation\n",
      "Current Learning Rate: 0.0031622776\n",
      "Picking validation set from position: 7\n",
      "Step 1, Loss = 0.9661868, Learning Rate = 0.0031622776, Train AUC:0.62580836\n",
      "Step 20, Loss = 0.96558124, Learning Rate = 0.0031622776, Train AUC:0.59627235\n",
      "Step 40, Loss = 0.96556497, Learning Rate = 0.0031622776, Train AUC:0.5883964\n",
      "Valid_auc_taskid: 0.58790725 with k = 8\n",
      "Optimization Finished!\n",
      "9-fold cross-validation\n",
      "Current Learning Rate: 0.0031622776\n",
      "Picking validation set from position: 8\n",
      "Step 1, Loss = 0.9660587, Learning Rate = 0.0031622776, Train AUC:0.698414\n",
      "Step 20, Loss = 0.9655157, Learning Rate = 0.0031622776, Train AUC:0.66573226\n",
      "Step 40, Loss = 0.9654547, Learning Rate = 0.0031622776, Train AUC:0.6749023\n",
      "Valid_auc_taskid: 0.6760029 with k = 9\n",
      "Optimization Finished!\n",
      "Train_auc_taskid: 0.6805545\n",
      "Average Valid_auc_taskid: 0.5813551\n",
      "1-fold cross-validation\n",
      "Current Learning Rate: 0.056234132\n",
      "Picking validation set from position: 0\n",
      "Step 1, Loss = 0.9661853, Learning Rate = 0.056234132, Train AUC:0.7330726\n",
      "Step 20, Loss = 0.9656448, Learning Rate = 0.056234132, Train AUC:0.6167962\n",
      "Step 40, Loss = 0.9656448, Learning Rate = 0.056234132, Train AUC:0.5779218\n",
      "Valid_auc_taskid: 0.5745871 with k = 1\n",
      "Optimization Finished!\n",
      "2-fold cross-validation\n",
      "Current Learning Rate: 0.056234132\n",
      "Picking validation set from position: 1\n",
      "Step 1, Loss = 0.96567124, Learning Rate = 0.056234132, Train AUC:0.57684225\n",
      "Step 20, Loss = 0.9656593, Learning Rate = 0.056234132, Train AUC:0.5384174\n",
      "Step 40, Loss = 0.9656593, Learning Rate = 0.056234132, Train AUC:0.52561074\n",
      "Valid_auc_taskid: 0.5244903 with k = 2\n",
      "Optimization Finished!\n",
      "3-fold cross-validation\n",
      "Current Learning Rate: 0.056234132\n",
      "Picking validation set from position: 2\n",
      "Step 1, Loss = 0.96571547, Learning Rate = 0.056234132, Train AUC:0.5761261\n",
      "Step 20, Loss = 0.9656422, Learning Rate = 0.056234132, Train AUC:0.538088\n",
      "Step 40, Loss = 0.9656422, Learning Rate = 0.056234132, Train AUC:0.5253976\n",
      "Valid_auc_taskid: 0.52431613 with k = 3\n",
      "Optimization Finished!\n",
      "4-fold cross-validation\n",
      "Current Learning Rate: 0.056234132\n",
      "Picking validation set from position: 3\n",
      "Step 1, Loss = 0.9656096, Learning Rate = 0.056234132, Train AUC:0.5262192\n",
      "Step 20, Loss = 0.96559155, Learning Rate = 0.056234132, Train AUC:0.51311165\n",
      "Step 40, Loss = 0.96559155, Learning Rate = 0.056234132, Train AUC:0.5087415\n",
      "Valid_auc_taskid: 0.5084018 with k = 4\n",
      "Optimization Finished!\n",
      "5-fold cross-validation\n",
      "Current Learning Rate: 0.056234132\n",
      "Picking validation set from position: 4\n",
      "Step 1, Loss = 0.9656263, Learning Rate = 0.056234132, Train AUC:0.50242054\n",
      "Step 20, Loss = 0.965612, Learning Rate = 0.056234132, Train AUC:0.50120896\n",
      "Step 40, Loss = 0.965612, Learning Rate = 0.056234132, Train AUC:0.50080574\n",
      "Valid_auc_taskid: 0.5007729 with k = 5\n",
      "Optimization Finished!\n",
      "6-fold cross-validation\n",
      "Current Learning Rate: 0.056234132\n",
      "Picking validation set from position: 5\n",
      "Step 1, Loss = 0.9656541, Learning Rate = 0.056234132, Train AUC:0.5015163\n",
      "Step 20, Loss = 0.9656536, Learning Rate = 0.056234132, Train AUC:0.5007582\n",
      "Step 40, Loss = 0.9656536, Learning Rate = 0.056234132, Train AUC:0.50050545\n",
      "Valid_auc_taskid: 0.50048345 with k = 6\n",
      "Optimization Finished!\n",
      "7-fold cross-validation\n",
      "Current Learning Rate: 0.056234132\n",
      "Picking validation set from position: 6\n",
      "Step 1, Loss = 0.9659541, Learning Rate = 0.056234132, Train AUC:0.6301946\n",
      "Step 20, Loss = 0.96553415, Learning Rate = 0.056234132, Train AUC:0.56546736\n",
      "Step 40, Loss = 0.96553415, Learning Rate = 0.056234132, Train AUC:0.5437273\n",
      "Valid_auc_taskid: 0.5422317 with k = 7\n",
      "Optimization Finished!\n",
      "8-fold cross-validation\n",
      "Current Learning Rate: 0.056234132\n",
      "Picking validation set from position: 7\n",
      "Step 1, Loss = 0.9656137, Learning Rate = 0.056234132, Train AUC:0.49846575\n",
      "Step 20, Loss = 0.9655815, Learning Rate = 0.056234132, Train AUC:0.4992332\n",
      "Step 40, Loss = 0.9655815, Learning Rate = 0.056234132, Train AUC:0.4994888\n",
      "Valid_auc_taskid: 0.49950954 with k = 8\n",
      "Optimization Finished!\n",
      "9-fold cross-validation\n",
      "Current Learning Rate: 0.056234132\n",
      "Picking validation set from position: 8\n",
      "Step 1, Loss = 0.96590585, Learning Rate = 0.056234132, Train AUC:0.57354814\n",
      "Step 20, Loss = 0.96552414, Learning Rate = 0.056234132, Train AUC:0.53661156\n",
      "Step 40, Loss = 0.96552414, Learning Rate = 0.056234132, Train AUC:0.5243715\n",
      "Valid_auc_taskid: 0.52356124 with k = 9\n",
      "Optimization Finished!\n",
      "Train_auc_taskid: 0.5173698\n",
      "Average Valid_auc_taskid: 0.5220394\n",
      "1-fold cross-validation\n",
      "Current Learning Rate: 1.0\n",
      "Picking validation set from position: 0\n",
      "Step 1, Loss = 0.9657543, Learning Rate = 1.0, Train AUC:0.49955624\n",
      "Step 20, Loss = 0.9656448, Learning Rate = 1.0, Train AUC:0.49977824\n",
      "Step 40, Loss = 0.9656448, Learning Rate = 1.0, Train AUC:0.49985218\n",
      "Valid_auc_taskid: 0.4998577 with k = 1\n",
      "Optimization Finished!\n",
      "2-fold cross-validation\n",
      "Current Learning Rate: 1.0\n",
      "Picking validation set from position: 1\n",
      "Step 1, Loss = 0.970057, Learning Rate = 1.0, Train AUC:0.61518484\n",
      "Step 20, Loss = 0.9656593, Learning Rate = 1.0, Train AUC:0.5576729\n",
      "Step 40, Loss = 0.9656593, Learning Rate = 1.0, Train AUC:0.5384667\n",
      "Valid_auc_taskid: 0.53676444 with k = 2\n",
      "Optimization Finished!\n",
      "3-fold cross-validation\n",
      "Current Learning Rate: 1.0\n",
      "Picking validation set from position: 2\n",
      "Step 1, Loss = 0.9679935, Learning Rate = 1.0, Train AUC:0.5822338\n",
      "Step 20, Loss = 0.9656422, Learning Rate = 1.0, Train AUC:0.54105407\n",
      "Step 40, Loss = 0.9656422, Learning Rate = 1.0, Train AUC:0.5273553\n",
      "Valid_auc_taskid: 0.5261865 with k = 3\n",
      "Optimization Finished!\n",
      "4-fold cross-validation\n",
      "Current Learning Rate: 1.0\n",
      "Picking validation set from position: 3\n",
      "Step 1, Loss = 0.96559155, Learning Rate = 1.0, Train AUC:0.5\n",
      "Step 20, Loss = 0.96559155, Learning Rate = 1.0, Train AUC:0.5\n",
      "Step 40, Loss = 0.96559155, Learning Rate = 1.0, Train AUC:0.5\n",
      "Valid_auc_taskid: 0.5 with k = 4\n",
      "Optimization Finished!\n",
      "5-fold cross-validation\n",
      "Current Learning Rate: 1.0\n",
      "Picking validation set from position: 4\n",
      "Step 1, Loss = 0.9687023, Learning Rate = 1.0, Train AUC:0.6081498\n",
      "Step 20, Loss = 0.965612, Learning Rate = 1.0, Train AUC:0.5539411\n",
      "Step 40, Loss = 0.965612, Learning Rate = 1.0, Train AUC:0.5359309\n",
      "Valid_auc_taskid: 0.53447664 with k = 5\n",
      "Optimization Finished!\n",
      "6-fold cross-validation\n",
      "Current Learning Rate: 1.0\n",
      "Picking validation set from position: 5\n",
      "Step 1, Loss = 0.9656536, Learning Rate = 1.0, Train AUC:0.5\n",
      "Step 20, Loss = 0.9656536, Learning Rate = 1.0, Train AUC:0.5\n",
      "Step 40, Loss = 0.9656536, Learning Rate = 1.0, Train AUC:0.5\n",
      "Valid_auc_taskid: 0.5 with k = 6\n",
      "Optimization Finished!\n",
      "7-fold cross-validation\n",
      "Current Learning Rate: 1.0\n",
      "Picking validation set from position: 6\n",
      "Step 1, Loss = 0.96553415, Learning Rate = 1.0, Train AUC:0.5\n",
      "Step 20, Loss = 0.96553415, Learning Rate = 1.0, Train AUC:0.5\n"
     ]
    },
    {
     "name": "stdout",
     "output_type": "stream",
     "text": [
      "Step 40, Loss = 0.96553415, Learning Rate = 1.0, Train AUC:0.5\n",
      "Valid_auc_taskid: 0.5 with k = 7\n",
      "Optimization Finished!\n",
      "8-fold cross-validation\n",
      "Current Learning Rate: 1.0\n",
      "Picking validation set from position: 7\n",
      "Step 1, Loss = 0.96618456, Learning Rate = 1.0, Train AUC:0.5026301\n",
      "Step 20, Loss = 0.9655815, Learning Rate = 1.0, Train AUC:0.5013138\n",
      "Step 40, Loss = 0.9655817, Learning Rate = 1.0, Train AUC:0.5008754\n",
      "Valid_auc_taskid: 0.5008433 with k = 8\n",
      "Optimization Finished!\n",
      "9-fold cross-validation\n",
      "Current Learning Rate: 1.0\n",
      "Picking validation set from position: 8\n",
      "Step 1, Loss = 0.96552414, Learning Rate = 1.0, Train AUC:0.5\n",
      "Step 20, Loss = 0.96552414, Learning Rate = 1.0, Train AUC:0.5\n",
      "Step 40, Loss = 0.96552414, Learning Rate = 1.0, Train AUC:0.5\n",
      "Valid_auc_taskid: 0.5 with k = 9\n",
      "Optimization Finished!\n",
      "Train_auc_taskid: 0.5\n",
      "Average Valid_auc_taskid: 0.5109031\n"
     ]
    }
   ],
   "source": [
    "plot_lr = []\n",
    "plot_valid_auc_taskid = []\n",
    "plot_train_auc_taskid = []\n",
    "with tf.Session() as sess:\n",
    "    for l_r in learning_rate:\n",
    "        plot_lr.append(l_r)    \n",
    "        valid_taskid_list = []\n",
    "        for k_fold in range(1,maximum_position+1):\n",
    "            # Initialize the variables (i.e. assign their default value)\n",
    "            print(str(k_fold)+\"-fold cross-validation\")\n",
    "            sess.run(tf.global_variables_initializer())\n",
    "            sess.run(tf.local_variables_initializer())\n",
    "            assign_op = learning_tf_rate.assign(l_r)\n",
    "            sess.run(assign_op)\n",
    "            print(\"Current Learning Rate: \"+str(learning_tf_rate.eval()))\n",
    "            train_set_seqlen,valid_set_seqlen,valid_set_x,valid_set_y,valid_set_y_taskid,train_set_x,train_set_y,train_set_y_taskid = get_next_train_valid_set(k_fold-1)\n",
    "            for step in range(1, training_steps+1):\n",
    "                batch_x = train_set_x\n",
    "                batch_y = train_set_y\n",
    "                sess.run(optimizer, feed_dict={x: batch_x, y: batch_y, y_taskid: train_set_y_taskid, seqlen_tf: train_set_seqlen})\n",
    "\n",
    "                if step % display_step == 0 or step == 1:\n",
    "                    loss,trainAUC,trainOPTS = sess.run([cost, auc, opts], feed_dict={x: batch_x, y: batch_y, y_taskid: train_set_y_taskid, seqlen_tf: train_set_seqlen})\n",
    "                    #print status\n",
    "                    print(\"Step \" + str(step) + \", Loss = \" + str(loss) + \", Learning Rate = \"+str(learning_tf_rate.eval()) + \", Train AUC:\" + str(trainOPTS))\n",
    "            #calculate validation AUC\n",
    "            valid_auc_taskid, valid_opts_taskid = sess.run([auc, opts], feed_dict={x: valid_set_x, y: valid_set_y, y_taskid: valid_set_y_taskid, seqlen_tf: valid_set_seqlen})\n",
    "            print(\"Valid_auc_taskid: \" + str(valid_opts_taskid) + \" with k = \"+str(k_fold))\n",
    "            valid_taskid_list.append(valid_opts_taskid)\n",
    "            print(\"Optimization Finished!\")\n",
    "    \n",
    "        #calculate training AUC (it should take both validation and training sets)\n",
    "        train_auc_taskid, train_opts_taskid = sess.run([auc, opts], feed_dict={x: training_x, y: training_y, y_taskid: training_y_taskid, seqlen_tf: training_seqlen})\n",
    "\n",
    "        print(\"Train_auc_taskid: \" + str(train_opts_taskid))\n",
    "        plot_train_auc_taskid.append(train_opts_taskid)\n",
    "        \n",
    "        #take average of validation AUCs\n",
    "        valid_avg_taskid = np.mean(valid_taskid_list)\n",
    "        \n",
    "        print(\"Average Valid_auc_taskid: \" + str(valid_avg_taskid))\n",
    "        plot_valid_auc_taskid.append(valid_avg_taskid)"
   ]
  },
  {
   "cell_type": "markdown",
   "metadata": {},
   "source": [
    "Plotting validation set ccssm auc across different learning rates."
   ]
  },
  {
   "cell_type": "code",
   "execution_count": 110,
   "metadata": {},
   "outputs": [
    {
     "data": {
      "image/png": "[encoded data removed]",
      "text/plain": [
       "<matplotlib.figure.Figure at 0x1244c17f0>"
      ]
     },
     "metadata": {},
     "output_type": "display_data"
    },
    {
     "name": "stdout",
     "output_type": "stream",
     "text": [
      "[1.00000000e-05 1.77827941e-04 3.16227766e-03 5.62341325e-02\n",
      " 1.00000000e+00]\n"
     ]
    }
   ],
   "source": [
    "plt.title(\"Training Set AUC\")\n",
    "plt.xlabel(\"Learning Rate Index\")\n",
    "plt.ylabel(\"AUC\")\n",
    "plt.plot(plot_train_auc_taskid,'r--',label='train')\n",
    "plt.plot(plot_valid_auc_taskid,label='valid')\n",
    "plt.legend(loc='best', fancybox=True, framealpha=0.5)\n",
    "plt.show()\n",
    "print(learning_rate)"
   ]
  },
  {
   "cell_type": "markdown",
   "metadata": {},
   "source": [
    "#http://www.wildml.com/2016/08/rnns-in-tensorflow-a-practical-guide-and-undocumented-features/"
   ]
  },
  {
   "cell_type": "markdown",
   "metadata": {},
   "source": [
    "Now Training the model with hyperparameters chosen from above and calculating testing AUC."
   ]
  },
  {
   "cell_type": "code",
   "execution_count": 111,
   "metadata": {},
   "outputs": [
    {
     "name": "stdout",
     "output_type": "stream",
     "text": [
      "Final Learning Rate: 0.00017782794\n",
      "Step 1, Loss = [0.9665413], Learning Rate = 0.00017782794\n",
      "Step 20, Loss = [0.9660948], Learning Rate = 0.00017782794\n",
      "Step 40, Loss = [0.9657899], Learning Rate = 0.00017782794\n",
      "Step 60, Loss = [0.965599], Learning Rate = 0.00017782794\n",
      "Step 80, Loss = [0.96548843], Learning Rate = 0.00017782794\n",
      "Optimization Finished!\n",
      "Train_auc_taskid: 0.6155131\n",
      "Testing auc for taskid: 0.6163878\n"
     ]
    }
   ],
   "source": [
    "final_l_r = plot_lr[np.argmax(plot_valid_auc_taskid)]\n",
    "with tf.Session() as sess:\n",
    "    for l_r in [1.77827941e-04]:\n",
    "        # Initialize the variables (i.e. assign their default value)\n",
    "        sess.run(tf.global_variables_initializer())\n",
    "        sess.run(tf.local_variables_initializer())\n",
    "        assign_op = learning_tf_rate.assign(l_r)\n",
    "        sess.run(assign_op)\n",
    "        print(\"Final Learning Rate: \"+str(learning_tf_rate.eval()))\n",
    "        for step in range(1, training_steps*2+1):\n",
    "            sess.run(optimizer, feed_dict={x: training_x, y: training_y, y_taskid: training_y_taskid, seqlen_tf: training_seqlen})\n",
    "            \n",
    "            if step % display_step == 0 or step == 1:\n",
    "                loss= sess.run([cost], feed_dict={x: training_x, y: training_y, y_taskid: training_y_taskid, seqlen_tf: training_seqlen})\n",
    "                #print status\n",
    "                print(\"Step \" + str(step) + \", Loss = \" + str(loss) + \", Learning Rate = \"+str(learning_tf_rate.eval()))\n",
    "        print(\"Optimization Finished!\")\n",
    "    \n",
    "        #calculate training AUC\n",
    "        train_auc_taskid, train_opts_taskid = sess.run([auc, opts], feed_dict={x: training_x, y: training_y, y_taskid: training_y_taskid, seqlen_tf: training_seqlen})\n",
    "        print(\"Train_auc_taskid: \" + str(train_opts_taskid))\n",
    "        \n",
    "    # Calculate test auc\n",
    "    temp_auc_taskid, temp_opts_taskid = sess.run([auc, opts], feed_dict={x: test_x, y: test_y, y_taskid: test_y_taskid,seqlen_tf: test_seqlen})\n",
    "    print(\"Testing auc for taskid: \" + str(temp_opts_taskid))"
   ]
  },
  {
   "cell_type": "code",
   "execution_count": 112,
   "metadata": {},
   "outputs": [
    {
     "name": "stdout",
     "output_type": "stream",
     "text": [
      "Final Learning Rate: 0.00017782794\n",
      "Step 1, Loss = [0.9662086], Learning Rate = 0.00017782794\n",
      "Step 20, Loss = [0.96580964], Learning Rate = 0.00017782794\n",
      "Step 40, Loss = [0.96557605], Learning Rate = 0.00017782794\n",
      "Step 60, Loss = [0.96547127], Learning Rate = 0.00017782794\n",
      "Step 80, Loss = [0.9654327], Learning Rate = 0.00017782794\n",
      "Optimization Finished!\n",
      "Train_auc_taskid: 0.6355657\n",
      "Testing auc for taskid: 0.6331784\n"
     ]
    }
   ],
   "source": [
    "final_l_r = plot_lr[np.argmax(plot_valid_auc_taskid)]\n",
    "with tf.Session() as sess:\n",
    "    for l_r in [1.77827941e-04]:\n",
    "        # Initialize the variables (i.e. assign their default value)\n",
    "        sess.run(tf.global_variables_initializer())\n",
    "        sess.run(tf.local_variables_initializer())\n",
    "        assign_op = learning_tf_rate.assign(l_r)\n",
    "        sess.run(assign_op)\n",
    "        print(\"Final Learning Rate: \"+str(learning_tf_rate.eval()))\n",
    "        for step in range(1, training_steps*2+1):\n",
    "            sess.run(optimizer, feed_dict={x: training_x, y: training_y, y_taskid: training_y_taskid, seqlen_tf: training_seqlen})\n",
    "            \n",
    "            if step % display_step == 0 or step == 1:\n",
    "                loss= sess.run([cost], feed_dict={x: training_x, y: training_y, y_taskid: training_y_taskid, seqlen_tf: training_seqlen})\n",
    "                #print status\n",
    "                print(\"Step \" + str(step) + \", Loss = \" + str(loss) + \", Learning Rate = \"+str(learning_tf_rate.eval()))\n",
    "        print(\"Optimization Finished!\")\n",
    "    \n",
    "        #calculate training AUC\n",
    "        train_auc_taskid, train_opts_taskid = sess.run([auc, opts], feed_dict={x: training_x, y: training_y, y_taskid: training_y_taskid, seqlen_tf: training_seqlen})\n",
    "        print(\"Train_auc_taskid: \" + str(train_opts_taskid))\n",
    "        \n",
    "    # Calculate test auc\n",
    "    temp_auc_taskid, temp_opts_taskid = sess.run([auc, opts], feed_dict={x: test_x, y: test_y, y_taskid: test_y_taskid,seqlen_tf: test_seqlen})\n",
    "    print(\"Testing auc for taskid: \" + str(temp_opts_taskid))"
   ]
  },
  {
   "cell_type": "code",
   "execution_count": 113,
   "metadata": {},
   "outputs": [
    {
     "name": "stdout",
     "output_type": "stream",
     "text": [
      "Final Learning Rate: 0.0031622776\n",
      "Step 1, Loss = [0.965967], Learning Rate = 0.0031622776\n",
      "Step 20, Loss = [0.9654031], Learning Rate = 0.0031622776\n",
      "Step 40, Loss = [0.9653683], Learning Rate = 0.0031622776\n",
      "Step 60, Loss = [0.96532255], Learning Rate = 0.0031622776\n",
      "Step 80, Loss = [0.96525156], Learning Rate = 0.0031622776\n",
      "Optimization Finished!\n",
      "Train_auc_taskid: 0.6022035\n",
      "Testing auc for taskid: 0.6028356\n"
     ]
    }
   ],
   "source": [
    "final_l_r = plot_lr[np.argmax(plot_valid_auc_taskid)]\n",
    "with tf.Session() as sess:\n",
    "    for l_r in [3.16227766e-03]:\n",
    "        # Initialize the variables (i.e. assign their default value)\n",
    "        sess.run(tf.global_variables_initializer())\n",
    "        sess.run(tf.local_variables_initializer())\n",
    "        assign_op = learning_tf_rate.assign(l_r)\n",
    "        sess.run(assign_op)\n",
    "        print(\"Final Learning Rate: \"+str(learning_tf_rate.eval()))\n",
    "        for step in range(1, training_steps*2+1):\n",
    "            sess.run(optimizer, feed_dict={x: training_x, y: training_y, y_taskid: training_y_taskid, seqlen_tf: training_seqlen})\n",
    "            \n",
    "            if step % display_step == 0 or step == 1:\n",
    "                loss= sess.run([cost], feed_dict={x: training_x, y: training_y, y_taskid: training_y_taskid, seqlen_tf: training_seqlen})\n",
    "                #print status\n",
    "                print(\"Step \" + str(step) + \", Loss = \" + str(loss) + \", Learning Rate = \"+str(learning_tf_rate.eval()))\n",
    "        print(\"Optimization Finished!\")\n",
    "    \n",
    "        #calculate training AUC\n",
    "        train_auc_taskid, train_opts_taskid = sess.run([auc, opts], feed_dict={x: training_x, y: training_y, y_taskid: training_y_taskid, seqlen_tf: training_seqlen})\n",
    "        print(\"Train_auc_taskid: \" + str(train_opts_taskid))\n",
    "        \n",
    "    # Calculate test auc\n",
    "    temp_auc_taskid, temp_opts_taskid = sess.run([auc, opts], feed_dict={x: test_x, y: test_y, y_taskid: test_y_taskid,seqlen_tf: test_seqlen})\n",
    "    print(\"Testing auc for taskid: \" + str(temp_opts_taskid))"
   ]
  },
  {
   "cell_type": "code",
   "execution_count": 118,
   "metadata": {},
   "outputs": [
    {
     "name": "stdout",
     "output_type": "stream",
     "text": [
      "Final Learning Rate: 1e-05\n",
      "Step 1, Loss = [0.96649164], Learning Rate = 1e-05\n",
      "Step 20, Loss = [0.966464], Learning Rate = 1e-05\n",
      "Step 40, Loss = [0.966427], Learning Rate = 1e-05\n",
      "Step 60, Loss = [0.96639806], Learning Rate = 1e-05\n",
      "Step 80, Loss = [0.96637046], Learning Rate = 1e-05\n",
      "Optimization Finished!\n",
      "Train_auc_taskid: 0.6767011\n",
      "Testing auc for taskid: 0.68035626\n"
     ]
    }
   ],
   "source": [
    "final_l_r = plot_lr[np.argmax(plot_valid_auc_taskid)]\n",
    "with tf.Session() as sess:\n",
    "    for l_r in [0.00001]:\n",
    "        # Initialize the variables (i.e. assign their default value)\n",
    "        sess.run(tf.global_variables_initializer())\n",
    "        sess.run(tf.local_variables_initializer())\n",
    "        assign_op = learning_tf_rate.assign(l_r)\n",
    "        sess.run(assign_op)\n",
    "        print(\"Final Learning Rate: \"+str(learning_tf_rate.eval()))\n",
    "        for step in range(1, training_steps*2+1):\n",
    "            sess.run(optimizer, feed_dict={x: training_x, y: training_y, y_taskid: training_y_taskid, seqlen_tf: training_seqlen})\n",
    "            \n",
    "            if step % display_step == 0 or step == 1:\n",
    "                loss= sess.run([cost], feed_dict={x: training_x, y: training_y, y_taskid: training_y_taskid, seqlen_tf: training_seqlen})\n",
    "                #print status\n",
    "                print(\"Step \" + str(step) + \", Loss = \" + str(loss) + \", Learning Rate = \"+str(learning_tf_rate.eval()))\n",
    "        print(\"Optimization Finished!\")\n",
    "    \n",
    "        #calculate training AUC\n",
    "        train_auc_taskid, train_opts_taskid = sess.run([auc, opts], feed_dict={x: training_x, y: training_y, y_taskid: training_y_taskid, seqlen_tf: training_seqlen})\n",
    "        print(\"Train_auc_taskid: \" + str(train_opts_taskid))\n",
    "        \n",
    "    # Calculate test auc\n",
    "    temp_auc_taskid, temp_opts_taskid = sess.run([auc, opts], feed_dict={x: test_x, y: test_y, y_taskid: test_y_taskid,seqlen_tf: test_seqlen})\n",
    "    print(\"Testing auc for taskid: \" + str(temp_opts_taskid))"
   ]
  },
  {
   "cell_type": "code",
   "execution_count": 105,
   "metadata": {},
   "outputs": [
    {
     "data": {
      "text/plain": [
       "<Container object of 10 artists>"
      ]
     },
     "execution_count": 105,
     "metadata": {},
     "output_type": "execute_result"
    },
    {
     "data": {
      "image/png": "[encoded data removed]",
      "text/plain": [
       "<matplotlib.figure.Figure at 0x124dbbe48>"
      ]
     },
     "metadata": {},
     "output_type": "display_data"
    }
   ],
   "source": [
    "from collections import Counter\n",
    "#frequency distribution of taskids\n",
    "cnt = Counter()\n",
    "cnt2 = Counter()\n",
    "another = {}\n",
    "position = 1\n",
    "another_2 = {}\n",
    "position_2 = 1\n",
    "for i in student_vectors:\n",
    "    for j in student_vectors[i]:\n",
    "        if j['ccssm'] not in another:\n",
    "            another[j['ccssm']] = \"label\" + str(position)\n",
    "            position = position + 1\n",
    "        cnt[another[j['ccssm']]] += 1\n",
    "        if j['task_id'] not in another_2:\n",
    "            another_2[j['task_id']] = \"task\" + str(position_2)\n",
    "            position_2 = position_2 + 1\n",
    "        cnt2[another_2[j['task_id']]] += 1\n",
    "plt.bar(cnt2.keys(), cnt2.values())"
   ]
  },
  {
   "cell_type": "code",
   "execution_count": 82,
   "metadata": {},
   "outputs": [
    {
     "data": {
      "text/plain": [
       "<Container object of 4 artists>"
      ]
     },
     "execution_count": 82,
     "metadata": {},
     "output_type": "execute_result"
    },
    {
     "data": {
      "image/png": "[encoded data removed]",
      "text/plain": [
       "<matplotlib.figure.Figure at 0x126d3fe80>"
      ]
     },
     "metadata": {},
     "output_type": "display_data"
    }
   ],
   "source": [
    "plt.bar(cnt.keys(), cnt.values())"
   ]
  },
  {
   "cell_type": "code",
   "execution_count": null,
   "metadata": {},
   "outputs": [],
   "source": []
  }
 ],
 "metadata": {
  "kernelspec": {
   "display_name": "Python 3",
   "language": "python",
   "name": "python3"
  },
  "language_info": {
   "codemirror_mode": {
    "name": "ipython",
    "version": 3
   },
   "file_extension": ".py",
   "mimetype": "text/x-python",
   "name": "python",
   "nbconvert_exporter": "python",
   "pygments_lexer": "ipython3",
   "version": "3.6.4"
  }
 },
 "nbformat": 4,
 "nbformat_minor": 2
}
