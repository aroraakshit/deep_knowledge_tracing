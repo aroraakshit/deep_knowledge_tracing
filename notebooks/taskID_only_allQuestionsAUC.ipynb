{
 "cells": [
  {
   "cell_type": "code",
   "execution_count": 1,
   "metadata": {},
   "outputs": [],
   "source": [
    "import json\n",
    "from sklearn.preprocessing import MultiLabelBinarizer\n",
    "import numpy as np\n",
    "import tensorflow as tf\n",
    "import pprint as pp\n",
    "import math\n",
    "import random\n",
    "import matplotlib.pyplot as plt\n",
    "%matplotlib inline"
   ]
  },
  {
   "cell_type": "markdown",
   "metadata": {},
   "source": [
    "This code can work with tf.VERSION = '1.4.1' (for MacOS High Sierra); functions may change for other versions."
   ]
  },
  {
   "cell_type": "markdown",
   "metadata": {},
   "source": [
    "Model Parameters:"
   ]
  },
  {
   "cell_type": "code",
   "execution_count": 2,
   "metadata": {},
   "outputs": [],
   "source": [
    "training_set_split = 0.6\n",
    "validation_set_split = 0.3\n",
    "learning_rate = np.logspace(-5,0,5)\n",
    "num_units = 50 #number of units in RNN cell\n",
    "training_steps = 10 #number of epochs\n",
    "display_step = 5 #number of epochs after which to display progress\n",
    "optimize_using = \"adam\" #other option: \"momentum\", \"adagrad\", \"adam\""
   ]
  },
  {
   "cell_type": "code",
   "execution_count": 3,
   "metadata": {},
   "outputs": [
    {
     "name": "stdout",
     "output_type": "stream",
     "text": [
      "Tensorflow version: 1.4.1\n"
     ]
    }
   ],
   "source": [
    "print(\"Tensorflow version: \" + str(tf.VERSION))"
   ]
  },
  {
   "cell_type": "markdown",
   "metadata": {},
   "source": [
    "Loading JSON file into dictionary called 'student_vectors'"
   ]
  },
  {
   "cell_type": "code",
   "execution_count": 4,
   "metadata": {},
   "outputs": [],
   "source": [
    "filepath = \"../data/student_vectors_n_task_10_n_limit_10000.json\"\n",
    "student_vectors = json.load(open(filepath))"
   ]
  },
  {
   "cell_type": "markdown",
   "metadata": {},
   "source": [
    "Collecting unique CCSSM labels and Task IDs"
   ]
  },
  {
   "cell_type": "code",
   "execution_count": 5,
   "metadata": {},
   "outputs": [
    {
     "name": "stdout",
     "output_type": "stream",
     "text": [
      "Number of unique task IDs: 10\n",
      "Number of students: 1255\n"
     ]
    }
   ],
   "source": [
    "task_ids = []\n",
    "for i in student_vectors:\n",
    "    for j in student_vectors[i]:\n",
    "        if j['task_id'] not in task_ids:\n",
    "            task_ids.append(j['task_id'])\n",
    "print(\"Number of unique task IDs: \" + str(len(task_ids)))\n",
    "print(\"Number of students: \" + str(len(student_vectors)))"
   ]
  },
  {
   "cell_type": "markdown",
   "metadata": {},
   "source": [
    "Input Data Distribution"
   ]
  },
  {
   "cell_type": "code",
   "execution_count": 6,
   "metadata": {},
   "outputs": [
    {
     "data": {
      "text/plain": [
       "<Container object of 10 artists>"
      ]
     },
     "execution_count": 6,
     "metadata": {},
     "output_type": "execute_result"
    },
    {
     "data": {
      "image/png": "[encoded data removed]",
      "text/plain": [
       "<matplotlib.figure.Figure at 0x11fcf8f60>"
      ]
     },
     "metadata": {},
     "output_type": "display_data"
    }
   ],
   "source": [
    "from collections import Counter\n",
    "#frequency distribution of taskids\n",
    "cnt = Counter()\n",
    "cnt2 = Counter()\n",
    "another = {}\n",
    "position = 1\n",
    "another_2 = {}\n",
    "position_2 = 1\n",
    "for i in student_vectors:\n",
    "    for j in student_vectors[i]:\n",
    "        if j['ccssm'] not in another:\n",
    "            another[j['ccssm']] = \"label\" + str(position)\n",
    "            position = position + 1\n",
    "        cnt[another[j['ccssm']]] += 1\n",
    "        if j['task_id'] not in another_2:\n",
    "            another_2[j['task_id']] = str(position_2)\n",
    "            position_2 = position_2 + 1\n",
    "        cnt2[another_2[j['task_id']]] += 1\n",
    "plt.bar(cnt2.keys(), cnt2.values())\n",
    "#plt.bar(cnt.keys(), cnt.values())"
   ]
  },
  {
   "cell_type": "markdown",
   "metadata": {},
   "source": [
    "Creating 1-hot encoding for Task IDs and CCSSM Labels"
   ]
  },
  {
   "cell_type": "code",
   "execution_count": 7,
   "metadata": {},
   "outputs": [],
   "source": [
    "#pre-processing for using MultiLabelBinarizer\n",
    "temp_ids = []\n",
    "for i in task_ids:\n",
    "    temp_ids.append([i])\n",
    "\n",
    "#generating encodings\n",
    "enc = MultiLabelBinarizer()\n",
    "task_ids_1hot = (enc.fit_transform(temp_ids)).astype(float)\n",
    "task_ids_classes = enc.classes_\n",
    "task_ids_dict = dict(zip(task_ids, task_ids_1hot))\n",
    "# print(\"\\n1-hot encoding for task IDs:\")\n",
    "# pp.pprint(task_ids_dict)"
   ]
  },
  {
   "cell_type": "markdown",
   "metadata": {},
   "source": [
    "Generating input sequences of interactions to feed the network. Say we have 3 task IDs; here is an example of interaction vectors generated:\n",
    "1. User correctly solves task 2 of label 3: [010   000]\n",
    "2. User incorrectly solves task 1 of label 2: [000   100]\n",
    "\n",
    "1-hot representation of task IDs: \n",
    "task ID 1: 1,0,0\n",
    "task ID 2: 0,1,0\n",
    "task ID 3: 0,0,1"
   ]
  },
  {
   "cell_type": "code",
   "execution_count": 8,
   "metadata": {},
   "outputs": [],
   "source": [
    "sequences = []\n",
    "output_y_taskid = []\n",
    "output_y = []\n",
    "seqlen = []\n",
    "incorrect_tid_vec = np.zeros((len(task_ids)), dtype=np.float)\n",
    "for i in student_vectors:\n",
    "    temp_seq = []\n",
    "    for j in student_vectors[i]:\n",
    "        if(j['second_try'] == False): #ignoring second_try\n",
    "            if(j['correct'] == True):\n",
    "                vec = np.concatenate([task_ids_dict[j['task_id']],incorrect_tid_vec])\n",
    "                temp_seq.append(vec)\n",
    "            else:\n",
    "                vec = np.concatenate([incorrect_tid_vec,task_ids_dict[j['task_id']]])\n",
    "                temp_seq.append(vec)\n",
    "    seqlen.append(len(temp_seq))\n",
    "    last_one = temp_seq.pop() #remove last interaction vector\n",
    "    sequences.append(temp_seq) #add it to x\n",
    "    first_one = temp_seq.pop(0) #remove first interaction vector\n",
    "    temp_seq.append(last_one)\n",
    "    output_y.append(temp_seq) #concatenate with last vector, and append to output!\n",
    "    output_y_taskid.append(temp_seq)\n",
    "    \n",
    "# print(\"Sample interaction vector: \")\n",
    "# pp.pprint(sequences[0][0])\n",
    "length_interaction_vector = 2*(len(task_ids)) #length of interaction vector"
   ]
  },
  {
   "cell_type": "markdown",
   "metadata": {},
   "source": [
    "Finding maximum sequence length."
   ]
  },
  {
   "cell_type": "code",
   "execution_count": 9,
   "metadata": {},
   "outputs": [
    {
     "name": "stdout",
     "output_type": "stream",
     "text": [
      "Maximum sequence length: 186\n"
     ]
    }
   ],
   "source": [
    "max_seqlen = max(seqlen)\n",
    "print(\"Maximum sequence length: \"+str(max_seqlen))"
   ]
  },
  {
   "cell_type": "markdown",
   "metadata": {},
   "source": [
    "Padding the sequences according to maximum sequence length. Making padded sequences of shape: number of students, maximum sequence length, length of interaction vector."
   ]
  },
  {
   "cell_type": "code",
   "execution_count": 10,
   "metadata": {},
   "outputs": [
    {
     "name": "stdout",
     "output_type": "stream",
     "text": [
      "Sequences have been padded according to the maximum sequence length. Final shape: (1255, 186, 20)\n"
     ]
    }
   ],
   "source": [
    "padded_sequences = np.zeros(shape=(len(student_vectors),max_seqlen,length_interaction_vector),dtype=float)\n",
    "for i in range(len(sequences)):\n",
    "    for j in range(len(sequences[i])):\n",
    "        padded_sequences[i][j] = sequences[i][j]\n",
    "print(\"Sequences have been padded according to the maximum sequence length. Final shape: \" + str(padded_sequences.shape))\n",
    "\n",
    "padded_output = np.zeros(shape=(len(student_vectors),max_seqlen,length_interaction_vector),dtype=float)\n",
    "for i in range(len(output_y)):\n",
    "    for j in range(len(output_y[i])):\n",
    "        padded_output[i][j] = output_y[i][j]\n",
    "        \n",
    "padded_output_taskid = np.zeros(shape=(len(student_vectors),max_seqlen,length_interaction_vector),dtype=float)\n",
    "for i in range(len(output_y_taskid)):\n",
    "    for j in range(len(output_y_taskid[i])):\n",
    "        padded_output_taskid[i][j] = output_y_taskid[i][j]"
   ]
  },
  {
   "cell_type": "markdown",
   "metadata": {},
   "source": [
    "Split the data into training and testing sets. The code for random split is ready.<br>\n",
    "Review: **Try using sklearn**"
   ]
  },
  {
   "cell_type": "code",
   "execution_count": 11,
   "metadata": {},
   "outputs": [
    {
     "name": "stdout",
     "output_type": "stream",
     "text": [
      "Splitting 1255 rows randomly into 754 for training, 376 for validation and 125 for testing.\n",
      "Implemented 3-fold cross validation.\n"
     ]
    }
   ],
   "source": [
    "split = round((training_set_split+validation_set_split)*len(student_vectors))\n",
    "\n",
    "tmp_rnd = 0\n",
    "training_x = np.zeros_like(padded_sequences[:split])\n",
    "training_y = np.zeros_like(np.asarray(padded_output)[:split])\n",
    "training_y_taskid = np.zeros_like(np.asarray(padded_output_taskid)[:split])\n",
    "training_seqlen = np.zeros_like(seqlen[:split])\n",
    "\n",
    "test_x = np.zeros_like(padded_sequences[split:])\n",
    "test_y = np.zeros_like(np.asarray(padded_output)[split:])\n",
    "test_y_taskid = np.zeros_like(np.asarray(padded_output_taskid)[split:])\n",
    "test_seqlen = np.zeros_like(seqlen[split:])\n",
    "\n",
    "itr = 0\n",
    "itr_tr = 0\n",
    "itr_te = 0\n",
    "import random\n",
    "#separating training and testing sets randomly\n",
    "for i in range(len(padded_sequences)):\n",
    "    if(random.uniform(0, 1) <= (training_set_split+validation_set_split) and itr_tr < split):\n",
    "        #add to training\n",
    "        training_x[itr_tr] = padded_sequences[itr]\n",
    "        training_y[itr_tr] = np.asarray(padded_output)[itr]\n",
    "        training_y_taskid[itr_tr] = np.asarray(padded_output_taskid)[itr]\n",
    "        training_seqlen[itr_tr] = seqlen[itr]\n",
    "        itr_tr = itr_tr + 1\n",
    "    elif(itr_te < (len(student_vectors) - split)):\n",
    "        #add to testing\n",
    "        test_x[itr_te] = padded_sequences[itr]\n",
    "        test_y[itr_te] = np.asarray(padded_output)[itr]\n",
    "        test_y_taskid[itr_te] = np.asarray(padded_output_taskid)[itr]\n",
    "        test_seqlen[itr_te] = seqlen[itr]\n",
    "        itr_te = itr_te + 1\n",
    "    else:\n",
    "        #add to training\n",
    "        training_x[itr_tr] = padded_sequences[itr]\n",
    "        training_y[itr_tr] = np.asarray(padded_output)[itr]\n",
    "        training_y_taskid[itr_tr] = np.asarray(padded_output_taskid)[itr]\n",
    "        training_seqlen[itr_tr] = seqlen[itr]\n",
    "        itr_tr = itr_tr + 1\n",
    "    itr = itr + 1\n",
    "\n",
    "#separating training & validation set\n",
    "# training_x = padded_sequences[:split]\n",
    "# training_y = np.asarray(padded_output)[:split]\n",
    "# training_y_taskid = np.asarray(padded_output_taskid)[:split]\n",
    "# training_seqlen = seqlen[:split]\n",
    "\n",
    "# #separating test set\n",
    "# test_x = padded_sequences[split:]\n",
    "# test_y = np.asarray(padded_output)[split:]\n",
    "# test_y_taskid = np.asarray(padded_output_taskid)[split:]\n",
    "# test_seqlen = seqlen[split:]\n",
    "\n",
    "#generating validation and training sets by implementing k-fold cross validation (k = maximum_position)\n",
    "validation_set_size = math.floor(validation_set_split * len(student_vectors))\n",
    "training_set_size = len(training_x) - validation_set_size\n",
    "maximum_position = math.floor(len(training_x) / validation_set_size)\n",
    "\n",
    "def get_next_train_valid_set(position):\n",
    "    if(position>=maximum_position):\n",
    "        position = position % maximum_position\n",
    "    print(\"Picking validation set from position: \"+str(position))\n",
    "    valid_start = position*validation_set_size\n",
    "    valid_end = valid_start + validation_set_size\n",
    "    \n",
    "    valid_set_x = training_x[valid_start : valid_end]\n",
    "    valid_set_y = training_y[valid_start : valid_end]\n",
    "    valid_set_y_taskid = np.asarray(training_y_taskid)[valid_start : valid_end]\n",
    "    valid_set_seqlen = np.asarray(training_seqlen[valid_start:valid_end])\n",
    "    \n",
    "    train_set_x = np.concatenate((training_x[:valid_start], training_x[valid_end:]))\n",
    "    train_set_y = np.concatenate((training_y[:valid_start], training_y[valid_end:]))\n",
    "    train_set_y_taskid = np.concatenate((np.asarray(training_y_taskid)[:valid_start], np.asarray(training_y_taskid)[valid_end:]))\n",
    "    train_set_seqlen = np.concatenate((np.asarray(training_seqlen)[:valid_start],np.asarray(training_seqlen)[valid_end:]))\n",
    "    \n",
    "    if(len(train_set_x) != training_set_size): #test\n",
    "        print(\"that's not good it is:\")\n",
    "        print(train_set_x.shape)\n",
    "    \n",
    "    return (train_set_seqlen,valid_set_seqlen,valid_set_x,valid_set_y,valid_set_y_taskid,train_set_x,train_set_y,train_set_y_taskid)\n",
    "\n",
    "print(\"Splitting \"+str(len(student_vectors))+\" rows randomly into \"+str(training_set_size)+ \" for training, \"+str(validation_set_size)+\" for validation and \"+str(len(test_x)) + \" for testing.\")\n",
    "print(\"Implemented \"+str(maximum_position)+\"-fold cross validation.\")"
   ]
  },
  {
   "cell_type": "markdown",
   "metadata": {},
   "source": [
    "Distribution of test set:"
   ]
  },
  {
   "cell_type": "code",
   "execution_count": 12,
   "metadata": {},
   "outputs": [
    {
     "data": {
      "image/png": "[encoded data removed]",
      "text/plain": [
       "<matplotlib.figure.Figure at 0x11fd10208>"
      ]
     },
     "metadata": {},
     "output_type": "display_data"
    }
   ],
   "source": [
    "from collections import Counter\n",
    "#frequency distribution of taskids\n",
    "cnt = Counter()\n",
    "another = {}\n",
    "position = 1\n",
    "for i in range(len(test_x)):\n",
    "    if str(test_x[i]) not in another:\n",
    "        another[str(test_x[i])] = str(position)\n",
    "        position = position + 1\n",
    "    cnt[another[str(test_x[i])]] += 1\n",
    "plt.bar(cnt.keys(), cnt.values())\n",
    "plt.title(\"Test Set Distribution of task IDs\")\n",
    "plt.show()"
   ]
  },
  {
   "cell_type": "markdown",
   "metadata": {},
   "source": [
    "Distribution of training set:"
   ]
  },
  {
   "cell_type": "code",
   "execution_count": 13,
   "metadata": {},
   "outputs": [
    {
     "data": {
      "image/png": "[encoded data removed]",
      "text/plain": [
       "<matplotlib.figure.Figure at 0x11fcf89b0>"
      ]
     },
     "metadata": {},
     "output_type": "display_data"
    }
   ],
   "source": [
    "#frequency distribution of taskids\n",
    "cnt = Counter()\n",
    "another = {}\n",
    "position = 1\n",
    "for i in range(len(training_x)):\n",
    "    if str(training_x[i]) not in another:\n",
    "        another[str(training_x[i])] = str(position)\n",
    "        position = position + 1\n",
    "    cnt[another[str(training_x[i])]] += 1\n",
    "plt.bar(cnt.keys(), cnt.values())\n",
    "plt.title(\"Training Set Distribution of task IDs\")\n",
    "plt.show()"
   ]
  },
  {
   "cell_type": "markdown",
   "metadata": {},
   "source": [
    "Building the model"
   ]
  },
  {
   "cell_type": "code",
   "execution_count": 14,
   "metadata": {},
   "outputs": [],
   "source": [
    "tf.reset_default_graph()\n",
    "\n",
    "#defining placeholders\n",
    "x = tf.placeholder(tf.float32, [None, max_seqlen, length_interaction_vector])\n",
    "y = tf.placeholder(tf.float32, [None, max_seqlen, length_interaction_vector])\n",
    "y_taskid = tf.placeholder(tf.float32, [None, max_seqlen, length_interaction_vector])\n",
    "seqlen_tf = tf.placeholder(tf.float32,[None])\n",
    "\n",
    "#defining tensorflow variables\n",
    "learning_tf_rate = tf.Variable(0.0, name=\"learning_tf_rate\",dtype=tf.float32,trainable=False)\n",
    "\n",
    "#dynamic RNN definition\n",
    "def dynamicRNN(x):\n",
    "    rnn_cell = tf.nn.rnn_cell.BasicLSTMCell(num_units)\n",
    "    outputs, states = tf.nn.dynamic_rnn(rnn_cell, x, dtype=tf.float32,sequence_length=seqlen_tf)\n",
    "    out_size = length_interaction_vector\n",
    "    logit = tf.contrib.layers.fully_connected(outputs, out_size)\n",
    "    outputs = tf.nn.sigmoid(logit)\n",
    "    return outputs\n",
    "\n",
    "#making predictions\n",
    "pred = dynamicRNN(x)\n",
    "    \n",
    "# Define loss and optimizer\n",
    "cost = tf.reduce_mean(tf.nn.sigmoid_cross_entropy_with_logits(logits=pred, labels=y))\n",
    "if(optimize_using == \"momentum\"):\n",
    "    optimizer = tf.train.MomentumOptimizer(learning_rate=learning_tf_rate,momentum=0.9).minimize(cost)\n",
    "elif (optimize_using == \"adagrad\"):\n",
    "    optimizer = tf.train.AdagradOptimizer(learning_rate=learning_tf_rate).minimize(cost)\n",
    "elif (optimize_using == \"adam\"):\n",
    "    optimizer = tf.train.AdamOptimizer(learning_rate=learning_tf_rate).minimize(cost)\n",
    "    \n",
    "\n",
    "# Evaluate model - use AUC to evaluate model\n",
    "auc,  opts = tf.metrics.auc(labels = y_taskid, predictions = pred, curve='ROC')"
   ]
  },
  {
   "cell_type": "markdown",
   "metadata": {},
   "source": [
    "Training the model for hyperparameter (learning rate) tuning."
   ]
  },
  {
   "cell_type": "code",
   "execution_count": 129,
   "metadata": {
    "scrolled": false
   },
   "outputs": [
    {
     "name": "stdout",
     "output_type": "stream",
     "text": [
      "1-fold cross-validation\n",
      "Current Learning Rate: 0.001\n",
      "Picking validation set from position: 0\n",
      "Step 1, Loss = 0.9673856, Learning Rate = 0.001, Train AUC:0.6421725\n",
      "Step 5, Loss = 0.9669503, Learning Rate = 0.001, Train AUC:0.61349374\n",
      "Step 10, Loss = 0.96661943, Learning Rate = 0.001, Train AUC:0.5841391\n",
      "Valid_auc_taskid: 0.5739382 with k = 1\n",
      "Optimization Finished!\n",
      "2-fold cross-validation\n",
      "Current Learning Rate: 0.001\n",
      "Picking validation set from position: 1\n",
      "Step 1, Loss = 0.967031, Learning Rate = 0.001, Train AUC:0.56957\n",
      "Step 5, Loss = 0.9666664, Learning Rate = 0.001, Train AUC:0.5549274\n",
      "Step 10, Loss = 0.9664302, Learning Rate = 0.001, Train AUC:0.54431045\n",
      "Valid_auc_taskid: 0.54132324 with k = 2\n",
      "Optimization Finished!\n",
      "3-fold cross-validation\n",
      "Current Learning Rate: 0.001\n",
      "Picking validation set from position: 2\n",
      "Step 1, Loss = 0.96725655, Learning Rate = 0.001, Train AUC:0.6500315\n",
      "Step 5, Loss = 0.96667343, Learning Rate = 0.001, Train AUC:0.6121755\n",
      "Step 10, Loss = 0.96627164, Learning Rate = 0.001, Train AUC:0.59144783\n",
      "Valid_auc_taskid: 0.587341 with k = 3\n",
      "Optimization Finished!\n",
      "Train_auc_taskid: 0.576841\n",
      "Average Valid_auc_taskid: 0.56753415\n",
      "1-fold cross-validation\n",
      "Current Learning Rate: 0.0056234132\n",
      "Picking validation set from position: 0\n",
      "Step 1, Loss = 0.96688664, Learning Rate = 0.0056234132, Train AUC:0.5999903\n",
      "Step 5, Loss = 0.966466, Learning Rate = 0.0056234132, Train AUC:0.556006\n",
      "Step 10, Loss = 0.96646476, Learning Rate = 0.0056234132, Train AUC:0.53796387\n",
      "Valid_auc_taskid: 0.5319135 with k = 1\n",
      "Optimization Finished!\n",
      "2-fold cross-validation\n",
      "Current Learning Rate: 0.0056234132\n",
      "Picking validation set from position: 1\n",
      "Step 1, Loss = 0.9666417, Learning Rate = 0.0056234132, Train AUC:0.5877026\n",
      "Step 5, Loss = 0.9662902, Learning Rate = 0.0056234132, Train AUC:0.5439695\n",
      "Step 10, Loss = 0.96629, Learning Rate = 0.0056234132, Train AUC:0.5292824\n",
      "Valid_auc_taskid: 0.52499634 with k = 2\n",
      "Optimization Finished!\n",
      "3-fold cross-validation\n",
      "Current Learning Rate: 0.0056234132\n",
      "Picking validation set from position: 2\n",
      "Step 1, Loss = 0.96659535, Learning Rate = 0.0056234132, Train AUC:0.6068217\n",
      "Step 5, Loss = 0.9660096, Learning Rate = 0.0056234132, Train AUC:0.5650804\n",
      "Step 10, Loss = 0.96600264, Learning Rate = 0.0056234132, Train AUC:0.54759264\n",
      "Valid_auc_taskid: 0.54424703 with k = 3\n",
      "Optimization Finished!\n",
      "Train_auc_taskid: 0.5355468\n",
      "Average Valid_auc_taskid: 0.53371894\n",
      "1-fold cross-validation\n",
      "Current Learning Rate: 0.031622775\n",
      "Picking validation set from position: 0\n",
      "Step 1, Loss = 0.96648335, Learning Rate = 0.031622775, Train AUC:0.5179475\n",
      "Step 5, Loss = 0.9668388, Learning Rate = 0.031622775, Train AUC:0.5213446\n",
      "Step 10, Loss = 0.9664649, Learning Rate = 0.031622775, Train AUC:0.51421934\n",
      "Valid_auc_taskid: 0.5119242 with k = 1\n",
      "Optimization Finished!\n",
      "2-fold cross-validation\n",
      "Current Learning Rate: 0.031622775\n",
      "Picking validation set from position: 1\n",
      "Step 1, Loss = 0.966472, Learning Rate = 0.031622775, Train AUC:0.6530965\n",
      "Step 5, Loss = 0.96630603, Learning Rate = 0.031622775, Train AUC:0.5944006\n",
      "Step 10, Loss = 0.96629, Learning Rate = 0.031622775, Train AUC:0.56279653\n",
      "Valid_auc_taskid: 0.5536186 with k = 2\n",
      "Optimization Finished!\n",
      "3-fold cross-validation\n",
      "Current Learning Rate: 0.031622775\n",
      "Picking validation set from position: 2\n",
      "Step 1, Loss = 0.9660595, Learning Rate = 0.031622775, Train AUC:0.51759607\n",
      "Step 5, Loss = 0.9660028, Learning Rate = 0.031622775, Train AUC:0.50880396\n",
      "Step 10, Loss = 0.9660028, Learning Rate = 0.031622775, Train AUC:0.50587064\n",
      "Valid_auc_taskid: 0.5051685 with k = 3\n",
      "Optimization Finished!\n",
      "Train_auc_taskid: 0.5036576\n",
      "Average Valid_auc_taskid: 0.5235705\n",
      "1-fold cross-validation\n",
      "Current Learning Rate: 0.17782794\n",
      "Picking validation set from position: 0\n",
      "Step 1, Loss = 0.9664649, Learning Rate = 0.17782794, Train AUC:0.5\n",
      "Step 5, Loss = 0.9664649, Learning Rate = 0.17782794, Train AUC:0.5\n",
      "Step 10, Loss = 0.9664649, Learning Rate = 0.17782794, Train AUC:0.5\n",
      "Valid_auc_taskid: 0.5 with k = 1\n",
      "Optimization Finished!\n",
      "2-fold cross-validation\n",
      "Current Learning Rate: 0.17782794\n",
      "Picking validation set from position: 1\n",
      "Step 1, Loss = 0.96775043, Learning Rate = 0.17782794, Train AUC:0.6956053\n",
      "Step 5, Loss = 0.9663147, Learning Rate = 0.17782794, Train AUC:0.60607964\n",
      "Step 10, Loss = 0.96629, Learning Rate = 0.17782794, Train AUC:0.57061696\n",
      "Valid_auc_taskid: 0.56029195 with k = 2\n",
      "Optimization Finished!\n",
      "3-fold cross-validation\n",
      "Current Learning Rate: 0.17782794\n",
      "Picking validation set from position: 2\n",
      "Step 1, Loss = 0.96683973, Learning Rate = 0.17782794, Train AUC:0.65580976\n",
      "Step 5, Loss = 0.9660028, Learning Rate = 0.17782794, Train AUC:0.57775056\n",
      "Step 10, Loss = 0.9660028, Learning Rate = 0.17782794, Train AUC:0.5517994\n",
      "Valid_auc_taskid: 0.54544276 with k = 3\n",
      "Optimization Finished!\n",
      "Train_auc_taskid: 0.53210247\n",
      "Average Valid_auc_taskid: 0.53524494\n",
      "1-fold cross-validation\n",
      "Current Learning Rate: 1.0\n",
      "Picking validation set from position: 0\n",
      "Step 1, Loss = 0.9664649, Learning Rate = 1.0, Train AUC:0.5\n",
      "Step 5, Loss = 0.9664649, Learning Rate = 1.0, Train AUC:0.5\n",
      "Step 10, Loss = 0.9664649, Learning Rate = 1.0, Train AUC:0.5\n",
      "Valid_auc_taskid: 0.5 with k = 1\n",
      "Optimization Finished!\n",
      "2-fold cross-validation\n",
      "Current Learning Rate: 1.0\n",
      "Picking validation set from position: 1\n",
      "Step 1, Loss = 0.96743035, Learning Rate = 1.0, Train AUC:0.5189696\n",
      "Step 5, Loss = 0.96629, Learning Rate = 1.0, Train AUC:0.50949013\n",
      "Step 10, Loss = 0.96629, Learning Rate = 1.0, Train AUC:0.50632787\n",
      "Valid_auc_taskid: 0.50540394 with k = 2\n",
      "Optimization Finished!\n",
      "3-fold cross-validation\n",
      "Current Learning Rate: 1.0\n",
      "Picking validation set from position: 2\n",
      "Step 1, Loss = 0.9708171, Learning Rate = 1.0, Train AUC:0.5293043\n",
      "Step 5, Loss = 0.9660361, Learning Rate = 1.0, Train AUC:0.5155422\n",
      "Step 10, Loss = 0.9659982, Learning Rate = 1.0, Train AUC:0.51093906\n",
      "Valid_auc_taskid: 0.5099348 with k = 3\n",
      "Optimization Finished!\n",
      "Train_auc_taskid: 0.5075857\n",
      "Average Valid_auc_taskid: 0.50511295\n"
     ]
    }
   ],
   "source": [
    "plot_lr = []\n",
    "plot_valid_auc_taskid = []\n",
    "plot_train_auc_taskid = []\n",
    "\n",
    "with tf.Session() as sess:\n",
    "    for l_r in learning_rate:\n",
    "        plot_lr.append(l_r)    \n",
    "        valid_taskid_list = []\n",
    "        for k_fold in range(1,maximum_position+1):\n",
    "            # Initialize the variables (i.e. assign their default value)\n",
    "            tf.reset_default_graph()\n",
    "            print(str(k_fold)+\"-fold cross-validation\")\n",
    "            sess.run(tf.global_variables_initializer())\n",
    "            sess.run(tf.local_variables_initializer())\n",
    "            assign_op = learning_tf_rate.assign(l_r)\n",
    "            sess.run(assign_op)\n",
    "            print(\"Current Learning Rate: \"+str(learning_tf_rate.eval()))\n",
    "            train_set_seqlen, valid_set_seqlen, valid_set_x, valid_set_y, valid_set_y_taskid, train_set_x, train_set_y, train_set_y_taskid = get_next_train_valid_set(k_fold-1)\n",
    "            \n",
    "            for step in range(1, training_steps+1):\n",
    "                batch_x = train_set_x\n",
    "                batch_y = train_set_y\n",
    "                sess.run(optimizer, feed_dict={x: batch_x, y: batch_y, y_taskid: train_set_y_taskid, seqlen_tf: train_set_seqlen})\n",
    "\n",
    "                if step % display_step == 0 or step == 1:\n",
    "                    loss,trainAUC,trainOPTS = sess.run([cost, auc, opts], feed_dict={x: batch_x, y: batch_y, y_taskid: train_set_y_taskid, seqlen_tf: train_set_seqlen})\n",
    "                    #print status\n",
    "                    print(\"Step \" + str(step) + \", Loss = \" + str(loss) + \", Learning Rate = \"+str(learning_tf_rate.eval()) + \", Train AUC:\" + str(trainOPTS))\n",
    "            #calculate validation AUC\n",
    "            valid_auc_taskid, valid_opts_taskid = sess.run([auc, opts], feed_dict={x: valid_set_x, y: valid_set_y, y_taskid: valid_set_y_taskid, seqlen_tf: valid_set_seqlen})\n",
    "            print(\"Valid_auc_taskid: \" + str(valid_opts_taskid) + \" with k = \"+str(k_fold))\n",
    "            valid_taskid_list.append(valid_opts_taskid)\n",
    "            print(\"Optimization Finished!\")\n",
    "    \n",
    "        #calculate training AUC (it should take both validation and training sets)\n",
    "        train_auc_taskid, train_opts_taskid = sess.run([auc, opts], feed_dict={x: training_x, y: training_y, y_taskid: training_y_taskid, seqlen_tf: training_seqlen})\n",
    "\n",
    "        print(\"Train_auc_taskid: \" + str(train_opts_taskid))\n",
    "        plot_train_auc_taskid.append(train_opts_taskid)\n",
    "        \n",
    "        #take average of validation AUCs\n",
    "        valid_avg_taskid = np.mean(valid_taskid_list)\n",
    "        \n",
    "        print(\"Average Valid_auc_taskid: \" + str(valid_avg_taskid))\n",
    "        plot_valid_auc_taskid.append(valid_avg_taskid)"
   ]
  },
  {
   "cell_type": "markdown",
   "metadata": {},
   "source": [
    "Plotting validation set ccssm auc across different learning rates."
   ]
  },
  {
   "cell_type": "code",
   "execution_count": 130,
   "metadata": {},
   "outputs": [
    {
     "data": {
      "image/png": "[encoded data removed]",
      "text/plain": [
       "<matplotlib.figure.Figure at 0x12ae79be0>"
      ]
     },
     "metadata": {},
     "output_type": "display_data"
    },
    {
     "name": "stdout",
     "output_type": "stream",
     "text": [
      "[0.001      0.00562341 0.03162278 0.17782794 1.        ]\n"
     ]
    }
   ],
   "source": [
    "plt.title(\"Training Set AUC\")\n",
    "plt.xlabel(\"Learning Rate Index\")\n",
    "plt.ylabel(\"AUC\")\n",
    "plt.plot(plot_train_auc_taskid,'r--',label='train')\n",
    "plt.plot(plot_valid_auc_taskid,label='valid')\n",
    "plt.legend(loc='best', fancybox=True, framealpha=0.5)\n",
    "plt.show()\n",
    "print(learning_rate)"
   ]
  },
  {
   "cell_type": "markdown",
   "metadata": {},
   "source": [
    "#http://www.wildml.com/2016/08/rnns-in-tensorflow-a-practical-guide-and-undocumented-features/"
   ]
  },
  {
   "cell_type": "markdown",
   "metadata": {},
   "source": [
    "Now Training the model with hyperparameters chosen from above and calculating testing AUC."
   ]
  },
  {
   "cell_type": "code",
   "execution_count": 16,
   "metadata": {},
   "outputs": [
    {
     "name": "stdout",
     "output_type": "stream",
     "text": [
      "Final Learning Rate: 0.01\n",
      "Step 1, Loss = [0.965621], Learning Rate = 0.01\n",
      "Step 5, Loss = [0.9654201], Learning Rate = 0.01\n",
      "Step 10, Loss = [0.9654187], Learning Rate = 0.01\n",
      "Step 15, Loss = [0.96541184], Learning Rate = 0.01\n",
      "Step 20, Loss = [0.96540177], Learning Rate = 0.01\n",
      "Optimization Finished!\n",
      "Train_auc_taskid: 0.55856395\n",
      "Testing auc for taskid: 0.55880594\n"
     ]
    }
   ],
   "source": [
    "#final_l_r = plot_lr[np.argmax(plot_valid_auc_taskid)]\n",
    "with tf.Session() as sess:\n",
    "    for l_r in [0.01]:\n",
    "        # Initialize the variables (i.e. assign their default value)\n",
    "        sess.run(tf.global_variables_initializer())\n",
    "        sess.run(tf.local_variables_initializer())\n",
    "        assign_op = learning_tf_rate.assign(l_r)\n",
    "        sess.run(assign_op)\n",
    "        print(\"Final Learning Rate: \"+str(learning_tf_rate.eval()))\n",
    "        for step in range(1, training_steps*2+1):\n",
    "            sess.run(optimizer, feed_dict={x: training_x, y: training_y, y_taskid: training_y_taskid, seqlen_tf: training_seqlen})\n",
    "            if step % display_step == 0 or step == 1:\n",
    "                loss= sess.run([cost], feed_dict={x: training_x, y: training_y, y_taskid: training_y_taskid, seqlen_tf: training_seqlen})\n",
    "                #print status\n",
    "                print(\"Step \" + str(step) + \", Loss = \" + str(loss) + \", Learning Rate = \"+str(learning_tf_rate.eval()))\n",
    "                \n",
    "        print(\"Optimization Finished!\")\n",
    "    \n",
    "        #calculate training AUC\n",
    "        train_auc_taskid, train_opts_taskid = sess.run([auc, opts], feed_dict={x: training_x, y: training_y, y_taskid: training_y_taskid, seqlen_tf: training_seqlen})\n",
    "        print(\"Train_auc_taskid: \" + str(train_opts_taskid))\n",
    "        \n",
    "    # Calculate test auc\n",
    "    temp_auc_taskid, temp_opts_taskid = sess.run([auc, opts], feed_dict={x: test_x, y: test_y, y_taskid: test_y_taskid,seqlen_tf: test_seqlen})\n",
    "    print(\"Testing auc for taskid: \" + str(temp_opts_taskid))"
   ]
  },
  {
   "cell_type": "markdown",
   "metadata": {},
   "source": [
    "TODOs:<br>\n",
    "1) Camden's suggestion <br>\n",
    "2) Mini Batches <br>\n",
    "3) "
   ]
  },
  {
   "cell_type": "code",
   "execution_count": null,
   "metadata": {},
   "outputs": [],
   "source": []
  }
 ],
 "metadata": {
  "kernelspec": {
   "display_name": "Python 3",
   "language": "python",
   "name": "python3"
  },
  "language_info": {
   "codemirror_mode": {
    "name": "ipython",
    "version": 3
   },
   "file_extension": ".py",
   "mimetype": "text/x-python",
   "name": "python",
   "nbconvert_exporter": "python",
   "pygments_lexer": "ipython3",
   "version": "3.6.4"
  }
 },
 "nbformat": 4,
 "nbformat_minor": 2
}
