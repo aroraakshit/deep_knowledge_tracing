{
 "cells": [
  {
   "cell_type": "code",
   "execution_count": 18,
   "metadata": {},
   "outputs": [],
   "source": [
    "import json\n",
    "from sklearn.preprocessing import MultiLabelBinarizer\n",
    "import numpy as np\n",
    "import tensorflow as tf\n",
    "import pprint as pp\n",
    "import math\n",
    "import matplotlib.pyplot as plt\n",
    "%matplotlib inline"
   ]
  },
  {
   "cell_type": "markdown",
   "metadata": {},
   "source": [
    "This code can work with either tf.VERSION = '1.4.1' (for MacOS High Sierra) or tf.VERSION = '0.12.1' (for RedHat based SuperComputer), functions may change for other versions. Also, this model does not have mini-batches."
   ]
  },
  {
   "cell_type": "markdown",
   "metadata": {},
   "source": [
    "Model Parameters:"
   ]
  },
  {
   "cell_type": "code",
   "execution_count": 19,
   "metadata": {},
   "outputs": [],
   "source": [
    "training_set_split = 0.8\n",
    "validation_set_split = 0.1\n",
    "learning_rate = [0.001,0.01,0.1,1.0,1.5]\n",
    "num_units = 5 #number of units in RNN cell\n",
    "training_steps = 80 #number of epochs\n",
    "display_step = 40 #number of epochs after which to display progress\n",
    "optimize_using = \"adagrad\" #other option: \"momentum\""
   ]
  },
  {
   "cell_type": "code",
   "execution_count": 3,
   "metadata": {},
   "outputs": [
    {
     "name": "stdout",
     "output_type": "stream",
     "text": [
      "Tensorflow version being used: 1.4.1\n"
     ]
    }
   ],
   "source": [
    "print(\"Tensorflow version being used: \" + str(tf.VERSION))"
   ]
  },
  {
   "cell_type": "markdown",
   "metadata": {},
   "source": [
    "Loading JSON file into dictionary called 'student_vectors'"
   ]
  },
  {
   "cell_type": "code",
   "execution_count": 4,
   "metadata": {},
   "outputs": [],
   "source": [
    "filepath = \"../data/student_vectors_n_task_10_n_limit_10000.json\"\n",
    "student_vectors = json.load(open(filepath))"
   ]
  },
  {
   "cell_type": "markdown",
   "metadata": {},
   "source": [
    "Collecting unique CCSSM labels and Task IDs"
   ]
  },
  {
   "cell_type": "code",
   "execution_count": 7,
   "metadata": {},
   "outputs": [
    {
     "name": "stdout",
     "output_type": "stream",
     "text": [
      "Number of unique task IDs: 10\n",
      "Number of students: 1255\n"
     ]
    }
   ],
   "source": [
    "task_ids = []\n",
    "for i in student_vectors:\n",
    "    for j in student_vectors[i]:\n",
    "        if j['task_id'] not in task_ids:\n",
    "            task_ids.append(j['task_id'])\n",
    "print(\"Number of unique task IDs: \" + str(len(task_ids)))\n",
    "print(\"Number of students: \" + str(len(student_vectors)))"
   ]
  },
  {
   "cell_type": "markdown",
   "metadata": {},
   "source": [
    "Creating 1-hot encoding for Task IDs and CCSSM Labels"
   ]
  },
  {
   "cell_type": "code",
   "execution_count": 8,
   "metadata": {},
   "outputs": [
    {
     "name": "stdout",
     "output_type": "stream",
     "text": [
      "\n",
      "1-hot encoding for task IDs:\n",
      "{'1zsCldT4p8.set1': array([1., 0., 0., 0., 0., 0., 0., 0., 0., 0.]),\n",
      " '1zsCldT4p8.set2': array([0., 1., 0., 0., 0., 0., 0., 0., 0., 0.]),\n",
      " '9wRCzK1G7F.partb': array([0., 0., 1., 0., 0., 0., 0., 0., 0., 0.]),\n",
      " 'DebcfZEEmI.proper_fractions': array([0., 0., 0., 1., 0., 0., 0., 0., 0., 0.]),\n",
      " 'Ok-iIHxjgx.parta': array([0., 0., 0., 0., 1., 0., 0., 0., 0., 0.]),\n",
      " 'Ok-iIHxjgx.partb': array([0., 0., 0., 0., 0., 1., 0., 0., 0., 0.]),\n",
      " 'hyei4uD81i.parta': array([0., 0., 0., 0., 0., 0., 1., 0., 0., 0.]),\n",
      " 'kvig7fcCVc.partb': array([0., 0., 0., 0., 0., 0., 0., 1., 0., 0.]),\n",
      " 'nl-M69Ez9k.parta': array([0., 0., 0., 0., 0., 0., 0., 0., 1., 0.]),\n",
      " 'p7cfRPp-kQ.partb': array([0., 0., 0., 0., 0., 0., 0., 0., 0., 1.])}\n"
     ]
    }
   ],
   "source": [
    "#pre-processing for using MultiLabelBinarizer\n",
    "temp_ids = []\n",
    "for i in task_ids:\n",
    "    temp_ids.append([i])\n",
    "\n",
    "#generating encodings\n",
    "enc = MultiLabelBinarizer()\n",
    "task_ids_1hot = (enc.fit_transform(temp_ids)).astype(float)\n",
    "task_ids_classes = enc.classes_\n",
    "task_ids_dict = dict(zip(task_ids, task_ids_1hot))\n",
    "print(\"\\n1-hot encoding for task IDs:\")\n",
    "pp.pprint(task_ids_dict)"
   ]
  },
  {
   "cell_type": "markdown",
   "metadata": {},
   "source": [
    "Generating input sequences of interactions to feed the network. Say we have 3 task IDs and 3 labels; here is an example of interaction vectors generated:\n",
    "1. User correctly solves task 2 of label 3: [010   000   001 000]\n",
    "2. User incorrectly solves task 1 of label 2: [000   100   000   010]\n",
    "\n",
    "1-hot representation of task IDs: \n",
    "task ID 1: 1,0,0 ; \n",
    "task ID 2: 0,1,0 ; \n",
    "task ID 3: 0,0,1 ; \n",
    "and similarly for labels!\n",
    "\n",
    "In the interaction vector, first 3 bits belong to taskID that user solved correctly; next 3 bits belong to taskID that user solved incorrectly; next 3 bits belong to label corresponding to task ID solved by user correctly and last 3 bits belong to label corresponding to the task ID solved by the user incorrectly."
   ]
  },
  {
   "cell_type": "code",
   "execution_count": 9,
   "metadata": {},
   "outputs": [
    {
     "name": "stdout",
     "output_type": "stream",
     "text": [
      "Sample interaction vector: \n",
      "array([0., 0., 0., 0., 0., 0., 0., 0., 0., 1., 0., 0., 0., 0., 0., 0., 0.,\n",
      "       0., 0., 0.])\n"
     ]
    }
   ],
   "source": [
    "sequences = []\n",
    "output_y_taskid = []\n",
    "output_y = []\n",
    "seqlen = []\n",
    "incorrect_tid_vec = np.zeros((len(task_ids)), dtype=np.float)\n",
    "for i in student_vectors:\n",
    "    temp_seq = []\n",
    "    for j in student_vectors[i]:\n",
    "        if(j['second_try'] == False): #ignoring second_try\n",
    "            if(j['correct'] == True):\n",
    "                vec = np.concatenate([task_ids_dict[j['task_id']],incorrect_tid_vec])\n",
    "                temp_seq.append(vec)\n",
    "            else:\n",
    "                vec = np.concatenate([incorrect_tid_vec,task_ids_dict[j['task_id']]])\n",
    "                temp_seq.append(vec)\n",
    "    seqlen.append(len(temp_seq))\n",
    "    last_one = temp_seq.pop()\n",
    "    output_y.append(last_one)\n",
    "    output_y_taskid.append(last_one[:2*len(task_ids)])\n",
    "    sequences.append(temp_seq)\n",
    "print(\"Sample interaction vector: \")\n",
    "pp.pprint(sequences[0][0])\n",
    "length_interaction_vector = 2*(len(task_ids)) #length of interaction vector"
   ]
  },
  {
   "cell_type": "markdown",
   "metadata": {},
   "source": [
    "Finding maximum sequence length."
   ]
  },
  {
   "cell_type": "code",
   "execution_count": 10,
   "metadata": {},
   "outputs": [
    {
     "name": "stdout",
     "output_type": "stream",
     "text": [
      "Maximum sequence length: 186\n"
     ]
    }
   ],
   "source": [
    "max_seqlen = max(seqlen)\n",
    "print(\"Maximum sequence length: \"+str(max_seqlen))"
   ]
  },
  {
   "cell_type": "markdown",
   "metadata": {},
   "source": [
    "Padding the sequences according to maximum sequence length. Making padded sequences of shape: number of students, maximum sequence length, length of interaction vector."
   ]
  },
  {
   "cell_type": "code",
   "execution_count": 11,
   "metadata": {},
   "outputs": [
    {
     "name": "stdout",
     "output_type": "stream",
     "text": [
      "Sequences have been padded according to the maximum sequence length. Final shape: (1255, 186, 20)\n"
     ]
    }
   ],
   "source": [
    "padded_sequences = np.zeros(shape=(len(student_vectors),max_seqlen,length_interaction_vector),dtype=float)\n",
    "for i in range(len(sequences)):\n",
    "    for j in range(len(sequences[i])):\n",
    "        padded_sequences[i][j] = sequences[i][j]\n",
    "print(\"Sequences have been padded according to the maximum sequence length. Final shape: \" + str(padded_sequences.shape))"
   ]
  },
  {
   "cell_type": "markdown",
   "metadata": {},
   "source": [
    "Split the data into training and testing sets. Will take random validation sets at the time of training."
   ]
  },
  {
   "cell_type": "code",
   "execution_count": 12,
   "metadata": {},
   "outputs": [
    {
     "name": "stdout",
     "output_type": "stream",
     "text": [
      "Splitting 1255 rows into 1005 for training, 125 for validation and 125 for testing.\n",
      "Implemented 9-fold cross validation.\n"
     ]
    }
   ],
   "source": [
    "split = round((training_set_split+validation_set_split)*len(student_vectors))\n",
    "\n",
    "#separating training & validation set\n",
    "training_x = padded_sequences[:split]\n",
    "training_y = np.asarray(output_y)[:split]\n",
    "training_y_taskid = np.asarray(output_y_taskid)[:split]\n",
    "training_seqlen = seqlen[:split]\n",
    "\n",
    "#generating validation and training sets by implementing k-fold cross validation (k = maximum_position)\n",
    "validation_set_size = math.floor(validation_set_split * len(student_vectors))\n",
    "training_set_size = len(training_x) - validation_set_size\n",
    "maximum_position = math.floor(len(training_x) / validation_set_size)\n",
    "def get_next_train_valid_set(position):\n",
    "    if(position>=maximum_position):\n",
    "        position = position % maximum_position\n",
    "    print(\"Picking validation set from position: \"+str(position))\n",
    "    valid_start = position*validation_set_size\n",
    "    valid_end = valid_start + validation_set_size\n",
    "    \n",
    "    valid_set_x = training_x[valid_start : valid_end]\n",
    "    valid_set_y = training_y[valid_start : valid_end]\n",
    "    valid_set_y_taskid = np.asarray(training_y_taskid)[valid_start : valid_end]\n",
    "    valid_set_seqlen = np.asarray(training_seqlen[valid_start:valid_end])\n",
    "    \n",
    "    train_set_x = np.concatenate((training_x[:valid_start], training_x[valid_end:]))\n",
    "    train_set_y = np.concatenate((training_y[:valid_start], training_y[valid_end:]))\n",
    "    train_set_y_taskid = np.concatenate((np.asarray(training_y_taskid)[:valid_start], np.asarray(training_y_taskid)[valid_end:]))\n",
    "    train_set_seqlen = np.concatenate((np.asarray(training_seqlen)[:valid_start],np.asarray(training_seqlen)[valid_end:]))\n",
    "    \n",
    "    if(len(train_set_x) != training_set_size): #just as a test\n",
    "        print(\"that's not good it is:\")\n",
    "        print(train_set_x.shape)\n",
    "    \n",
    "    return (train_set_seqlen,valid_set_seqlen,valid_set_x,valid_set_y,valid_set_y_taskid,train_set_x,train_set_y,train_set_y_taskid)\n",
    "\n",
    "#separating test set\n",
    "test_x = padded_sequences[split:]\n",
    "test_y = np.asarray(output_y)[split:]\n",
    "test_y_taskid = np.asarray(output_y_taskid)[split:]\n",
    "test_seqlen = seqlen[split:]\n",
    "\n",
    "print(\"Splitting \"+str(len(student_vectors))+\" rows into \"+str(training_set_size)+ \" for training, \"+str(validation_set_size)+\" for validation and \"+str(len(test_x)) + \" for testing.\")\n",
    "print(\"Implemented \"+str(maximum_position)+\"-fold cross validation.\")"
   ]
  },
  {
   "cell_type": "markdown",
   "metadata": {},
   "source": [
    "Building the model"
   ]
  },
  {
   "cell_type": "code",
   "execution_count": 13,
   "metadata": {},
   "outputs": [
    {
     "name": "stderr",
     "output_type": "stream",
     "text": [
      "/usr/local/lib/python3.6/site-packages/tensorflow/python/ops/gradients_impl.py:96: UserWarning: Converting sparse IndexedSlices to a dense Tensor of unknown shape. This may consume a large amount of memory.\n",
      "  \"Converting sparse IndexedSlices to a dense Tensor of unknown shape. \"\n"
     ]
    }
   ],
   "source": [
    "tf.reset_default_graph()\n",
    "\n",
    "#defining placeholders\n",
    "x = tf.placeholder(tf.float32, [None, max_seqlen, length_interaction_vector]) #(<batch_size>, <max_time>, <num_features>)\n",
    "y = tf.placeholder(tf.float32, [None, length_interaction_vector]) #(<batch_size>, <num_features>)\n",
    "y_taskid = tf.placeholder(tf.float32, [None, 2*len(task_ids)])\n",
    "seqlen_tf = tf.placeholder(tf.float32,[None])\n",
    "\n",
    "#defining tensorflow variables\n",
    "learning_tf_rate = tf.Variable(0.0, name=\"learning_tf_rate\",dtype=tf.float32)\n",
    "\n",
    "#dynamic RNN definition\n",
    "def dynamicRNN(x):\n",
    "    rnn_cell = tf.nn.rnn_cell.BasicRNNCell(num_units)\n",
    "    outputs, states = tf.nn.dynamic_rnn(rnn_cell, x, dtype=tf.float32,sequence_length=seqlen_tf)\n",
    "    \n",
    "    #transformation on outputs needed, otherwise auc=0\n",
    "    outputs = tf.transpose(outputs, [1, 0, 2])\n",
    "    outputs = tf.gather(outputs, int(outputs.get_shape()[0]) - 1)\n",
    "    out_size = length_interaction_vector\n",
    "    logit = tf.contrib.layers.fully_connected(outputs, out_size, activation_fn=None)\n",
    "    if tf.VERSION == '0.12.1': #summit's tensorflow version API doc: https://www.tensorflow.org/versions/r0.12/api_docs/\n",
    "        outputs = tf.sigmoid(logit)\n",
    "    else:\n",
    "        outputs = tf.nn.sigmoid(logit)\n",
    "    return outputs\n",
    "\n",
    "#making predictions\n",
    "pred = dynamicRNN(x)\n",
    "    \n",
    "# Define loss and optimizer\n",
    "if tf.VERSION == '0.12.1': #summit's tensorflow version API doc: https://www.tensorflow.org/versions/r0.12/api_docs/\n",
    "    cost = tf.reduce_mean(tf.nn.sigmoid_cross_entropy_with_logits(logits=pred, targets=y))\n",
    "else:\n",
    "    cost = tf.reduce_mean(tf.nn.sigmoid_cross_entropy_with_logits(logits=pred, labels=y))\n",
    "if(optimize_using == \"momentum\"):\n",
    "    optimizer = tf.train.MomentumOptimizer(learning_rate=learning_tf_rate,momentum=0.9).minimize(cost)\n",
    "elif (optimize_using == \"adagrad\"):\n",
    "    optimizer = tf.train.AdagradOptimizer(learning_rate=learning_tf_rate).minimize(cost)\n",
    "\n",
    "# Evaluate model - use AUC to evaluate model\n",
    "if tf.VERSION == '0.12.1': \n",
    "    pass#summit's tensorflow version API doc: https://www.tensorflow.org/versions/r0.12/api_docs/\n",
    "#     auc,  opts = tf.contrib.metrics.streaming_auc(labels = test_y_taskid, predictions = pred_task, curve='ROC')\n",
    "#     auc_ccssm,  opts_ccssm = tf.contrib.metrics.streaming_auc(labels = test_y_ccssm, predictions = pred_ccssm, curve='ROC')\n",
    "else:\n",
    "    auc,  opts = tf.metrics.auc(labels = y_taskid, predictions = pred, curve='ROC')"
   ]
  },
  {
   "cell_type": "markdown",
   "metadata": {},
   "source": [
    "Training the model for hyperparameter (learning rate) tuning."
   ]
  },
  {
   "cell_type": "code",
   "execution_count": 14,
   "metadata": {},
   "outputs": [
    {
     "name": "stdout",
     "output_type": "stream",
     "text": [
      "1-fold cross-validation\n",
      "Current Learning Rate: 0.001\n",
      "Picking validation set from position: 0\n",
      "Step 1, Loss = [0.94909483], Learning Rate = 0.001\n",
      "Step 40, Loss = [0.94890636], Learning Rate = 0.001\n",
      "Step 80, Loss = [0.9487883], Learning Rate = 0.001\n",
      "Valid_auc_taskid: 0.5 with k = 1\n",
      "Optimization Finished!\n",
      "2-fold cross-validation\n",
      "Current Learning Rate: 0.001\n",
      "Picking validation set from position: 1\n",
      "Step 1, Loss = [0.9490957], Learning Rate = 0.001\n",
      "Step 40, Loss = [0.94890743], Learning Rate = 0.001\n",
      "Step 80, Loss = [0.9487895], Learning Rate = 0.001\n",
      "Valid_auc_taskid: 0.5 with k = 2\n",
      "Optimization Finished!\n",
      "3-fold cross-validation\n",
      "Current Learning Rate: 0.001\n",
      "Picking validation set from position: 2\n",
      "Step 1, Loss = [0.94909203], Learning Rate = 0.001\n",
      "Step 40, Loss = [0.94890374], Learning Rate = 0.001\n",
      "Step 80, Loss = [0.9487858], Learning Rate = 0.001\n",
      "Valid_auc_taskid: 0.5 with k = 3\n",
      "Optimization Finished!\n",
      "4-fold cross-validation\n",
      "Current Learning Rate: 0.001\n",
      "Picking validation set from position: 3\n",
      "Step 1, Loss = [0.9490999], Learning Rate = 0.001\n",
      "Step 40, Loss = [0.9489116], Learning Rate = 0.001\n",
      "Step 80, Loss = [0.9487934], Learning Rate = 0.001\n",
      "Valid_auc_taskid: 0.5 with k = 4\n",
      "Optimization Finished!\n",
      "5-fold cross-validation\n",
      "Current Learning Rate: 0.001\n",
      "Picking validation set from position: 4\n",
      "Step 1, Loss = [0.94909465], Learning Rate = 0.001\n",
      "Step 40, Loss = [0.94890636], Learning Rate = 0.001\n",
      "Step 80, Loss = [0.9487883], Learning Rate = 0.001\n",
      "Valid_auc_taskid: 0.5 with k = 5\n",
      "Optimization Finished!\n",
      "6-fold cross-validation\n",
      "Current Learning Rate: 0.001\n",
      "Picking validation set from position: 5\n",
      "Step 1, Loss = [0.9490968], Learning Rate = 0.001\n",
      "Step 40, Loss = [0.9489085], Learning Rate = 0.001\n",
      "Step 80, Loss = [0.9487903], Learning Rate = 0.001\n",
      "Valid_auc_taskid: 0.5 with k = 6\n",
      "Optimization Finished!\n",
      "7-fold cross-validation\n",
      "Current Learning Rate: 0.001\n",
      "Picking validation set from position: 6\n",
      "Step 1, Loss = [0.9490988], Learning Rate = 0.001\n",
      "Step 40, Loss = [0.94891053], Learning Rate = 0.001\n",
      "Step 80, Loss = [0.94879246], Learning Rate = 0.001\n",
      "Valid_auc_taskid: 0.5 with k = 7\n",
      "Optimization Finished!\n",
      "8-fold cross-validation\n",
      "Current Learning Rate: 0.001\n",
      "Picking validation set from position: 7\n",
      "Step 1, Loss = [0.9490965], Learning Rate = 0.001\n",
      "Step 40, Loss = [0.9489082], Learning Rate = 0.001\n",
      "Step 80, Loss = [0.94879013], Learning Rate = 0.001\n",
      "Valid_auc_taskid: 0.5035638 with k = 8\n",
      "Optimization Finished!\n",
      "9-fold cross-validation\n",
      "Current Learning Rate: 0.001\n",
      "Picking validation set from position: 8\n",
      "Step 1, Loss = [0.9490938], Learning Rate = 0.001\n",
      "Step 40, Loss = [0.94890535], Learning Rate = 0.001\n",
      "Step 80, Loss = [0.94878733], Learning Rate = 0.001\n",
      "Valid_auc_taskid: 0.5 with k = 9\n",
      "Optimization Finished!\n",
      "Train_auc_taskid: 0.4996437\n",
      "Average Valid_auc_taskid: 0.500396\n",
      "1-fold cross-validation\n",
      "Current Learning Rate: 0.01\n",
      "Picking validation set from position: 0\n",
      "Step 1, Loss = [0.9490428], Learning Rate = 0.01\n",
      "Step 40, Loss = [0.9476203], Learning Rate = 0.01\n",
      "Step 80, Loss = [0.94617486], Learning Rate = 0.01\n",
      "Valid_auc_taskid: 0.9578948 with k = 1\n",
      "Optimization Finished!\n",
      "2-fold cross-validation\n",
      "Current Learning Rate: 0.01\n",
      "Picking validation set from position: 1\n",
      "Step 1, Loss = [0.94903946], Learning Rate = 0.01\n",
      "Step 40, Loss = [0.94762224], Learning Rate = 0.01\n",
      "Step 80, Loss = [0.9461801], Learning Rate = 0.01\n",
      "Valid_auc_taskid: 0.99578947 with k = 2\n",
      "Optimization Finished!\n",
      "3-fold cross-validation\n",
      "Current Learning Rate: 0.01\n",
      "Picking validation set from position: 2\n",
      "Step 1, Loss = [0.9490393], Learning Rate = 0.01\n",
      "Step 40, Loss = [0.9476213], Learning Rate = 0.01\n",
      "Step 80, Loss = [0.9461756], Learning Rate = 0.01\n",
      "Valid_auc_taskid: 0.9831579 with k = 3\n",
      "Optimization Finished!\n",
      "4-fold cross-validation\n",
      "Current Learning Rate: 0.01\n",
      "Picking validation set from position: 3\n",
      "Step 1, Loss = [0.94904083], Learning Rate = 0.01\n",
      "Step 40, Loss = [0.94762266], Learning Rate = 0.01\n",
      "Step 80, Loss = [0.94617665], Learning Rate = 0.01\n",
      "Valid_auc_taskid: 0.9789474 with k = 4\n",
      "Optimization Finished!\n",
      "5-fold cross-validation\n",
      "Current Learning Rate: 0.01\n",
      "Picking validation set from position: 4\n",
      "Step 1, Loss = [0.9490424], Learning Rate = 0.01\n",
      "Step 40, Loss = [0.94762397], Learning Rate = 0.01\n",
      "Step 80, Loss = [0.9461776], Learning Rate = 0.01\n",
      "Valid_auc_taskid: 0.9747368 with k = 5\n",
      "Optimization Finished!\n",
      "6-fold cross-validation\n",
      "Current Learning Rate: 0.01\n",
      "Picking validation set from position: 5\n",
      "Step 1, Loss = [0.9490507], Learning Rate = 0.01\n",
      "Step 40, Loss = [0.9476321], Learning Rate = 0.01\n",
      "Step 80, Loss = [0.94618565], Learning Rate = 0.01\n",
      "Valid_auc_taskid: 0.97052634 with k = 6\n",
      "Optimization Finished!\n",
      "7-fold cross-validation\n",
      "Current Learning Rate: 0.01\n",
      "Picking validation set from position: 6\n",
      "Step 1, Loss = [0.9490523], Learning Rate = 0.01\n",
      "Step 40, Loss = [0.9476341], Learning Rate = 0.01\n",
      "Step 80, Loss = [0.94618803], Learning Rate = 0.01\n",
      "Valid_auc_taskid: 0.9789474 with k = 7\n",
      "Optimization Finished!\n",
      "8-fold cross-validation\n",
      "Current Learning Rate: 0.01\n",
      "Picking validation set from position: 7\n",
      "Step 1, Loss = [0.94904035], Learning Rate = 0.01\n",
      "Step 40, Loss = [0.94762266], Learning Rate = 0.01\n",
      "Step 80, Loss = [0.94618034], Learning Rate = 0.01\n",
      "Valid_auc_taskid: 0.9840708 with k = 8\n",
      "Optimization Finished!\n",
      "9-fold cross-validation\n",
      "Current Learning Rate: 0.01\n",
      "Picking validation set from position: 8\n",
      "Step 1, Loss = [0.94903624], Learning Rate = 0.01\n",
      "Step 40, Loss = [0.94761807], Learning Rate = 0.01\n",
      "Step 80, Loss = [0.9461722], Learning Rate = 0.01\n",
      "Valid_auc_taskid: 0.9789474 with k = 9\n",
      "Optimization Finished!\n",
      "Train_auc_taskid: 0.9772194\n",
      "Average Valid_auc_taskid: 0.9781132\n",
      "1-fold cross-validation\n",
      "Current Learning Rate: 0.1\n",
      "Picking validation set from position: 0\n",
      "Step 1, Loss = [0.9487249], Learning Rate = 0.1\n",
      "Step 40, Loss = [0.934615], Learning Rate = 0.1\n",
      "Step 80, Loss = [0.92074645], Learning Rate = 0.1\n",
      "Valid_auc_taskid: 0.96378946 with k = 1\n",
      "Optimization Finished!\n",
      "2-fold cross-validation\n",
      "Current Learning Rate: 0.1\n",
      "Picking validation set from position: 1\n",
      "Step 1, Loss = [0.9487258], Learning Rate = 0.1\n",
      "Step 40, Loss = [0.9346537], Learning Rate = 0.1\n",
      "Step 80, Loss = [0.92081], Learning Rate = 0.1\n",
      "Valid_auc_taskid: 0.9993684 with k = 2\n",
      "Optimization Finished!\n",
      "3-fold cross-validation\n",
      "Current Learning Rate: 0.1\n",
      "Picking validation set from position: 2\n",
      "Step 1, Loss = [0.94872725], Learning Rate = 0.1\n",
      "Step 40, Loss = [0.9346426], Learning Rate = 0.1\n",
      "Step 80, Loss = [0.92079175], Learning Rate = 0.1\n",
      "Valid_auc_taskid: 0.99747366 with k = 3\n",
      "Optimization Finished!\n",
      "4-fold cross-validation\n",
      "Current Learning Rate: 0.1\n",
      "Picking validation set from position: 3\n",
      "Step 1, Loss = [0.94872904], Learning Rate = 0.1\n",
      "Step 40, Loss = [0.9346403], Learning Rate = 0.1\n",
      "Step 80, Loss = [0.9207833], Learning Rate = 0.1\n",
      "Valid_auc_taskid: 0.9968421 with k = 4\n",
      "Optimization Finished!\n",
      "5-fold cross-validation\n",
      "Current Learning Rate: 0.1\n",
      "Picking validation set from position: 4\n",
      "Step 1, Loss = [0.94872665], Learning Rate = 0.1\n",
      "Step 40, Loss = [0.9346348], Learning Rate = 0.1\n",
      "Step 80, Loss = [0.9207762], Learning Rate = 0.1\n",
      "Valid_auc_taskid: 0.9962105 with k = 5\n",
      "Optimization Finished!\n",
      "6-fold cross-validation\n",
      "Current Learning Rate: 0.1\n",
      "Picking validation set from position: 5\n",
      "Step 1, Loss = [0.9487259], Learning Rate = 0.1\n",
      "Step 40, Loss = [0.9346293], Learning Rate = 0.1\n",
      "Step 80, Loss = [0.92076737], Learning Rate = 0.1\n",
      "Valid_auc_taskid: 0.99557894 with k = 6\n",
      "Optimization Finished!\n",
      "7-fold cross-validation\n",
      "Current Learning Rate: 0.1\n",
      "Picking validation set from position: 6\n",
      "Step 1, Loss = [0.9487146], Learning Rate = 0.1\n",
      "Step 40, Loss = [0.93462616], Learning Rate = 0.1\n",
      "Step 80, Loss = [0.92077035], Learning Rate = 0.1\n",
      "Valid_auc_taskid: 0.9968421 with k = 7\n",
      "Optimization Finished!\n",
      "8-fold cross-validation\n",
      "Current Learning Rate: 0.1\n",
      "Picking validation set from position: 7\n",
      "Step 1, Loss = [0.9487261], Learning Rate = 0.1\n",
      "Step 40, Loss = [0.93464404], Learning Rate = 0.1\n",
      "Step 80, Loss = [0.9207961], Learning Rate = 0.1\n",
      "Valid_auc_taskid: 0.99802953 with k = 8\n",
      "Optimization Finished!\n",
      "9-fold cross-validation\n",
      "Current Learning Rate: 0.1\n",
      "Picking validation set from position: 8\n",
      "Step 1, Loss = [0.9487249], Learning Rate = 0.1\n",
      "Step 40, Loss = [0.9346362], Learning Rate = 0.1\n",
      "Step 80, Loss = [0.9207799], Learning Rate = 0.1\n",
      "Valid_auc_taskid: 0.9968421 with k = 9\n",
      "Optimization Finished!\n",
      "Train_auc_taskid: 0.9962407\n",
      "Average Valid_auc_taskid: 0.9934419\n",
      "1-fold cross-validation\n"
     ]
    },
    {
     "name": "stdout",
     "output_type": "stream",
     "text": [
      "Current Learning Rate: 1.0\n",
      "Picking validation set from position: 0\n",
      "Step 1, Loss = [0.9453919], Learning Rate = 1.0\n",
      "Step 40, Loss = [0.83015305], Learning Rate = 1.0\n",
      "Step 80, Loss = [0.770203], Learning Rate = 1.0\n",
      "Valid_auc_taskid: 0.96378946 with k = 1\n",
      "Optimization Finished!\n",
      "2-fold cross-validation\n",
      "Current Learning Rate: 1.0\n",
      "Picking validation set from position: 1\n",
      "Step 1, Loss = [0.94540197], Learning Rate = 1.0\n",
      "Step 40, Loss = [0.8304094], Learning Rate = 1.0\n",
      "Step 80, Loss = [0.77057064], Learning Rate = 1.0\n",
      "Valid_auc_taskid: 0.99957895 with k = 2\n",
      "Optimization Finished!\n",
      "3-fold cross-validation\n",
      "Current Learning Rate: 1.0\n",
      "Picking validation set from position: 2\n",
      "Step 1, Loss = [0.945399], Learning Rate = 1.0\n",
      "Step 40, Loss = [0.8303259], Learning Rate = 1.0\n",
      "Step 80, Loss = [0.7704501], Learning Rate = 1.0\n",
      "Valid_auc_taskid: 0.9983158 with k = 3\n",
      "Optimization Finished!\n",
      "4-fold cross-validation\n",
      "Current Learning Rate: 1.0\n",
      "Picking validation set from position: 3\n",
      "Step 1, Loss = [0.94537306], Learning Rate = 1.0\n",
      "Step 40, Loss = [0.83028316], Learning Rate = 1.0\n",
      "Step 80, Loss = [0.7704259], Learning Rate = 1.0\n",
      "Valid_auc_taskid: 0.99789476 with k = 4\n",
      "Optimization Finished!\n",
      "5-fold cross-validation\n",
      "Current Learning Rate: 1.0\n",
      "Picking validation set from position: 4\n",
      "Step 1, Loss = [0.9453956], Learning Rate = 1.0\n",
      "Step 40, Loss = [0.83026886], Learning Rate = 1.0\n",
      "Step 80, Loss = [0.7703669], Learning Rate = 1.0\n",
      "Valid_auc_taskid: 0.9974737 with k = 5\n",
      "Optimization Finished!\n",
      "6-fold cross-validation\n",
      "Current Learning Rate: 1.0\n",
      "Picking validation set from position: 5\n",
      "Step 1, Loss = [0.94539714], Learning Rate = 1.0\n",
      "Step 40, Loss = [0.83024], Learning Rate = 1.0\n",
      "Step 80, Loss = [0.77032924], Learning Rate = 1.0\n",
      "Valid_auc_taskid: 0.99705267 with k = 6\n",
      "Optimization Finished!\n",
      "7-fold cross-validation\n",
      "Current Learning Rate: 1.0\n",
      "Picking validation set from position: 6\n",
      "Step 1, Loss = [0.94540006], Learning Rate = 1.0\n",
      "Step 40, Loss = [0.8302994], Learning Rate = 1.0\n",
      "Step 80, Loss = [0.77040994], Learning Rate = 1.0\n",
      "Valid_auc_taskid: 0.99789476 with k = 7\n",
      "Optimization Finished!\n",
      "8-fold cross-validation\n",
      "Current Learning Rate: 1.0\n",
      "Picking validation set from position: 7\n",
      "Step 1, Loss = [0.94539917], Learning Rate = 1.0\n",
      "Step 40, Loss = [0.8303534], Learning Rate = 1.0\n",
      "Step 80, Loss = [0.7704893], Learning Rate = 1.0\n",
      "Valid_auc_taskid: 0.99867624 with k = 8\n",
      "Optimization Finished!\n",
      "9-fold cross-validation\n",
      "Current Learning Rate: 1.0\n",
      "Picking validation set from position: 8\n",
      "Step 1, Loss = [0.94540083], Learning Rate = 1.0\n",
      "Step 40, Loss = [0.83029985], Learning Rate = 1.0\n",
      "Step 80, Loss = [0.77041006], Learning Rate = 1.0\n",
      "Valid_auc_taskid: 0.99789476 with k = 9\n",
      "Optimization Finished!\n",
      "Train_auc_taskid: 0.9946306\n",
      "Average Valid_auc_taskid: 0.9942857\n",
      "1-fold cross-validation\n",
      "Current Learning Rate: 1.5\n",
      "Picking validation set from position: 0\n",
      "Step 1, Loss = [0.94357556], Learning Rate = 1.5\n",
      "Step 40, Loss = [0.79423213], Learning Rate = 1.5\n",
      "Step 80, Loss = [0.74043953], Learning Rate = 1.5\n",
      "Valid_auc_taskid: 0.9637895 with k = 1\n",
      "Optimization Finished!\n",
      "2-fold cross-validation\n",
      "Current Learning Rate: 1.5\n",
      "Picking validation set from position: 1\n",
      "Step 1, Loss = [0.9435892], Learning Rate = 1.5\n",
      "Step 40, Loss = [0.79455334], Learning Rate = 1.5\n",
      "Step 80, Loss = [0.7408469], Learning Rate = 1.5\n",
      "Valid_auc_taskid: 0.99957895 with k = 2\n",
      "Optimization Finished!\n",
      "3-fold cross-validation\n",
      "Current Learning Rate: 1.5\n",
      "Picking validation set from position: 2\n",
      "Step 1, Loss = [0.94359076], Learning Rate = 1.5\n",
      "Step 40, Loss = [0.79445165], Learning Rate = 1.5\n",
      "Step 80, Loss = [0.74071556], Learning Rate = 1.5\n",
      "Valid_auc_taskid: 0.9983158 with k = 3\n",
      "Optimization Finished!\n",
      "4-fold cross-validation\n",
      "Current Learning Rate: 1.5\n",
      "Picking validation set from position: 3\n",
      "Step 1, Loss = [0.9435831], Learning Rate = 1.5\n",
      "Step 40, Loss = [0.7944143], Learning Rate = 1.5\n",
      "Step 80, Loss = [0.74066895], Learning Rate = 1.5\n",
      "Valid_auc_taskid: 0.99789476 with k = 4\n",
      "Optimization Finished!\n",
      "5-fold cross-validation\n",
      "Current Learning Rate: 1.5\n",
      "Picking validation set from position: 4\n",
      "Step 1, Loss = [0.94359094], Learning Rate = 1.5\n",
      "Step 40, Loss = [0.79437184], Learning Rate = 1.5\n",
      "Step 80, Loss = [0.74062747], Learning Rate = 1.5\n",
      "Valid_auc_taskid: 0.9974737 with k = 5\n",
      "Optimization Finished!\n",
      "6-fold cross-validation\n",
      "Current Learning Rate: 1.5\n",
      "Picking validation set from position: 5\n",
      "Step 1, Loss = [0.94358665], Learning Rate = 1.5\n",
      "Step 40, Loss = [0.794343], Learning Rate = 1.5\n",
      "Step 80, Loss = [0.7405806], Learning Rate = 1.5\n",
      "Valid_auc_taskid: 0.99705267 with k = 6\n",
      "Optimization Finished!\n",
      "7-fold cross-validation\n",
      "Current Learning Rate: 1.5\n",
      "Picking validation set from position: 6\n",
      "Step 1, Loss = [0.943585], Learning Rate = 1.5\n",
      "Step 40, Loss = [0.79441285], Learning Rate = 1.5\n",
      "Step 80, Loss = [0.74066955], Learning Rate = 1.5\n",
      "Valid_auc_taskid: 0.99789476 with k = 7\n",
      "Optimization Finished!\n",
      "8-fold cross-validation\n",
      "Current Learning Rate: 1.5\n",
      "Picking validation set from position: 7\n",
      "Step 1, Loss = [0.94358927], Learning Rate = 1.5\n",
      "Step 40, Loss = [0.79448485], Learning Rate = 1.5\n",
      "Step 80, Loss = [0.7407607], Learning Rate = 1.5\n",
      "Valid_auc_taskid: 0.9986712 with k = 8\n",
      "Optimization Finished!\n",
      "9-fold cross-validation\n",
      "Current Learning Rate: 1.5\n",
      "Picking validation set from position: 8\n",
      "Step 1, Loss = [0.9435816], Learning Rate = 1.5\n",
      "Step 40, Loss = [0.7944135], Learning Rate = 1.5\n",
      "Step 80, Loss = [0.7406684], Learning Rate = 1.5\n",
      "Valid_auc_taskid: 0.99789476 with k = 9\n",
      "Optimization Finished!\n",
      "Train_auc_taskid: 0.99462813\n",
      "Average Valid_auc_taskid: 0.99428517\n"
     ]
    }
   ],
   "source": [
    "plot_lr = []\n",
    "plot_valid_auc_taskid = []\n",
    "plot_train_auc_taskid = []\n",
    "with tf.Session() as sess:\n",
    "    for l_r in learning_rate:\n",
    "        plot_lr.append(l_r)    \n",
    "        valid_taskid_list = []\n",
    "        for k_fold in range(1,maximum_position+1):\n",
    "            # Initialize the variables (i.e. assign their default value)\n",
    "            print(str(k_fold)+\"-fold cross-validation\")\n",
    "            sess.run(tf.global_variables_initializer())\n",
    "            sess.run(tf.local_variables_initializer())\n",
    "            assign_op = learning_tf_rate.assign(l_r)\n",
    "            sess.run(assign_op)\n",
    "            print(\"Current Learning Rate: \"+str(learning_tf_rate.eval()))\n",
    "            train_set_seqlen,valid_set_seqlen,valid_set_x,valid_set_y,valid_set_y_taskid,train_set_x,train_set_y,train_set_y_taskid = get_next_train_valid_set(k_fold-1)\n",
    "            for step in range(1, training_steps+1):\n",
    "                batch_x = train_set_x\n",
    "                batch_y = train_set_y\n",
    "                sess.run(optimizer, feed_dict={x: batch_x, y: batch_y, y_taskid: train_set_y_taskid, seqlen_tf: train_set_seqlen})\n",
    "\n",
    "                if step % display_step == 0 or step == 1:\n",
    "                    loss = sess.run([cost], feed_dict={x: batch_x, y: batch_y, y_taskid: train_set_y_taskid, seqlen_tf: train_set_seqlen})\n",
    "                    #print status\n",
    "                    print(\"Step \" + str(step) + \", Loss = \" + str(loss) + \", Learning Rate = \"+str(learning_tf_rate.eval()))\n",
    "            #calculate validation AUC\n",
    "            valid_auc_taskid, valid_opts_taskid = sess.run([auc, opts], feed_dict={x: valid_set_x, y: valid_set_y, y_taskid: valid_set_y_taskid, seqlen_tf: valid_set_seqlen})\n",
    "            print(\"Valid_auc_taskid: \" + str(valid_opts_taskid) + \" with k = \"+str(k_fold))\n",
    "            valid_taskid_list.append(valid_opts_taskid)\n",
    "            print(\"Optimization Finished!\")\n",
    "    \n",
    "        #calculate training AUC (it should take both validation and training sets)\n",
    "        train_auc_taskid, train_opts_taskid = sess.run([auc, opts], feed_dict={x: training_x, y: training_y, y_taskid: training_y_taskid, seqlen_tf: training_seqlen})\n",
    "\n",
    "        print(\"Train_auc_taskid: \" + str(train_opts_taskid))\n",
    "        plot_train_auc_taskid.append(train_opts_taskid)\n",
    "        \n",
    "        #take average of validation AUCs\n",
    "        valid_avg_taskid = np.mean(valid_taskid_list)\n",
    "        \n",
    "        print(\"Average Valid_auc_taskid: \" + str(valid_avg_taskid))\n",
    "        plot_valid_auc_taskid.append(valid_avg_taskid)"
   ]
  },
  {
   "cell_type": "markdown",
   "metadata": {},
   "source": [
    "Plotting validation set ccssm auc across different learning rates."
   ]
  },
  {
   "cell_type": "code",
   "execution_count": 15,
   "metadata": {},
   "outputs": [
    {
     "data": {
      "image/png": "[encoded data removed]",
      "text/plain": [
       "<matplotlib.figure.Figure at 0x11cfbb8d0>"
      ]
     },
     "metadata": {},
     "output_type": "display_data"
    },
    {
     "data": {
      "image/png": "[encoded data removed]",
      "text/plain": [
       "<matplotlib.figure.Figure at 0x11d1c5fd0>"
      ]
     },
     "metadata": {},
     "output_type": "display_data"
    }
   ],
   "source": [
    "plt.title(\"Training Set AUC\")\n",
    "plt.xlabel(\"Learning Rate Index\")\n",
    "plt.ylabel(\"AUC\")\n",
    "plt.plot(plot_train_auc_taskid,'r--',label='taskid')\n",
    "plt.legend(loc='best', fancybox=True, framealpha=0.5)\n",
    "plt.show()\n",
    "\n",
    "plt.xlabel(\"Learning Rate Index\")\n",
    "plt.ylabel(\"AUC\")\n",
    "plt.title(\"Validation Set AUC\")\n",
    "plt.plot(plot_valid_auc_taskid,label='taskid')\n",
    "plt.legend(loc='best', fancybox=True, framealpha=0.5)\n",
    "plt.show()"
   ]
  },
  {
   "cell_type": "markdown",
   "metadata": {},
   "source": [
    "#http://www.wildml.com/2016/08/rnns-in-tensorflow-a-practical-guide-and-undocumented-features/"
   ]
  },
  {
   "cell_type": "markdown",
   "metadata": {},
   "source": [
    "Now Training the model with hyperparameters chosen from above and calculating testing AUC."
   ]
  },
  {
   "cell_type": "code",
   "execution_count": 17,
   "metadata": {},
   "outputs": [
    {
     "name": "stdout",
     "output_type": "stream",
     "text": [
      "Final Learning Rate: 1.0\n",
      "Step 1, Loss = [0.9453946], Learning Rate = 1.0\n",
      "Step 40, Loss = [0.8302888], Learning Rate = 1.0\n",
      "Step 80, Loss = [0.7704], Learning Rate = 1.0\n",
      "Optimization Finished!\n",
      "Train_auc_taskid: 0.99426746\n",
      "Testing auc for taskid: 0.98592794\n"
     ]
    }
   ],
   "source": [
    "final_l_r = plot_lr[np.argmax(plot_valid_auc_taskid)]\n",
    "with tf.Session() as sess:\n",
    "    for l_r in [final_l_r]:\n",
    "        # Initialize the variables (i.e. assign their default value)\n",
    "        sess.run(tf.global_variables_initializer())\n",
    "        sess.run(tf.local_variables_initializer())\n",
    "        assign_op = learning_tf_rate.assign(l_r)\n",
    "        sess.run(assign_op)\n",
    "        print(\"Final Learning Rate: \"+str(learning_tf_rate.eval()))\n",
    "        for step in range(1, training_steps+1):\n",
    "            sess.run(optimizer, feed_dict={x: training_x, y: training_y, y_taskid: training_y_taskid, seqlen_tf: training_seqlen})\n",
    "            \n",
    "            if step % display_step == 0 or step == 1:\n",
    "                loss= sess.run([cost], feed_dict={x: training_x, y: training_y, y_taskid: training_y_taskid, seqlen_tf: training_seqlen})\n",
    "                #print status\n",
    "                print(\"Step \" + str(step) + \", Loss = \" + str(loss) + \", Learning Rate = \"+str(learning_tf_rate.eval()))\n",
    "        print(\"Optimization Finished!\")\n",
    "    \n",
    "        #calculate training AUC\n",
    "        train_auc_taskid, train_opts_taskid = sess.run([auc, opts], feed_dict={x: training_x, y: training_y, y_taskid: training_y_taskid, seqlen_tf: training_seqlen})\n",
    "        print(\"Train_auc_taskid: \" + str(train_opts_taskid))\n",
    "        \n",
    "    # Calculate test auc\n",
    "    temp_auc_taskid, temp_opts_taskid = sess.run([auc, opts], feed_dict={x: test_x, y: test_y, y_taskid: test_y_taskid,seqlen_tf: test_seqlen})\n",
    "    print(\"Testing auc for taskid: \" + str(temp_opts_taskid))"
   ]
  },
  {
   "cell_type": "code",
   "execution_count": 81,
   "metadata": {},
   "outputs": [
    {
     "data": {
      "text/plain": [
       "<Container object of 10 artists>"
      ]
     },
     "execution_count": 81,
     "metadata": {},
     "output_type": "execute_result"
    },
    {
     "data": {
      "image/png": "[encoded data removed]",
      "text/plain": [
       "<matplotlib.figure.Figure at 0x126c7b518>"
      ]
     },
     "metadata": {},
     "output_type": "display_data"
    }
   ],
   "source": [
    "from collections import Counter\n",
    "#frequency distribution of taskids\n",
    "cnt = Counter()\n",
    "cnt2 = Counter()\n",
    "another = {}\n",
    "position = 1\n",
    "another_2 = {}\n",
    "position_2 = 1\n",
    "for i in student_vectors:\n",
    "    for j in student_vectors[i]:\n",
    "        if j['ccssm'] not in another:\n",
    "            another[j['ccssm']] = \"label\" + str(position)\n",
    "            position = position + 1\n",
    "        cnt[another[j['ccssm']]] += 1\n",
    "        if j['task_id'] not in another_2:\n",
    "            another_2[j['task_id']] = \"task\" + str(position_2)\n",
    "            position_2 = position_2 + 1\n",
    "        cnt2[another_2[j['task_id']]] += 1\n",
    "plt.bar(cnt2.keys(), cnt2.values())"
   ]
  },
  {
   "cell_type": "code",
   "execution_count": 82,
   "metadata": {},
   "outputs": [
    {
     "data": {
      "text/plain": [
       "<Container object of 4 artists>"
      ]
     },
     "execution_count": 82,
     "metadata": {},
     "output_type": "execute_result"
    },
    {
     "data": {
      "image/png": "[encoded data removed]",
      "text/plain": [
       "<matplotlib.figure.Figure at 0x126d3fe80>"
      ]
     },
     "metadata": {},
     "output_type": "display_data"
    }
   ],
   "source": [
    "plt.bar(cnt.keys(), cnt.values())"
   ]
  },
  {
   "cell_type": "code",
   "execution_count": null,
   "metadata": {},
   "outputs": [],
   "source": []
  }
 ],
 "metadata": {
  "kernelspec": {
   "display_name": "Python 3",
   "language": "python",
   "name": "python3"
  },
  "language_info": {
   "codemirror_mode": {
    "name": "ipython",
    "version": 3
   },
   "file_extension": ".py",
   "mimetype": "text/x-python",
   "name": "python",
   "nbconvert_exporter": "python",
   "pygments_lexer": "ipython3",
   "version": "3.6.4"
  }
 },
 "nbformat": 4,
 "nbformat_minor": 2
}
