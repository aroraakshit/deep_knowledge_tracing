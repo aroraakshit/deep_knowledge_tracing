{
 "cells": [
  {
   "cell_type": "code",
   "execution_count": 2,
   "metadata": {},
   "outputs": [],
   "source": [
    "import json\n",
    "from sklearn.preprocessing import MultiLabelBinarizer\n",
    "import numpy as np\n",
    "import tensorflow as tf\n",
    "import pprint as pp\n",
    "import math\n",
    "import matplotlib.pyplot as plt\n",
    "%matplotlib inline"
   ]
  },
  {
   "cell_type": "markdown",
   "metadata": {},
   "source": [
    "This code can work with either tf.VERSION = '1.4.1' (for MacOS High Sierra) or tf.VERSION = '0.12.1' (for RedHat based SuperComputer), functions may change for other versions. Also, this model does not have mini-batches."
   ]
  },
  {
   "cell_type": "markdown",
   "metadata": {},
   "source": [
    "Model Parameters:"
   ]
  },
  {
   "cell_type": "code",
   "execution_count": 3,
   "metadata": {},
   "outputs": [],
   "source": [
    "training_set_split = 0.8\n",
    "validation_set_split = 0.1\n",
    "learning_rate = [0.001,0.01,0.1,1.0,1.5,2.0,2.5,3.0,3.5,4.0]\n",
    "num_units = 5 #number of units in RNN cell\n",
    "training_steps = 100 #number of epochs\n",
    "display_step = 25 #number of epochs after which to display progress\n",
    "optimize_using = \"adagrad\" #other option: \"momentum\""
   ]
  },
  {
   "cell_type": "code",
   "execution_count": 4,
   "metadata": {},
   "outputs": [
    {
     "name": "stdout",
     "output_type": "stream",
     "text": [
      "Tensorflow version being used: 1.4.1\n"
     ]
    }
   ],
   "source": [
    "print(\"Tensorflow version being used: \" + str(tf.VERSION))"
   ]
  },
  {
   "cell_type": "markdown",
   "metadata": {},
   "source": [
    "Loading JSON file into dictionary called 'student_vectors'"
   ]
  },
  {
   "cell_type": "code",
   "execution_count": 5,
   "metadata": {},
   "outputs": [],
   "source": [
    "filepath = \"../data/student_vectors_n_task_10_n_limit_10000.json\"\n",
    "student_vectors = json.load(open(filepath))"
   ]
  },
  {
   "cell_type": "markdown",
   "metadata": {},
   "source": [
    "Collecting unique CCSSM labels and Task IDs"
   ]
  },
  {
   "cell_type": "code",
   "execution_count": 6,
   "metadata": {},
   "outputs": [
    {
     "name": "stdout",
     "output_type": "stream",
     "text": [
      "Number of unique CCSSM Labels: 4\n",
      "Number of unique task IDs: 10\n",
      "Number of students: 1255\n"
     ]
    }
   ],
   "source": [
    "ccssm_labels = []\n",
    "task_ids = []\n",
    "for i in student_vectors:\n",
    "    for j in student_vectors[i]:\n",
    "        if j['ccssm'] not in ccssm_labels:\n",
    "            ccssm_labels.append(j['ccssm'])\n",
    "        if j['task_id'] not in task_ids:\n",
    "            task_ids.append(j['task_id'])\n",
    "print(\"Number of unique CCSSM Labels: \" + str(len(ccssm_labels)))\n",
    "print(\"Number of unique task IDs: \" + str(len(task_ids)))\n",
    "print(\"Number of students: \" + str(len(student_vectors)))"
   ]
  },
  {
   "cell_type": "markdown",
   "metadata": {},
   "source": [
    "Creating 1-hot encoding for Task IDs and CCSSM Labels"
   ]
  },
  {
   "cell_type": "code",
   "execution_count": 7,
   "metadata": {},
   "outputs": [
    {
     "name": "stdout",
     "output_type": "stream",
     "text": [
      "1-hot encoding for CCSSM Labels:\n",
      "{'CCSS.Math.3.NF.A.1': array([1., 0., 0., 0.]),\n",
      " 'CCSS.Math.3.NF.A.3d': array([0., 1., 0., 0.]),\n",
      " 'CCSS.Math.4.NF.B.3a': array([0., 0., 1., 0.]),\n",
      " 'CCSS.Math.4.NF.B.3c': array([0., 0., 0., 1.])}\n",
      "\n",
      "1-hot encoding for task IDs:\n",
      "{'1zsCldT4p8.set1': array([1., 0., 0., 0., 0., 0., 0., 0., 0., 0.]),\n",
      " '1zsCldT4p8.set2': array([0., 1., 0., 0., 0., 0., 0., 0., 0., 0.]),\n",
      " '9wRCzK1G7F.partb': array([0., 0., 1., 0., 0., 0., 0., 0., 0., 0.]),\n",
      " 'DebcfZEEmI.proper_fractions': array([0., 0., 0., 1., 0., 0., 0., 0., 0., 0.]),\n",
      " 'Ok-iIHxjgx.parta': array([0., 0., 0., 0., 1., 0., 0., 0., 0., 0.]),\n",
      " 'Ok-iIHxjgx.partb': array([0., 0., 0., 0., 0., 1., 0., 0., 0., 0.]),\n",
      " 'hyei4uD81i.parta': array([0., 0., 0., 0., 0., 0., 1., 0., 0., 0.]),\n",
      " 'kvig7fcCVc.partb': array([0., 0., 0., 0., 0., 0., 0., 1., 0., 0.]),\n",
      " 'nl-M69Ez9k.parta': array([0., 0., 0., 0., 0., 0., 0., 0., 1., 0.]),\n",
      " 'p7cfRPp-kQ.partb': array([0., 0., 0., 0., 0., 0., 0., 0., 0., 1.])}\n"
     ]
    }
   ],
   "source": [
    "#pre-processing for using MultiLabelBinarizer\n",
    "temp_ids = []\n",
    "for i in task_ids:\n",
    "    temp_ids.append([i])\n",
    "temp_labels = []\n",
    "for i in ccssm_labels:\n",
    "    temp_labels.append([i])\n",
    "    \n",
    "#generating encodings\n",
    "enc = MultiLabelBinarizer()\n",
    "task_ids_1hot = (enc.fit_transform(temp_ids)).astype(float)\n",
    "task_ids_classes = enc.classes_\n",
    "task_ids_dict = dict(zip(task_ids, task_ids_1hot))\n",
    "labels_1hot = enc.fit_transform(temp_labels).astype(float)\n",
    "labels_classes = enc.classes_\n",
    "labels_dict = dict(zip(ccssm_labels,labels_1hot))\n",
    "print(\"1-hot encoding for CCSSM Labels:\")\n",
    "pp.pprint(labels_dict)\n",
    "print(\"\\n1-hot encoding for task IDs:\")\n",
    "pp.pprint(task_ids_dict)"
   ]
  },
  {
   "cell_type": "markdown",
   "metadata": {},
   "source": [
    "Generating input sequences of interactions to feed the network. Say we have 3 task IDs and 3 labels; here is an example of interaction vectors generated:\n",
    "1. User correctly solves task 2 of label 3: [010   000   001 000]\n",
    "2. User incorrectly solves task 1 of label 2: [000   100   000   010]\n",
    "\n",
    "1-hot representation of task IDs: \n",
    "task ID 1: 1,0,0 ; \n",
    "task ID 2: 0,1,0 ; \n",
    "task ID 3: 0,0,1 ; \n",
    "and similarly for labels!\n",
    "\n",
    "In the interaction vector, first 3 bits belong to taskID that user solved correctly; next 3 bits belong to taskID that user solved incorrectly; next 3 bits belong to label corresponding to task ID solved by user correctly and last 3 bits belong to label corresponding to the task ID solved by the user incorrectly."
   ]
  },
  {
   "cell_type": "code",
   "execution_count": 8,
   "metadata": {},
   "outputs": [
    {
     "name": "stdout",
     "output_type": "stream",
     "text": [
      "Sample interaction vector: \n",
      "array([0., 0., 0., 0., 0., 0., 0., 0., 0., 1., 0., 0., 0., 0., 0., 0., 0.,\n",
      "       0., 0., 0., 1., 0., 0., 0., 0., 0., 0., 0.])\n"
     ]
    }
   ],
   "source": [
    "sequences = []\n",
    "output_y_ccssm = []\n",
    "output_y_taskid = []\n",
    "output_y = []\n",
    "seqlen = []\n",
    "incorrect_tid_vec = np.zeros((len(task_ids)), dtype=np.float)\n",
    "incorrect_csm_vec = np.zeros((len(ccssm_labels)),dtype=np.float)\n",
    "for i in student_vectors:\n",
    "    temp_seq = []\n",
    "    for j in student_vectors[i]:\n",
    "        if(j['second_try'] == False): #ignoring second_try\n",
    "            if(j['correct'] == True):\n",
    "                vec = np.concatenate([task_ids_dict[j['task_id']],incorrect_tid_vec,labels_dict[j['ccssm']],incorrect_csm_vec])\n",
    "                temp_seq.append(vec)\n",
    "            else:\n",
    "                vec = np.concatenate([incorrect_tid_vec,task_ids_dict[j['task_id']],incorrect_csm_vec,labels_dict[j['ccssm']]])\n",
    "                temp_seq.append(vec)\n",
    "    seqlen.append(len(temp_seq))\n",
    "    last_one = temp_seq.pop()\n",
    "    output_y.append(last_one)\n",
    "    output_y_ccssm.append(last_one[2*len(task_ids):])\n",
    "    output_y_taskid.append(last_one[:2*len(task_ids)])\n",
    "    sequences.append(temp_seq)\n",
    "print(\"Sample interaction vector: \")\n",
    "pp.pprint(sequences[0][0])\n",
    "length_interaction_vector = 2*(len(task_ids)+len(ccssm_labels)) #length of interaction vector"
   ]
  },
  {
   "cell_type": "markdown",
   "metadata": {},
   "source": [
    "Finding maximum sequence length."
   ]
  },
  {
   "cell_type": "code",
   "execution_count": 9,
   "metadata": {},
   "outputs": [
    {
     "name": "stdout",
     "output_type": "stream",
     "text": [
      "Maximum sequence length: 186\n"
     ]
    }
   ],
   "source": [
    "max_seqlen = max(seqlen)\n",
    "print(\"Maximum sequence length: \"+str(max_seqlen))"
   ]
  },
  {
   "cell_type": "markdown",
   "metadata": {},
   "source": [
    "Padding the sequences according to maximum sequence length. Making padded sequences of shape: number of students, maximum sequence length, length of interaction vector."
   ]
  },
  {
   "cell_type": "code",
   "execution_count": 10,
   "metadata": {},
   "outputs": [
    {
     "name": "stdout",
     "output_type": "stream",
     "text": [
      "Sequences have been padded according to the maximum sequence length. Final shape: (1255, 186, 28)\n"
     ]
    }
   ],
   "source": [
    "padded_sequences = np.zeros(shape=(len(student_vectors),max_seqlen,length_interaction_vector),dtype=float)\n",
    "for i in range(len(sequences)):\n",
    "    for j in range(len(sequences[i])):\n",
    "        padded_sequences[i][j] = sequences[i][j]\n",
    "print(\"Sequences have been padded according to the maximum sequence length. Final shape: \" + str(padded_sequences.shape))"
   ]
  },
  {
   "cell_type": "markdown",
   "metadata": {},
   "source": [
    "Split the data into training and testing sets. Will take random validation sets at the time of training."
   ]
  },
  {
   "cell_type": "code",
   "execution_count": 11,
   "metadata": {},
   "outputs": [
    {
     "name": "stdout",
     "output_type": "stream",
     "text": [
      "Splitting 1255 rows into 1005 for training, 125 for validation and 125 for testing.\n",
      "Implemented 9-fold cross validation.\n"
     ]
    }
   ],
   "source": [
    "split = round((training_set_split+validation_set_split)*len(student_vectors))\n",
    "\n",
    "#separating training & validation set\n",
    "training_x = padded_sequences[:split]\n",
    "training_y = np.asarray(output_y)[:split]\n",
    "training_y_ccssm = np.asarray(output_y_ccssm)[:split]\n",
    "training_y_taskid = np.asarray(output_y_taskid)[:split]\n",
    "\n",
    "#generating validation and training sets by implementing k-fold cross validation (k = maximum_position)\n",
    "validation_set_size = math.floor(validation_set_split * len(student_vectors))\n",
    "training_set_size = len(training_x) - validation_set_size\n",
    "maximum_position = math.floor(len(training_x) / validation_set_size)\n",
    "def get_next_train_valid_set(position):\n",
    "    if(position>=maximum_position):\n",
    "        position = position % maximum_position\n",
    "    #print(\"Picking validation set from position: \"+str(position))\n",
    "    valid_start = position*validation_set_size\n",
    "    valid_end = valid_start + validation_set_size\n",
    "    \n",
    "    valid_set_x = training_x[valid_start : valid_end]\n",
    "    valid_set_y = training_y[valid_start : valid_end]\n",
    "    valid_set_y_ccssm = np.asarray(training_y_ccssm)[valid_start : valid_end]\n",
    "    valid_set_y_taskid = np.asarray(training_y_taskid)[valid_start : valid_end]\n",
    "    \n",
    "    train_set_x = np.concatenate((training_x[:valid_start], training_x[valid_end:]))\n",
    "    train_set_y = np.concatenate((training_y[:valid_start], training_y[valid_end:]))\n",
    "    train_set_y_ccssm = np.concatenate((np.asarray(training_y_ccssm)[:valid_start], np.asarray(training_y_ccssm)[valid_end:]))\n",
    "    train_set_y_taskid = np.concatenate((np.asarray(training_y_taskid)[:valid_start], np.asarray(training_y_taskid)[valid_end:]))\n",
    "    \n",
    "    if(len(train_set_x) != training_set_size): #just as a test\n",
    "        print(\"that's not good it is:\")\n",
    "        print(train_set_x.shape)\n",
    "    \n",
    "    return (valid_set_x,valid_set_y,valid_set_y_ccssm,valid_set_y_taskid,train_set_x,train_set_y,train_set_y_ccssm,train_set_y_taskid)\n",
    "\n",
    "#separating test set\n",
    "test_x = padded_sequences[split:]\n",
    "test_y = np.asarray(output_y)[split:]\n",
    "test_y_ccssm = np.asarray(output_y_ccssm)[split:]\n",
    "test_y_taskid = np.asarray(output_y_taskid)[split:]\n",
    "\n",
    "print(\"Splitting \"+str(len(student_vectors))+\" rows into \"+str(training_set_size)+ \" for training, \"+str(validation_set_size)+\" for validation and \"+str(len(test_x)) + \" for testing.\")\n",
    "print(\"Implemented \"+str(maximum_position)+\"-fold cross validation.\")"
   ]
  },
  {
   "cell_type": "markdown",
   "metadata": {},
   "source": [
    "Building the model"
   ]
  },
  {
   "cell_type": "code",
   "execution_count": 12,
   "metadata": {},
   "outputs": [
    {
     "name": "stderr",
     "output_type": "stream",
     "text": [
      "/usr/local/lib/python3.6/site-packages/tensorflow/python/ops/gradients_impl.py:96: UserWarning: Converting sparse IndexedSlices to a dense Tensor of unknown shape. This may consume a large amount of memory.\n",
      "  \"Converting sparse IndexedSlices to a dense Tensor of unknown shape. \"\n"
     ]
    }
   ],
   "source": [
    "tf.reset_default_graph()\n",
    "\n",
    "#defining placeholders\n",
    "x = tf.placeholder(tf.float32, [None, max_seqlen, length_interaction_vector]) #(<batch_size>, <max_time>, <num_features>)\n",
    "y = tf.placeholder(tf.float32, [None, length_interaction_vector]) #(<batch_size>, <num_features>)\n",
    "y_taskid = tf.placeholder(tf.float32, [None, 2*len(task_ids)])\n",
    "y_ccssm = tf.placeholder(tf.float32, [None, 2*len(ccssm_labels)])\n",
    "\n",
    "#defining tensorflow variables\n",
    "learning_tf_rate = tf.Variable(0.0, name=\"learning_tf_rate\",dtype=tf.float32)\n",
    "\n",
    "#dynamic RNN definition\n",
    "def dynamicRNN(x):\n",
    "    rnn_cell = tf.nn.rnn_cell.BasicRNNCell(num_units)\n",
    "    outputs, states = tf.nn.dynamic_rnn(rnn_cell, x, dtype=tf.float32)\n",
    "    \n",
    "    #transformation on outputs needed, otherwise auc=0\n",
    "    outputs = tf.transpose(outputs, [1, 0, 2])\n",
    "    outputs = tf.gather(outputs, int(outputs.get_shape()[0]) - 1)\n",
    "    out_size = length_interaction_vector\n",
    "    logit = tf.contrib.layers.fully_connected(outputs, out_size, activation_fn=None)\n",
    "    if tf.VERSION == '0.12.1': #summit's tensorflow version API doc: https://www.tensorflow.org/versions/r0.12/api_docs/\n",
    "        outputs = tf.sigmoid(logit)\n",
    "    else:\n",
    "        outputs = tf.nn.sigmoid(logit)\n",
    "    return outputs\n",
    "\n",
    "#making predictions\n",
    "pred = dynamicRNN(x)\n",
    "if tf.VERSION == '0.12.1': #summit's tensorflow version API doc: https://www.tensorflow.org/versions/r0.12/api_docs/\n",
    "    pred_task,pred_ccssm = tf.split_v(value=pred,size_splits=[2*len(task_ids),2*len(ccssm_labels)],split_dim=1)\n",
    "else:\n",
    "    pred_task,pred_ccssm = tf.split(value=pred,num_or_size_splits=[2*len(task_ids),2*len(ccssm_labels)],axis=1)\n",
    "    \n",
    "# Define loss and optimizer\n",
    "if tf.VERSION == '0.12.1': #summit's tensorflow version API doc: https://www.tensorflow.org/versions/r0.12/api_docs/\n",
    "    cost = tf.reduce_mean(tf.nn.sigmoid_cross_entropy_with_logits(logits=pred, targets=y))\n",
    "else:\n",
    "    cost = tf.reduce_mean(tf.nn.sigmoid_cross_entropy_with_logits(logits=pred, labels=y))\n",
    "if(optimize_using == \"momentum\"):\n",
    "    optimizer = tf.train.MomentumOptimizer(learning_rate=learning_tf_rate,momentum=0.9).minimize(cost)\n",
    "elif (optimize_using == \"adagrad\"):\n",
    "    optimizer = tf.train.AdagradOptimizer(learning_rate=learning_tf_rate).minimize(cost)\n",
    "\n",
    "# Evaluate model - use AUC to evaluate model\n",
    "if tf.VERSION == '0.12.1': #summit's tensorflow version API doc: https://www.tensorflow.org/versions/r0.12/api_docs/\n",
    "    auc,  opts = tf.contrib.metrics.streaming_auc(labels = test_y_taskid, predictions = pred_task, curve='ROC')\n",
    "    auc_ccssm,  opts_ccssm = tf.contrib.metrics.streaming_auc(labels = test_y_ccssm, predictions = pred_ccssm, curve='ROC')\n",
    "else:\n",
    "    auc,  opts = tf.metrics.auc(labels = y_taskid, predictions = pred_task, curve='ROC')\n",
    "    auc_ccssm,  opts_ccssm = tf.metrics.auc(labels = y_ccssm, predictions = pred_ccssm, curve='ROC')"
   ]
  },
  {
   "cell_type": "markdown",
   "metadata": {},
   "source": [
    "Training the model for hyperparameter (learning rate) tuning."
   ]
  },
  {
   "cell_type": "code",
   "execution_count": 13,
   "metadata": {},
   "outputs": [
    {
     "name": "stdout",
     "output_type": "stream",
     "text": [
      "Step 1, Loss = [0.9383868], Learning Rate = 0.001\n",
      "Step 25, Loss = [0.9382771], Learning Rate = 0.001\n",
      "Step 50, Loss = [0.93817806], Learning Rate = 0.001\n",
      "Step 75, Loss = [0.9381006], Learning Rate = 0.001\n",
      "Step 100, Loss = [0.9380161], Learning Rate = 0.001\n",
      "Optimization Finished!\n",
      "Train_auc_taskid: 0.5007066\n",
      "Train_auc_ccssm: 0.49943176\n",
      "Valid_auc_taskid: 0.50062853\n",
      "Valid_auc_ccssm: 0.49949458\n",
      "Step 1, Loss = [0.93835044], Learning Rate = 0.01\n",
      "Step 25, Loss = [0.9375443], Learning Rate = 0.01\n",
      "Step 50, Loss = [0.93672985], Learning Rate = 0.01\n",
      "Step 75, Loss = [0.93592405], Learning Rate = 0.01\n",
      "Step 100, Loss = [0.9351014], Learning Rate = 0.01\n",
      "Optimization Finished!\n",
      "Train_auc_taskid: 0.8673743\n",
      "Train_auc_ccssm: 0.8401673\n",
      "Valid_auc_taskid: 0.86493045\n",
      "Valid_auc_ccssm: 0.840907\n",
      "Step 1, Loss = [0.9379664], Learning Rate = 0.1\n",
      "Step 25, Loss = [0.9283585], Learning Rate = 0.1\n",
      "Step 50, Loss = [0.9166291], Learning Rate = 0.1\n",
      "Step 75, Loss = [0.9009532], Learning Rate = 0.1\n",
      "Step 100, Loss = [0.88134557], Learning Rate = 0.1\n",
      "Optimization Finished!\n",
      "Train_auc_taskid: 0.875388\n",
      "Train_auc_ccssm: 0.963184\n",
      "Valid_auc_taskid: 0.87492025\n",
      "Valid_auc_ccssm: 0.96460176\n",
      "Step 1, Loss = [0.93507344], Learning Rate = 1.0\n",
      "Step 25, Loss = [0.79173], Learning Rate = 1.0\n",
      "Step 50, Loss = [0.7149967], Learning Rate = 1.0\n",
      "Step 75, Loss = [0.69579715], Learning Rate = 1.0\n",
      "Step 100, Loss = [0.68752897], Learning Rate = 1.0\n",
      "Optimization Finished!\n",
      "Train_auc_taskid: 0.9825609\n",
      "Train_auc_ccssm: 0.9789623\n",
      "Valid_auc_taskid: 0.98241735\n",
      "Valid_auc_ccssm: 0.97977245\n",
      "Step 1, Loss = [0.9325757], Learning Rate = 1.5\n",
      "Step 25, Loss = [0.7312532], Learning Rate = 1.5\n",
      "Step 50, Loss = [0.6944877], Learning Rate = 1.5\n",
      "Step 75, Loss = [0.68472093], Learning Rate = 1.5\n",
      "Step 100, Loss = [0.6801052], Learning Rate = 1.5\n",
      "Optimization Finished!\n",
      "Train_auc_taskid: 0.9806232\n",
      "Train_auc_ccssm: 0.9947406\n",
      "Valid_auc_taskid: 0.97810906\n",
      "Valid_auc_ccssm: 0.99494314\n",
      "Step 1, Loss = [0.9227498], Learning Rate = 2.0\n",
      "Step 25, Loss = [0.70787835], Learning Rate = 2.0\n",
      "Step 50, Loss = [0.6861096], Learning Rate = 2.0\n",
      "Step 75, Loss = [0.6799132], Learning Rate = 2.0\n",
      "Step 100, Loss = [0.6767676], Learning Rate = 2.0\n",
      "Optimization Finished!\n",
      "Train_auc_taskid: 0.9825609\n",
      "Train_auc_ccssm: 0.97896236\n",
      "Valid_auc_taskid: 0.97720075\n",
      "Valid_auc_ccssm: 0.97977245\n",
      "Step 1, Loss = [0.92210484], Learning Rate = 2.5\n",
      "Step 25, Loss = [0.70086163], Learning Rate = 2.5\n",
      "Step 50, Loss = [0.68263626], Learning Rate = 2.5\n",
      "Step 75, Loss = [0.677663], Learning Rate = 2.5\n",
      "Step 100, Loss = [0.675112], Learning Rate = 2.5\n",
      "Optimization Finished!\n",
      "Train_auc_taskid: 0.9806232\n",
      "Train_auc_ccssm: 0.97896236\n",
      "Valid_auc_taskid: 0.97810906\n",
      "Valid_auc_ccssm: 0.97977245\n",
      "Step 1, Loss = [0.9303509], Learning Rate = 3.0\n",
      "Step 25, Loss = [0.7047354], Learning Rate = 3.0\n",
      "Step 50, Loss = [0.6817259], Learning Rate = 3.0\n",
      "Step 75, Loss = [0.6767231], Learning Rate = 3.0\n",
      "Step 100, Loss = [0.6743018], Learning Rate = 3.0\n",
      "Optimization Finished!\n",
      "Train_auc_taskid: 0.9806232\n",
      "Train_auc_ccssm: 0.97896236\n",
      "Valid_auc_taskid: 0.97810906\n",
      "Valid_auc_ccssm: 0.97977245\n",
      "Step 1, Loss = [0.92542815], Learning Rate = 3.5\n",
      "Step 25, Loss = [0.69056714], Learning Rate = 3.5\n",
      "Step 50, Loss = [0.6783357], Learning Rate = 3.5\n",
      "Step 75, Loss = [0.6749924], Learning Rate = 3.5\n",
      "Step 100, Loss = [0.67317706], Learning Rate = 3.5\n",
      "Optimization Finished!\n",
      "Train_auc_taskid: 0.9806232\n",
      "Train_auc_ccssm: 0.97896236\n",
      "Valid_auc_taskid: 0.97810906\n",
      "Valid_auc_ccssm: 0.97977245\n",
      "Step 1, Loss = [0.92637503], Learning Rate = 4.0\n",
      "Step 25, Loss = [0.68869764], Learning Rate = 4.0\n",
      "Step 50, Loss = [0.6772681], Learning Rate = 4.0\n",
      "Step 75, Loss = [0.6742669], Learning Rate = 4.0\n",
      "Step 100, Loss = [0.67263585], Learning Rate = 4.0\n",
      "Optimization Finished!\n",
      "Train_auc_taskid: 0.9806232\n",
      "Train_auc_ccssm: 0.97896236\n",
      "Valid_auc_taskid: 0.97810906\n",
      "Valid_auc_ccssm: 0.97977245\n"
     ]
    }
   ],
   "source": [
    "plot_lr = []\n",
    "plot_valid_auc_taskid = []\n",
    "plot_valid_auc_ccssm = []\n",
    "plot_train_auc_ccssm = []\n",
    "plot_train_auc_taskid = []\n",
    "with tf.Session() as sess:\n",
    "    for l_r in learning_rate:\n",
    "        plot_lr.append(l_r)\n",
    "        # Initialize the variables (i.e. assign their default value)\n",
    "        sess.run(tf.global_variables_initializer())\n",
    "        sess.run(tf.local_variables_initializer())\n",
    "        assign_op = learning_tf_rate.assign(l_r)\n",
    "        sess.run(assign_op)\n",
    "        #print(\"Current Learning Rate: \"+str(learning_tf_rate.eval()))\n",
    "        for step in range(1, training_steps+1):\n",
    "            \n",
    "            valid_set_x,valid_set_y,valid_set_y_ccssm,valid_set_y_taskid,train_set_x,train_set_y,train_set_y_ccssm,train_set_y_taskid = get_next_train_valid_set(step-1)\n",
    "            batch_x = train_set_x\n",
    "            batch_y = train_set_y\n",
    "            sess.run(optimizer, feed_dict={x: batch_x, y: batch_y, y_taskid: train_set_y_taskid, y_ccssm: train_set_y_ccssm})\n",
    "            \n",
    "            if step % display_step == 0 or step == 1:\n",
    "                loss= sess.run([cost], feed_dict={x: batch_x, y: batch_y, y_taskid: train_set_y_taskid, y_ccssm: train_set_y_ccssm})\n",
    "                #print status\n",
    "                print(\"Step \" + str(step) + \", Loss = \" + str(loss) + \", Learning Rate = \"+str(learning_tf_rate.eval()))\n",
    "        print(\"Optimization Finished!\")\n",
    "    \n",
    "        #calculate training AUC\n",
    "        train_auc_ccssm, train_opts_ccssm = sess.run([auc_ccssm,  opts_ccssm], feed_dict={x: batch_x, y: batch_y, y_taskid: train_set_y_taskid, y_ccssm: train_set_y_ccssm})\n",
    "        train_auc_taskid, train_opts_taskid = sess.run([auc, opts], feed_dict={x: batch_x, y: batch_y, y_taskid: train_set_y_taskid, y_ccssm: train_set_y_ccssm})\n",
    "        #calculate validation AUC\n",
    "        valid_auc_ccssm, valid_opts_ccssm = sess.run([auc_ccssm,  opts_ccssm], feed_dict={x: valid_set_x, y: valid_set_y, y_taskid: valid_set_y_taskid, y_ccssm: valid_set_y_ccssm})\n",
    "        valid_auc_taskid, valid_opts_taskid = sess.run([auc, opts], feed_dict={x: valid_set_x, y: valid_set_y, y_taskid: valid_set_y_taskid, y_ccssm: valid_set_y_ccssm})\n",
    "        print(\"Train_auc_taskid: \" + str(train_opts_taskid))\n",
    "        plot_train_auc_taskid.append(train_opts_taskid)\n",
    "        print(\"Train_auc_ccssm: \" + str(train_opts_ccssm))\n",
    "        plot_train_auc_ccssm.append(train_opts_ccssm)\n",
    "        print(\"Valid_auc_taskid: \" + str(valid_opts_taskid))\n",
    "        plot_valid_auc_taskid.append(valid_opts_taskid)\n",
    "        print(\"Valid_auc_ccssm: \" + str(valid_opts_ccssm))\n",
    "        plot_valid_auc_ccssm.append(valid_opts_ccssm)"
   ]
  },
  {
   "cell_type": "markdown",
   "metadata": {},
   "source": [
    "Plotting validation set ccssm auc across different learning rates."
   ]
  },
  {
   "cell_type": "code",
   "execution_count": 14,
   "metadata": {},
   "outputs": [
    {
     "data": {
      "image/png": "[encoded data removed]",
      "text/plain": [
       "<matplotlib.figure.Figure at 0x1286853c8>"
      ]
     },
     "metadata": {},
     "output_type": "display_data"
    },
    {
     "data": {
      "image/png": "[encoded data removed]",
      "text/plain": [
       "<matplotlib.figure.Figure at 0x1289948d0>"
      ]
     },
     "metadata": {},
     "output_type": "display_data"
    }
   ],
   "source": [
    "plt.title(\"Training Set AUC\")\n",
    "plt.xlabel(\"Learning Rate Index\")\n",
    "plt.ylabel(\"AUC\")\n",
    "plt.plot(plot_train_auc_taskid,'r--',label='taskid')\n",
    "plt.plot(plot_train_auc_ccssm,'g--',label='ccssm')\n",
    "plt.legend(loc='best', fancybox=True, framealpha=0.5)\n",
    "plt.show()\n",
    "\n",
    "plt.xlabel(\"Learning Rate Index\")\n",
    "plt.ylabel(\"AUC\")\n",
    "plt.title(\"Validation Set AUC\")\n",
    "plt.plot(plot_valid_auc_taskid,label='taskid')\n",
    "plt.plot(plot_valid_auc_ccssm,label='ccssm')\n",
    "plt.legend(loc='best', fancybox=True, framealpha=0.5)\n",
    "plt.show()"
   ]
  },
  {
   "cell_type": "markdown",
   "metadata": {},
   "source": [
    "#http://www.wildml.com/2016/08/rnns-in-tensorflow-a-practical-guide-and-undocumented-features/"
   ]
  },
  {
   "cell_type": "markdown",
   "metadata": {},
   "source": [
    "Now Training the model with hyperparameters chosen from above and calculating testing AUC."
   ]
  },
  {
   "cell_type": "code",
   "execution_count": 15,
   "metadata": {},
   "outputs": [
    {
     "name": "stdout",
     "output_type": "stream",
     "text": [
      "Step 1, Loss = [0.9308533], Learning Rate = 2.0\n",
      "Step 25, Loss = [0.7112799], Learning Rate = 2.0\n",
      "Step 50, Loss = [0.6867855], Learning Rate = 2.0\n",
      "Step 75, Loss = [0.68018097], Learning Rate = 2.0\n",
      "Step 100, Loss = [0.6769059], Learning Rate = 2.0\n",
      "Optimization Finished!\n",
      "Train_auc_taskid: 0.9825609\n",
      "Train_auc_ccssm: 0.97896236\n",
      "Valid_auc_taskid: 0.98029816\n",
      "Valid_auc_ccssm: 0.97977245\n",
      "Testing auc for taskid: 0.9701824\n",
      "Testing auc for ccssm: 0.9708594\n"
     ]
    }
   ],
   "source": [
    "#As the graphs indicate that 2.0 (index 6) is the best learning rate for 5 hidden units at 100 training steps. Let's calculate testing AUC.\n",
    "with tf.Session() as sess:\n",
    "    for l_r in [2.0]:\n",
    "        # Initialize the variables (i.e. assign their default value)\n",
    "        sess.run(tf.global_variables_initializer())\n",
    "        sess.run(tf.local_variables_initializer())\n",
    "        assign_op = learning_tf_rate.assign(l_r)\n",
    "        sess.run(assign_op)\n",
    "        #print(\"Current Learning Rate: \"+str(learning_tf_rate.eval()))\n",
    "        for step in range(1, training_steps+1):\n",
    "            \n",
    "            valid_set_x,valid_set_y,valid_set_y_ccssm,valid_set_y_taskid,train_set_x,train_set_y,train_set_y_ccssm,train_set_y_taskid = get_next_train_valid_set(step-1)\n",
    "            batch_x = train_set_x\n",
    "            batch_y = train_set_y\n",
    "            sess.run(optimizer, feed_dict={x: batch_x, y: batch_y, y_taskid: train_set_y_taskid, y_ccssm: train_set_y_ccssm})\n",
    "            \n",
    "            if step % display_step == 0 or step == 1:\n",
    "                loss= sess.run([cost], feed_dict={x: batch_x, y: batch_y, y_taskid: train_set_y_taskid, y_ccssm: train_set_y_ccssm})\n",
    "                #print status\n",
    "                print(\"Step \" + str(step) + \", Loss = \" + str(loss) + \", Learning Rate = \"+str(learning_tf_rate.eval()))\n",
    "        print(\"Optimization Finished!\")\n",
    "    \n",
    "        #calculate training AUC\n",
    "        train_auc_ccssm, train_opts_ccssm = sess.run([auc_ccssm,  opts_ccssm], feed_dict={x: batch_x, y: batch_y, y_taskid: train_set_y_taskid, y_ccssm: train_set_y_ccssm})\n",
    "        train_auc_taskid, train_opts_taskid = sess.run([auc, opts], feed_dict={x: batch_x, y: batch_y, y_taskid: train_set_y_taskid, y_ccssm: train_set_y_ccssm})\n",
    "        #calculate validation AUC\n",
    "        valid_auc_ccssm, valid_opts_ccssm = sess.run([auc_ccssm,  opts_ccssm], feed_dict={x: valid_set_x, y: valid_set_y, y_taskid: valid_set_y_taskid, y_ccssm: valid_set_y_ccssm})\n",
    "        valid_auc_taskid, valid_opts_taskid = sess.run([auc, opts], feed_dict={x: valid_set_x, y: valid_set_y, y_taskid: valid_set_y_taskid, y_ccssm: valid_set_y_ccssm})\n",
    "        print(\"Train_auc_taskid: \" + str(train_opts_taskid))\n",
    "        print(\"Train_auc_ccssm: \" + str(train_opts_ccssm))\n",
    "        print(\"Valid_auc_taskid: \" + str(valid_opts_taskid))\n",
    "        print(\"Valid_auc_ccssm: \" + str(valid_opts_ccssm))\n",
    "    # Calculate test auc\n",
    "    temp_auc_ccssm, temp_opts_ccssm = sess.run([auc_ccssm,  opts_ccssm], feed_dict={x: test_x, y: test_y, y_taskid: test_y_taskid, y_ccssm: test_y_ccssm})\n",
    "    temp_auc_taskid, temp_opts_taskid = sess.run([auc, opts], feed_dict={x: test_x, y: test_y, y_taskid: test_y_taskid, y_ccssm: test_y_ccssm})\n",
    "    print(\"Testing auc for taskid: \" + str(temp_opts_taskid))\n",
    "    print(\"Testing auc for ccssm: \" + str(temp_opts_ccssm))"
   ]
  },
  {
   "cell_type": "code",
   "execution_count": null,
   "metadata": {},
   "outputs": [],
   "source": []
  },
  {
   "cell_type": "code",
   "execution_count": null,
   "metadata": {},
   "outputs": [],
   "source": []
  }
 ],
 "metadata": {
  "kernelspec": {
   "display_name": "Python 3",
   "language": "python",
   "name": "python3"
  },
  "language_info": {
   "codemirror_mode": {
    "name": "ipython",
    "version": 3
   },
   "file_extension": ".py",
   "mimetype": "text/x-python",
   "name": "python",
   "nbconvert_exporter": "python",
   "pygments_lexer": "ipython3",
   "version": "3.6.4"
  }
 },
 "nbformat": 4,
 "nbformat_minor": 2
}
