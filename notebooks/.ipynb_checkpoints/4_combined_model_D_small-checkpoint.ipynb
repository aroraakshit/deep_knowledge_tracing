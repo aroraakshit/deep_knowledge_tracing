{
 "cells": [
  {
   "cell_type": "markdown",
   "metadata": {},
   "source": [
    "# Import Data and Libraries"
   ]
  },
  {
   "cell_type": "code",
   "execution_count": 1,
   "metadata": {
    "ExecuteTime": {
     "end_time": "2018-04-10T19:02:13.345219Z",
     "start_time": "2018-04-10T19:02:10.322369Z"
    }
   },
   "outputs": [],
   "source": [
    "import json\n",
    "from sklearn.preprocessing import MultiLabelBinarizer\n",
    "import numpy as np\n",
    "import tensorflow as tf\n",
    "import pprint as pp\n",
    "import math\n",
    "import random\n",
    "import matplotlib.pyplot as plt\n",
    "import os\n",
    "from collections import Counter\n",
    "%matplotlib inline\n",
    "import pickle\n",
    "def save_obj(obj, name ):\n",
    "    with open(name + '.pkl', 'wb') as f:\n",
    "        pickle.dump(obj, f)\n",
    "        \n",
    "def load_obj(name ):\n",
    "    with open(name + '.pkl', 'rb') as f:\n",
    "        return pickle.load(f)"
   ]
  },
  {
   "cell_type": "code",
   "execution_count": 2,
   "metadata": {
    "ExecuteTime": {
     "end_time": "2018-04-10T19:02:14.792014Z",
     "start_time": "2018-04-10T19:02:14.788469Z"
    }
   },
   "outputs": [
    {
     "name": "stdout",
     "output_type": "stream",
     "text": [
      "Tensorflow version: 1.4.1\n"
     ]
    }
   ],
   "source": [
    "print(\"Tensorflow version: \" + str(tf.VERSION))"
   ]
  },
  {
   "cell_type": "code",
   "execution_count": 3,
   "metadata": {
    "ExecuteTime": {
     "end_time": "2018-04-10T19:02:16.894286Z",
     "start_time": "2018-04-10T19:02:16.744716Z"
    }
   },
   "outputs": [],
   "source": [
    "filepath = \"../data/student_vectors_n_task_10_n_limit_10000.json\"\n",
    "student_vectors = json.load(open(filepath))\n",
    "#filepath2 = \"../../../student_vectors_n_task_10_n_limit_100000.json\"\n",
    "#student_vectors2 = json.load(open(filepath2))"
   ]
  },
  {
   "cell_type": "markdown",
   "metadata": {},
   "source": [
    "# Stats on Data"
   ]
  },
  {
   "cell_type": "code",
   "execution_count": 4,
   "metadata": {
    "ExecuteTime": {
     "end_time": "2018-04-10T19:12:24.518079Z",
     "start_time": "2018-04-10T19:12:24.223848Z"
    }
   },
   "outputs": [
    {
     "name": "stdout",
     "output_type": "stream",
     "text": [
      "Number of unique task IDs: 10\n",
      "Number of students: 1255\n"
     ]
    },
    {
     "data": {
      "image/png": "[encoded data removed]",
      "text/plain": [
       "<matplotlib.figure.Figure at 0x1176c4ba8>"
      ]
     },
     "metadata": {},
     "output_type": "display_data"
    },
    {
     "name": "stdout",
     "output_type": "stream",
     "text": [
      "Task IDs mapping: \n",
      "Task ID -> p7cfRPp-kQ.partb(1) is attempted 7259 times. Max seq len: 46\n",
      "Task ID -> Ok-iIHxjgx.partb(2) is attempted 2325 times. Max seq len: 27\n",
      "Task ID -> 1zsCldT4p8.set1(3) is attempted 6346 times. Max seq len: 39\n",
      "Task ID -> DebcfZEEmI.proper_fractions(4) is attempted 6897 times. Max seq len: 40\n",
      "Task ID -> 9wRCzK1G7F.partb(5) is attempted 6632 times. Max seq len: 43\n",
      "Task ID -> 1zsCldT4p8.set2(6) is attempted 6443 times. Max seq len: 28\n",
      "Task ID -> nl-M69Ez9k.parta(7) is attempted 4753 times. Max seq len: 56\n",
      "Task ID -> kvig7fcCVc.partb(8) is attempted 3473 times. Max seq len: 32\n",
      "Task ID -> Ok-iIHxjgx.parta(9) is attempted 1589 times. Max seq len: 39\n",
      "Task ID -> hyei4uD81i.parta(10) is attempted 1255 times. Max seq len: 40\n"
     ]
    }
   ],
   "source": [
    "#Stats on data and building another_2\n",
    "'''\n",
    "task_ids = skill IDs stored in a list.\n",
    "cnt2 = counter of all attempts of skill IDs \n",
    "another_2 = a dictionary with skill IDs as keys and position (int key) of that skill in cnt2 as values\n",
    "seqlen_tasks = dictionary with skill IDs as keys and sequence lengths for that skill as array as keys\n",
    "'''\n",
    "\n",
    "# we make task_ids now\n",
    "task_ids = []\n",
    "for i in student_vectors:\n",
    "    for j in student_vectors[i]:\n",
    "        if j['task_id'] not in task_ids:\n",
    "            task_ids.append(j['task_id'])\n",
    "print(\"Number of unique task IDs: \" + str(len(task_ids)))\n",
    "print(\"Number of students: \" + str(len(student_vectors)))\n",
    "\n",
    "# making another_2 and cnt2 now\n",
    "# plotting frequency distribution of taskids\n",
    "cnt2 = Counter()\n",
    "another_2 = {}\n",
    "seqlen_tasks = {}\n",
    "temp_seqlen = {}\n",
    "position_2 = 1\n",
    "for i in student_vectors:\n",
    "    for k in temp_seqlen:\n",
    "        temp_seqlen[k] = 0\n",
    "    for j in student_vectors[i]:\n",
    "        if(j['second_try'] == False):\n",
    "            if j['task_id'] not in another_2:\n",
    "                another_2[j['task_id']] = str(position_2)\n",
    "                position_2 = position_2 + 1\n",
    "            if j['task_id'] not in seqlen_tasks:\n",
    "                seqlen_tasks[j['task_id']] = []\n",
    "\n",
    "            if j['task_id'] not in temp_seqlen:\n",
    "                temp_seqlen[j['task_id']] = 1\n",
    "            else:\n",
    "                temp_seqlen[j['task_id']] += 1\n",
    "            cnt2[another_2[j['task_id']]] += 1\n",
    "    for k in seqlen_tasks:\n",
    "        seqlen_tasks[k].append(temp_seqlen[k])\n",
    "plt.bar(cnt2.keys(), cnt2.values())\n",
    "plt.title(\"Task IDs distribution\")\n",
    "plt.xlabel(\"Frequency of task ID across all students\")\n",
    "plt.ylabel(\"Task IDs\")\n",
    "plt.show()\n",
    "print(\"Task IDs mapping: \")\n",
    "for i in another_2:\n",
    "    print(\"Task ID -> \"+str(i)+\"(\"+str(another_2[i])+\") is attempted \" + str(cnt2[another_2[i]]) + \" times.\" + \" Max seq len: \"+str(max(seqlen_tasks[i])))"
   ]
  },
  {
   "cell_type": "markdown",
   "metadata": {},
   "source": [
    "# Pre-processing Data"
   ]
  },
  {
   "cell_type": "code",
   "execution_count": 13,
   "metadata": {
    "ExecuteTime": {
     "end_time": "2018-04-10T19:31:42.387711Z",
     "start_time": "2018-04-10T19:31:42.181155Z"
    }
   },
   "outputs": [],
   "source": [
    "'''\n",
    "Till now, there has been no split between test and train set!\n",
    "task_ids_dict = dictionary with skill IDs as keys and their one-hot encoding as values\n",
    "sequences = X\n",
    "output_y = Y\n",
    "seqlen = sequence length\n",
    "length_interaction_vector = twice the number of skill IDs because that's how our encoding works, right now\n",
    "'''\n",
    "\n",
    "#pre-processing for using MultiLabelBinarizer\n",
    "temp_ids = [[x] for x in task_ids]\n",
    "\n",
    "#generating encodings\n",
    "enc = MultiLabelBinarizer()\n",
    "task_ids_1hot = (enc.fit_transform(temp_ids)).astype(float)\n",
    "task_ids_dict = dict(zip(task_ids, task_ids_1hot))\n",
    "# print(\"\\n1-hot encoding for task IDs:\")\n",
    "# pp.pprint(task_ids_dict)\n",
    "\n",
    "sequences = []\n",
    "output_y = []\n",
    "seqlen = []\n",
    "incorrect_tid_vec = np.zeros((len(task_ids)), dtype=np.float)\n",
    "for i in student_vectors:\n",
    "    temp_seq = []\n",
    "    temp_seq.append(np.concatenate([incorrect_tid_vec,incorrect_tid_vec])) #for taking first prediction into account\n",
    "    for j in student_vectors[i]:\n",
    "        if(j['second_try'] == False): #ignoring second_try\n",
    "            if(j['correct'] == True):\n",
    "                vec = np.concatenate([task_ids_dict[j['task_id']],incorrect_tid_vec])\n",
    "                temp_seq.append(np.asarray(vec))\n",
    "            else:\n",
    "                vec = np.concatenate([incorrect_tid_vec,task_ids_dict[j['task_id']]])\n",
    "                temp_seq.append(np.asarray(vec))\n",
    "    if(len(temp_seq)>1):\n",
    "        seqlen.append(len(temp_seq)-1)\n",
    "        last_one = temp_seq.pop() #remove last interaction vector\n",
    "        sequences.append(np.asarray(temp_seq)) #add it to x\n",
    "        first_one = temp_seq.pop(0) #remove first interaction vector\n",
    "        temp_seq.append(last_one)\n",
    "        output_y.append(np.asarray(temp_seq)) #concatenate with last vector, and append to output! \n",
    "\n",
    "length_interaction_vector = 2*(len(task_ids)) #length of interaction vector\n",
    "# print(\"Sample interaction vector: \")\n",
    "# pp.pprint(sequences[0][0])"
   ]
  },
  {
   "cell_type": "code",
   "execution_count": 14,
   "metadata": {
    "ExecuteTime": {
     "end_time": "2018-04-10T19:31:52.981411Z",
     "start_time": "2018-04-10T19:31:52.972760Z"
    }
   },
   "outputs": [
    {
     "name": "stdout",
     "output_type": "stream",
     "text": [
      "Splitting 1255 rows (or students) into 1004 for training and rest for testing.\n",
      "Number of recurrent units = 50\n",
      "Learning rate = 0.1\n",
      "display step = 20\n"
     ]
    }
   ],
   "source": [
    "training_set_split = 0.8\n",
    "split = int((training_set_split)*len(student_vectors))\n",
    "print(\"Splitting \"+str(len(student_vectors))+\" rows (or students) into \"+str(split)+ \" for training and rest for testing.\")\n",
    "num_units = 50\n",
    "print(\"Number of recurrent units = \"+str(num_units))\n",
    "l_r1 = 0.1\n",
    "print(\"Learning rate = \"+str(l_r1))\n",
    "display_step = 20\n",
    "print(\"display step = \"+str(display_step))"
   ]
  },
  {
   "cell_type": "code",
   "execution_count": 15,
   "metadata": {
    "ExecuteTime": {
     "end_time": "2018-04-10T19:40:14.666997Z",
     "start_time": "2018-04-10T19:40:14.395188Z"
    }
   },
   "outputs": [],
   "source": [
    "'''\n",
    "We take one skill at a time and go through student_vectors each time. This way, all skill IDs will be in sequence, all skill IDs 1 will be before skill ID 2. Then we randomize this.\n",
    "This is the exact data to prepare for training with model D! \n",
    "The test set is for evaluation: 2a... FOUND THE BUG! this is not 2a\n",
    "sequences_test = X for test set\n",
    "sequences_train = X for train set\n",
    "output_y_train = Y for train set\n",
    "output_y_test = Y for test set\n",
    "seqlen_train = sequence length for train set\n",
    "seqlen_test = sequence length for test set\n",
    "sequences_lengths1_train = for using as mask in train set\n",
    "sequences_lengths1_test = for using as mask in test set\n",
    "'''\n",
    "\n",
    "sequences_test = []\n",
    "sequences_train = []\n",
    "output_y_train = []\n",
    "output_y_test = []\n",
    "seqlen_train = []\n",
    "seqlen_test = []\n",
    "sequences_lengths1_train = [] #for passing to mask\n",
    "sequences_lengths1_test = [] #for passing to mask\n",
    "incorrect_tid_vec = np.zeros((len(task_ids)), dtype=np.float)\n",
    "\n",
    "for l in another_2:\n",
    "    for idx,i in enumerate(student_vectors):\n",
    "        temp_seq = []\n",
    "        temp_seq.append(np.concatenate([incorrect_tid_vec,incorrect_tid_vec])) #for taking first prediction into account\n",
    "        for j in student_vectors[i]:\n",
    "            if(j['second_try'] == False and j['task_id'] == l): #ignoring second_try\n",
    "                if(j['correct'] == True):\n",
    "                    vec = np.concatenate([task_ids_dict[j['task_id']],incorrect_tid_vec])\n",
    "                    temp_seq.append(vec)\n",
    "                else:\n",
    "                    vec = np.concatenate([incorrect_tid_vec,task_ids_dict[j['task_id']]])\n",
    "                    temp_seq.append(vec)\n",
    "        if(len(temp_seq)>1):\n",
    "            if(idx < split):\n",
    "                seqlen_train.append(len(temp_seq)-1)\n",
    "                sequences_lengths1_train.append([len(temp_seq)-1]) \n",
    "                last_one = temp_seq.pop() #remove last interaction vector\n",
    "                sequences_train.append(temp_seq) #add it to x\n",
    "                first_one = temp_seq.pop(0) #remove first interaction vector\n",
    "                temp_seq.append(last_one)\n",
    "                output_y_train.append(temp_seq) #concatenate with last vector, and append to output! \n",
    "            else:\n",
    "                seqlen_test.append(len(temp_seq)-1)\n",
    "                sequences_lengths1_test.append([len(temp_seq)-1]) \n",
    "                last_one = temp_seq.pop() #remove last interaction vector\n",
    "                sequences_test.append(temp_seq) #add it to x\n",
    "                first_one = temp_seq.pop(0) #remove first interaction vector\n",
    "                temp_seq.append(last_one)\n",
    "                output_y_test.append(temp_seq) #concatenate with last vector, and append to output! \n",
    "    \n",
    "# print(\"Sample interaction vector: \")\n",
    "# pp.pprint(sequences[0][0])\n",
    "length_interaction_vector = 2*(len(task_ids)) #length of interaction vector"
   ]
  },
  {
   "cell_type": "markdown",
   "metadata": {},
   "source": [
    "Finding maximum sequence length."
   ]
  },
  {
   "cell_type": "code",
   "execution_count": 16,
   "metadata": {
    "ExecuteTime": {
     "end_time": "2018-04-10T19:40:30.631770Z",
     "start_time": "2018-04-10T19:40:30.627145Z"
    }
   },
   "outputs": [
    {
     "name": "stdout",
     "output_type": "stream",
     "text": [
      "Maximum sequence length: 56\n"
     ]
    }
   ],
   "source": [
    "max_seqlen1 = max(seqlen_train)\n",
    "max_seqlen2 = max(seqlen_test)\n",
    "max_seqlen = max(max_seqlen1,max_seqlen2)\n",
    "print(\"Maximum sequence length: \"+str(max_seqlen))"
   ]
  },
  {
   "cell_type": "code",
   "execution_count": null,
   "metadata": {
    "ExecuteTime": {
     "end_time": "2018-04-10T18:59:35.616164Z",
     "start_time": "2018-04-10T18:59:35.440318Z"
    }
   },
   "outputs": [],
   "source": [
    "training_x = np.zeros(shape=(len(sequences_train),max_seqlen,length_interaction_vector),dtype=float)\n",
    "training_y = np.zeros(shape=(len(sequences_train),max_seqlen,length_interaction_vector),dtype=float)\n",
    "for i in range(len(sequences_train)):\n",
    "    for j in range(len(sequences_train[i])):\n",
    "        training_x[i][j] = sequences_train[i][j]\n",
    "        training_y[i][j] = output_y_train[i][j]\n",
    "training_seqlen = np.zeros_like(seqlen_train)\n",
    "training_seqlen = seqlen_train\n",
    "print(\"Sequences have been padded according to the maximum sequence length. Final shape: \" + str(training_x.shape))\n",
    "\n",
    "test_x = np.zeros(shape=(len(sequences_test),max_seqlen,length_interaction_vector),dtype=float)\n",
    "test_y = np.zeros(shape=(len(sequences_test),max_seqlen,length_interaction_vector),dtype=float)\n",
    "test_seqlen = np.zeros_like(seqlen_test)\n",
    "test_seqlen = seqlen_test\n",
    "for i in range(len(sequences_test)):\n",
    "    for j in range(len(sequences_test[i])):\n",
    "        test_x[i][j] = sequences_test[i][j]        \n",
    "        test_y[i][j] = output_y_test[i][j]\n",
    "print(\"Final test shape: \" + str(test_x.shape))"
   ]
  },
  {
   "cell_type": "markdown",
   "metadata": {},
   "source": [
    "# Model Definition"
   ]
  },
  {
   "cell_type": "code",
   "execution_count": null,
   "metadata": {
    "ExecuteTime": {
     "end_time": "2018-04-10T07:15:31.734362Z",
     "start_time": "2018-04-10T07:15:29.725196Z"
    }
   },
   "outputs": [],
   "source": [
    "tf.reset_default_graph()\n",
    "tf.set_random_seed(1234)\n",
    "#defining placeholders\n",
    "x = tf.placeholder(tf.float32, [None, None, length_interaction_vector])\n",
    "y = tf.placeholder(tf.float32, [None, None, length_interaction_vector])\n",
    "seqlen_tf = tf.placeholder(tf.float32,[None])\n",
    "condition = tf.placeholder(tf.int32, shape=[], name=\"condition\")\n",
    "converged = tf.Variable(0)\n",
    "\n",
    "#defining tensorflow variables\n",
    "learning_tf_rate = tf.Variable(0.0, name=\"learning_tf_rate\",dtype=tf.float32,trainable=False)\n",
    "\n",
    "#dynamic RNN definition\n",
    "def dynamicRNN(x):\n",
    "    rnn_cell = tf.nn.rnn_cell.BasicLSTMCell(num_units)\n",
    "    outputs, states = tf.nn.dynamic_rnn(rnn_cell, x, dtype=tf.float32,sequence_length=seqlen_tf)\n",
    "    out_size = int(length_interaction_vector / 2)\n",
    "    outputs = tf.contrib.layers.fully_connected(outputs, out_size, activation_fn = tf.nn.sigmoid, weights_initializer=tf.contrib.layers.xavier_initializer(uniform=False))\n",
    "    opposites = tf.subtract(tf.ones(tf.shape(outputs)),outputs)\n",
    "    outputs1 = tf.concat([outputs,opposites],2)\n",
    "    return outputs1\n",
    "\n",
    "#making predictions\n",
    "pred = dynamicRNN(x)\n",
    "pred = pred*y\n",
    "# Define loss and optimizer\n",
    "cost1 = tf.nn.sigmoid_cross_entropy_with_logits(logits=pred, labels=y)\n",
    "mask = tf.cond(condition < 1, lambda: tf.cast(tf.sequence_mask(lengths=sequences_lengths1_train, maxlen = max_seqlen), tf.float32), lambda: tf.cast(tf.sequence_mask(lengths=sequences_lengths1_test, maxlen = max_seqlen), tf.float32))\n",
    "cost1 = tf.multiply(cost1,tf.transpose(mask, perm=[0, 2, 1]))\n",
    "cost1 = tf.reduce_sum(cost1, 1)\n",
    "cost1 /= tf.cond(condition < 1, lambda: tf.cast(sequences_lengths1_train,tf.float32), lambda: tf.cast(sequences_lengths1_test,tf.float32) )\n",
    "cost = tf.reduce_mean(cost1)\n",
    "optimizer = tf.train.AdamOptimizer(learning_rate=learning_tf_rate).minimize(cost)\n",
    "\n",
    "saver = tf.train.Saver(max_to_keep=5)"
   ]
  },
  {
   "cell_type": "markdown",
   "metadata": {},
   "source": [
    "Partitioning test set into separate task IDs"
   ]
  },
  {
   "cell_type": "code",
   "execution_count": null,
   "metadata": {
    "ExecuteTime": {
     "end_time": "2018-04-10T07:15:56.296074Z",
     "start_time": "2018-04-10T07:15:55.995212Z"
    }
   },
   "outputs": [],
   "source": [
    "test_x_list_dict = {}\n",
    "test_y_list_dict = {}\n",
    "test_seqlen_list_dict = {}\n",
    "train_x_list_dict = {}\n",
    "train_y_list_dict = {}\n",
    "train_seqlen_list_dict = {}\n",
    "split_dict = {}\n",
    "\n",
    "for i in another_2: \n",
    "    #generate encoding here! \n",
    "    sequences = []\n",
    "    sequences_lengths = []\n",
    "    for p in student_vectors:\n",
    "        interactions = []\n",
    "        interactions.append(np.concatenate([incorrect_tid_vec,incorrect_tid_vec])) #for getting the first prediction!\n",
    "        for j in student_vectors[p]:\n",
    "            if(j['task_id'] == i and j['second_try'] == False):\n",
    "                if(j['correct'] == True):\n",
    "                    vec = np.concatenate([task_ids_dict[j['task_id']],incorrect_tid_vec])\n",
    "                    interactions.append(vec)\n",
    "                else:\n",
    "                    interactions.append(np.concatenate([incorrect_tid_vec,task_ids_dict[j['task_id']]]))\n",
    "        if(len(interactions) > 1):\n",
    "            sequences_lengths.append(len(interactions)-1)\n",
    "            sequences.append(interactions)\n",
    "    split = int(0.8*len(sequences))\n",
    "    #add padding\n",
    "    padded_sequences = np.zeros([len(sequences),max_seqlen+1,length_interaction_vector])\n",
    "    for p in range(len(sequences)):\n",
    "        for j in range(len(sequences[p])):\n",
    "            padded_sequences[p][j] = sequences[p][j]\n",
    "    test_x_list_dict[i] = padded_sequences[split:,:-1]\n",
    "    test_y_list_dict[i] = padded_sequences[split:,1:]\n",
    "    test_seqlen_list_dict[i] = sequences_lengths[split:]\n",
    "    train_x_list_dict[i] = padded_sequences[:split,:-1]\n",
    "    train_y_list_dict[i] = padded_sequences[:split,1:]\n",
    "    train_seqlen_list_dict[i] = sequences_lengths[:split]"
   ]
  },
  {
   "cell_type": "code",
   "execution_count": null,
   "metadata": {
    "ExecuteTime": {
     "end_time": "2018-04-10T07:16:04.303819Z",
     "start_time": "2018-04-10T07:16:04.193582Z"
    }
   },
   "outputs": [],
   "source": [
    "np.set_printoptions(threshold=np.nan)\n",
    "\n",
    "import math\n",
    "import numpy as np\n",
    "from sklearn.metrics import roc_auc_score\n",
    "from sklearn.metrics import roc_curve\n",
    "\n",
    "def calculate_auc (y_true,y_pred,sequence_lengths=[],plot=False,debug=False):\n",
    "    if sequence_lengths == []:\n",
    "        return roc_auc_score(y_true, y_pred)\n",
    "    else:\n",
    "        con_y_true = np.zeros([sum(sequence_lengths),length_interaction_vector])\n",
    "        con_y_pred = np.zeros([sum(sequence_lengths),length_interaction_vector])\n",
    "        index = 0\n",
    "        for i in range(len(y_true)): #per student\n",
    "            for j in range(sequence_lengths[i]): #up to the sequence length\n",
    "                con_y_true[index] = y_true[i][j]\n",
    "                con_y_pred[index] = y_pred[i][j]\n",
    "                index += 1\n",
    "        con1_y_true = np.zeros([sum(sequence_lengths)])\n",
    "        con1_y_pred = np.zeros([sum(sequence_lengths)])\n",
    "        \n",
    "        for l in range(sum(sequence_lengths)):\n",
    "            index_one = np.argmax(con_y_true[l])\n",
    "            if(index_one >= int(length_interaction_vector/2)):\n",
    "                index_two = index_one - int(length_interaction_vector/2)\n",
    "            else:\n",
    "                index_two = index_one\n",
    "                index_one = index_one + int(length_interaction_vector/2)\n",
    "            if(np.argmax(con_y_true[l]) == index_one): #true is incorrect\n",
    "                con1_y_true[l] = 0.\n",
    "                con1_y_pred[l] = 1.0 - con_y_pred[l][index_one]\n",
    "            elif(np.argmax(con_y_true[l]) == index_two):\n",
    "                con1_y_true[l] = 1.\n",
    "                con1_y_pred[l] = con_y_pred[l][index_two]\n",
    "        debug=False\n",
    "        if(debug):\n",
    "            print(np.c_[con1_y_true,con1_y_pred])\n",
    "        fpr, tpr, thresholds = roc_curve(con1_y_true, con1_y_pred)\n",
    "        #print(\"tpr: \"+str(tpr) + \", fpr: \"+str(fpr) + \", thresholds: \"+str(thresholds))\n",
    "        if(plot):\n",
    "            return [roc_auc_score(con1_y_true, con1_y_pred),fpr,tpr]\n",
    "        else:\n",
    "            return roc_auc_score(con1_y_true, con1_y_pred)"
   ]
  },
  {
   "cell_type": "code",
   "execution_count": null,
   "metadata": {
    "ExecuteTime": {
     "end_time": "2018-04-10T07:16:05.549869Z",
     "start_time": "2018-04-10T07:16:05.536764Z"
    }
   },
   "outputs": [],
   "source": [
    "def loadmodel(session, saver, checkpoint_dir):\n",
    "    session.run(tf.global_variables_initializer())\n",
    "    ckpt = tf.train.get_checkpoint_state(checkpoint_dir)\n",
    "    if ckpt and ckpt.model_checkpoint_path:\n",
    "        ckpt_name = os.path.basename(ckpt.model_checkpoint_path)\n",
    "        saver.restore(session, os.path.join(checkpoint_dir, ckpt_name))\n",
    "        print(\"Model restored successfully\")\n",
    "        return int(ckpt_name[6:])\n",
    "    else:\n",
    "        print(\"No pre-trained model exists, starting from the beginning!\")\n",
    "        return 0\n",
    "\n",
    "def save(session, saver, checkpoint_dir, step):\n",
    "    dir1 = os.path.join(checkpoint_dir, \"model\")\n",
    "    saver.save(session, dir1, global_step=step)"
   ]
  },
  {
   "cell_type": "markdown",
   "metadata": {},
   "source": [
    "# Training the Model"
   ]
  },
  {
   "cell_type": "code",
   "execution_count": null,
   "metadata": {
    "ExecuteTime": {
     "end_time": "2018-04-10T07:17:51.069852Z",
     "start_time": "2018-04-10T07:16:33.343773Z"
    }
   },
   "outputs": [],
   "source": [
    "true_all_tasks = {}\n",
    "true_all_tasks['train'] = {}\n",
    "true_all_tasks['test'] = {}\n",
    "predictions_all_tasks = {}\n",
    "predictions_all_tasks['train'] = {}\n",
    "predictions_all_tasks['test'] = {}\n",
    "seqlen_all_tasks = {}\n",
    "seqlen_all_tasks['train'] = {}\n",
    "seqlen_all_tasks['test'] = {}\n",
    "c_seqlen = {}\n",
    "c_seqlen['train'] = {}\n",
    "c_seqlen['test'] = {}\n",
    "for i in another_2:\n",
    "    seqlen_all_tasks['train'][i] = []\n",
    "    seqlen_all_tasks['test'][i] = []\n",
    "    predictions_all_tasks['train'][i] = []\n",
    "    predictions_all_tasks['test'][i] = []\n",
    "    true_all_tasks['train'][i] = []\n",
    "    true_all_tasks['test'][i] = []\n",
    "    c_seqlen['train'][i] = []\n",
    "    c_seqlen['test'][i] = []\n",
    "seqlen_all_tasks['train']['overall'] = []\n",
    "seqlen_all_tasks['test']['overall'] = []\n",
    "predictions_all_tasks['train']['overall'] = []\n",
    "predictions_all_tasks['test']['overall'] = []\n",
    "true_all_tasks['train']['overall'] = []\n",
    "true_all_tasks['test']['overall'] = []\n",
    "c_seqlen['train']['overall'] = []\n",
    "c_seqlen['test']['overall'] = []\n",
    "l_r = l_r1\n",
    "with tf.Session() as sess:\n",
    "    # Initialize the variables (i.e. assign their default value)\n",
    "    sess.run(tf.global_variables_initializer())\n",
    "    sess.run(tf.local_variables_initializer())\n",
    "    assign_op = learning_tf_rate.assign(l_r)\n",
    "    sess.run(assign_op)\n",
    "    cost_prev = 1.0\n",
    "    stop = False\n",
    "    saver_url = 'saved_models/4_combined_model_D_small/model.ckpt'\n",
    "    step = loadmodel(sess, saver,saver_url)\n",
    "    print(\"converged = \"+str(converged.eval()))\n",
    "    if(sess.run(converged) == 1):\n",
    "        print(\"model already converged!\")\n",
    "        stop = True\n",
    "        #calculate overall training AUC\n",
    "        loss = sess.run(cost, feed_dict={x: training_x, y: training_y, seqlen_tf: training_seqlen,condition:0})\n",
    "        pred_train,train_cost = sess.run([pred,cost], feed_dict={x: training_x, y: training_y, seqlen_tf: training_seqlen,condition:0})\n",
    "        o_train_opts_taskid = calculate_auc(training_y,pred_train,training_seqlen)\n",
    "        true_all_tasks['train']['overall'].append(training_y)\n",
    "        predictions_all_tasks['train']['overall'].append(pred_train)\n",
    "        seqlen_all_tasks['train']['overall'].append(o_train_opts_taskid)\n",
    "        c_seqlen['train']['overall'].append(training_seqlen)\n",
    "        # Calculate overall test auc\n",
    "        pred_test,test_cost = sess.run([pred,cost],feed_dict={x: test_x, y: test_y, seqlen_tf: test_seqlen,condition:1})\n",
    "        o_temp_opts_taskid = calculate_auc(test_y,pred_test,test_seqlen)\n",
    "        true_all_tasks['test']['overall'].append(test_y)\n",
    "        predictions_all_tasks['test']['overall'].append(pred_test)\n",
    "        seqlen_all_tasks['test']['overall'].append(o_temp_opts_taskid)\n",
    "        c_seqlen['test']['overall'].append(test_seqlen)\n",
    "        #print status\n",
    "        print(\"Epoch \" + str(step) + \", Train loss = \" + str(train_cost) + \", Train AUC = \"+str(o_train_opts_taskid) +\", Test Loss: \"+str(test_cost)+ \", Test AUC: \"+str(o_temp_opts_taskid))\n",
    "        #calculate train and test AUCs on task IDs separately!\n",
    "        for idx,i in enumerate(another_2):\n",
    "            pred_train = sess.run(pred, feed_dict={x: train_x_list_dict[i], y: train_y_list_dict[i], seqlen_tf: train_seqlen_list_dict[i] ,condition:0})\n",
    "            train_opts_taskid = calculate_auc(train_y_list_dict[i],pred_train,train_seqlen_list_dict[i])\n",
    "            true_all_tasks['train'][i].append(train_y_list_dict[i])\n",
    "            predictions_all_tasks['train'][i].append(pred_train)\n",
    "            seqlen_all_tasks['train'][i].append(train_opts_taskid)\n",
    "            c_seqlen['train'][i].append(train_seqlen_list_dict[i])\n",
    "            pred_test = sess.run(pred,feed_dict={x: test_x_list_dict[i], y: test_y_list_dict[i], seqlen_tf: test_seqlen_list_dict[i] ,condition:1})\n",
    "            temp_opts_taskid = calculate_auc(test_y_list_dict[i],pred_test,test_seqlen_list_dict[i])\n",
    "            true_all_tasks['test'][i].append(test_y_list_dict[i])\n",
    "            predictions_all_tasks['test'][i].append(pred_test)\n",
    "            seqlen_all_tasks['test'][i].append(temp_opts_taskid)\n",
    "            c_seqlen['test'][i].append(test_seqlen_list_dict[i])\n",
    "            print(str(i) + \" -> Train AUC = \"+str(train_opts_taskid) + \", Test AUC: \"+str(temp_opts_taskid))\n",
    "        print(\"\\n\\n\")\n",
    "\n",
    "        \n",
    "    while(stop == False):\n",
    "    #for step in range(1, training_steps):\n",
    "        sess.run(optimizer, feed_dict={x: training_x, y: training_y, seqlen_tf: training_seqlen,condition:0})\n",
    "        step += 1\n",
    "        if step % display_step == 0 or step == 1:\n",
    "            loss = sess.run(cost, feed_dict={x: training_x, y: training_y, seqlen_tf: training_seqlen,condition:0})\n",
    "            cost_current = loss\n",
    "            if cost_prev - cost_current <= 0.00005:\n",
    "                stop = True\n",
    "                sess.run(converged.assign(1))\n",
    "                print(\"Model has converged!\" + str(converged.eval()))\n",
    "            else:\n",
    "                cost_prev = cost_current\n",
    "            save(sess,saver,saver_url,step)\n",
    "\n",
    "            #calculate overall training AUC\n",
    "            pred_train,train_cost = sess.run([pred,cost], feed_dict={x: training_x, y: training_y, seqlen_tf: training_seqlen,condition:0})\n",
    "            o_train_opts_taskid = calculate_auc(training_y,pred_train,training_seqlen)\n",
    "            true_all_tasks['train']['overall'].append(training_y)\n",
    "            predictions_all_tasks['train']['overall'].append(pred_train)\n",
    "            seqlen_all_tasks['train']['overall'].append(o_train_opts_taskid)\n",
    "            c_seqlen['train']['overall'].append(training_seqlen)\n",
    "            # Calculate overall test auc\n",
    "            pred_test,test_cost = sess.run([pred,cost],feed_dict={x: test_x, y: test_y, seqlen_tf: test_seqlen,condition:1})\n",
    "            o_temp_opts_taskid = calculate_auc(test_y,pred_test,test_seqlen)\n",
    "            true_all_tasks['test']['overall'].append(test_y)\n",
    "            predictions_all_tasks['test']['overall'].append(pred_test)\n",
    "            seqlen_all_tasks['test']['overall'].append(o_temp_opts_taskid)\n",
    "            c_seqlen['test']['overall'].append(test_seqlen)\n",
    "            #print status\n",
    "            print(\"Epoch \" + str(step) + \", Train loss = \" + str(train_cost) + \", Train AUC = \"+str(o_train_opts_taskid) +\", Test Loss: \"+str(test_cost)+ \", Test AUC: \"+str(o_temp_opts_taskid))\n",
    "\n",
    "            #calculate train and test AUCs on task IDs separately!\n",
    "            for idx,i in enumerate(another_2):\n",
    "                pred_train = sess.run(pred, feed_dict={x: train_x_list_dict[i], y: train_y_list_dict[i], seqlen_tf: train_seqlen_list_dict[i] ,condition:0})\n",
    "                train_opts_taskid = calculate_auc(train_y_list_dict[i],pred_train,train_seqlen_list_dict[i])\n",
    "                true_all_tasks['train'][i].append(train_y_list_dict[i])\n",
    "                predictions_all_tasks['train'][i].append(pred_train)\n",
    "                seqlen_all_tasks['train'][i].append(train_opts_taskid)\n",
    "                c_seqlen['train'][i].append(train_seqlen_list_dict[i])\n",
    "                pred_test = sess.run(pred,feed_dict={x: test_x_list_dict[i], y: test_y_list_dict[i], seqlen_tf: test_seqlen_list_dict[i] ,condition:1})\n",
    "                temp_opts_taskid = calculate_auc(test_y_list_dict[i],pred_test,test_seqlen_list_dict[i])\n",
    "                true_all_tasks['test'][i].append(test_y_list_dict[i])\n",
    "                predictions_all_tasks['test'][i].append(pred_test)\n",
    "                seqlen_all_tasks['test'][i].append(temp_opts_taskid)\n",
    "                c_seqlen['test'][i].append(test_seqlen_list_dict[i])\n",
    "                print(str(i) + \" -> Train AUC = \"+str(train_opts_taskid) + \", Test AUC: \"+str(temp_opts_taskid))            \n",
    "            print(\"\\n\\n\")\n",
    "\n",
    "    print(\"Optimization Finished!\")\n",
    "    for idx,i in enumerate(another_2):\n",
    "        pred_test = sess.run(pred,feed_dict={x: test_x_list_dict[i], y: test_y_list_dict[i], seqlen_tf: test_seqlen_list_dict[i] ,condition:1})\n",
    "        true_all_tasks['test'][i].append(test_y_list_dict[i])\n",
    "        predictions_all_tasks['test'][i].append(pred_test)\n",
    "        seqlen_all_tasks['test'][i].append(test_seqlen_list_dict[i])\n",
    "        pred_train = sess.run(pred, feed_dict={x: train_x_list_dict[i], y: train_y_list_dict[i], seqlen_tf: train_seqlen_list_dict[i] ,condition:0})\n",
    "        true_all_tasks['train'][i].append(train_y_list_dict[i])\n",
    "        predictions_all_tasks['train'][i].append(pred_train)\n",
    "        seqlen_all_tasks['train'][i].append(train_seqlen_list_dict[i])\n",
    "\n",
    "    pred_test,test_cost = sess.run([pred,cost],feed_dict={x: test_x, y: test_y, seqlen_tf: test_seqlen,condition:1})\n",
    "    true_all_tasks['test']['overall'].append(test_y)\n",
    "    predictions_all_tasks['test']['overall'].append(pred_test)\n",
    "    seqlen_all_tasks['test']['overall'].append(test_seqlen)\n",
    "    c_seqlen['test']['overall'].append(test_seqlen)\n",
    "    pred_train,train_cost = sess.run([pred,cost], feed_dict={x: training_x, y: training_y, seqlen_tf: training_seqlen,condition:0})\n",
    "    true_all_tasks['train']['overall'].append(training_y)\n",
    "    predictions_all_tasks['train']['overall'].append(pred_train)\n",
    "    seqlen_all_tasks['train']['overall'].append(training_seqlen)\n",
    "    c_seqlen['train']['overall'].append(training_seqlen)"
   ]
  },
  {
   "cell_type": "code",
   "execution_count": null,
   "metadata": {},
   "outputs": [],
   "source": [
    "true_all_tasks = {}\n",
    "true_all_tasks['train'] = {}\n",
    "true_all_tasks['test'] = {}\n",
    "predictions_all_tasks = {}\n",
    "predictions_all_tasks['train'] = {}\n",
    "predictions_all_tasks['test'] = {}\n",
    "seqlen_all_tasks = {}\n",
    "seqlen_all_tasks['train'] = {}\n",
    "seqlen_all_tasks['test'] = {}\n",
    "c_seqlen = {}\n",
    "c_seqlen['train'] = {}\n",
    "c_seqlen['test'] = {}\n",
    "for i in another_2:\n",
    "    seqlen_all_tasks['train'][i] = []\n",
    "    seqlen_all_tasks['test'][i] = []\n",
    "    predictions_all_tasks['train'][i] = []\n",
    "    predictions_all_tasks['test'][i] = []\n",
    "    true_all_tasks['train'][i] = []\n",
    "    true_all_tasks['test'][i] = []\n",
    "    c_seqlen['train'][i] = []\n",
    "    c_seqlen['test'][i] = []\n",
    "seqlen_all_tasks['train']['overall'] = []\n",
    "seqlen_all_tasks['test']['overall'] = []\n",
    "predictions_all_tasks['train']['overall'] = []\n",
    "predictions_all_tasks['test']['overall'] = []\n",
    "true_all_tasks['train']['overall'] = []\n",
    "true_all_tasks['test']['overall'] = []\n",
    "c_seqlen['train']['overall'] = []\n",
    "c_seqlen['test']['overall'] = []\n",
    "\n",
    "with tf.Session() as sess:\n",
    "    saver.restore(sess, 'combined_model_4_n/model.ckpt-20')\n",
    "    for idx,i in enumerate(another_2):\n",
    "        pred_test = sess.run(pred,feed_dict={x: test_x_list_dict[i], y: test_y_list_dict[i], seqlen_tf: test_seqlen_list_dict[i] ,condition:1})\n",
    "        true_all_tasks['test'][i].append(test_y_list_dict[i])\n",
    "        predictions_all_tasks['test'][i].append(pred_test)\n",
    "        seqlen_all_tasks['test'][i].append(test_seqlen_list_dict[i])\n",
    "        pred_train = sess.run(pred, feed_dict={x: train_x_list_dict[i], y: train_y_list_dict[i], seqlen_tf: train_seqlen_list_dict[i] ,condition:0})\n",
    "        true_all_tasks['train'][i].append(train_y_list_dict[i])\n",
    "        predictions_all_tasks['train'][i].append(pred_train)\n",
    "        seqlen_all_tasks['train'][i].append(train_seqlen_list_dict[i])\n",
    "        \n",
    "        view_point = np.argsort(test_seqlen)[1]\n",
    "        prediction = sess.run(pred, feed_dict={x: [test_x[view_point]], y: [test_y[view_point]], seqlen_tf: [test_seqlen[view_point]],condition:1})\n",
    "        print(\"\\n\\ntrue:prediction\\n\")\n",
    "        print(np.c_[test_x[view_point][:test_seqlen[view_point]],prediction[0][:test_seqlen[view_point]]])\n",
    "\n",
    "    pred_test,test_cost = sess.run([pred,cost],feed_dict={x: test_x, y: test_y, seqlen_tf: test_seqlen,condition:1})\n",
    "    true_all_tasks['test']['overall'].append(test_y)\n",
    "    predictions_all_tasks['test']['overall'].append(pred_test)\n",
    "    seqlen_all_tasks['test']['overall'].append(test_seqlen)\n",
    "    c_seqlen['test']['overall'].append(test_seqlen)\n",
    "    pred_train,train_cost = sess.run([pred,cost], feed_dict={x: training_x, y: training_y, seqlen_tf: training_seqlen,condition:0})\n",
    "    true_all_tasks['train']['overall'].append(training_y)\n",
    "    predictions_all_tasks['train']['overall'].append(pred_train)\n",
    "    seqlen_all_tasks['train']['overall'].append(training_seqlen)\n",
    "    c_seqlen['train']['overall'].append(training_seqlen)\n",
    "\n",
    "# predictions_all_tasks = load_obj('predictions_all_tasks')\n",
    "# seqlen_all_tasks = load_obj('seqlen_all_tasks')\n",
    "# c_seqlen = load_obj('c_seqlen')\n",
    "# true_all_tasks = load_obj('true_all_tasks')"
   ]
  },
  {
   "cell_type": "code",
   "execution_count": null,
   "metadata": {},
   "outputs": [],
   "source": []
  },
  {
   "cell_type": "code",
   "execution_count": null,
   "metadata": {},
   "outputs": [],
   "source": [
    "print(\"Calculating over-all AUC\")\n",
    "o_train = calculate_auc(true_all_tasks['train']['overall'][-1],predictions_all_tasks['train']['overall'][-1],c_seqlen['train']['overall'][-1],plot=False)\n",
    "o_test = calculate_auc(true_all_tasks['test']['overall'][-1],predictions_all_tasks['test']['overall'][-1],c_seqlen['test']['overall'][-1],plot=False)\n",
    "print(\"Overall AUC train: \"+str(o_train) + \", test: \"+str(o_test))"
   ]
  },
  {
   "cell_type": "code",
   "execution_count": null,
   "metadata": {},
   "outputs": [],
   "source": [
    "print(\"Printing individual AUCs from overall AUC\")\n",
    "\n",
    "true__ = {}\n",
    "true__['train'] = {}\n",
    "true__['test'] = {}\n",
    "pred__ = {}\n",
    "pred__['train'] = {}\n",
    "pred__['test'] = {}\n",
    "roc__ = {}\n",
    "roc__['train'] = {}\n",
    "roc__['test'] = {}\n",
    "vec1 = {}\n",
    "vec2 = {}\n",
    "vec3 = np.concatenate([incorrect_tid_vec,incorrect_tid_vec])\n",
    "for i in another_2:\n",
    "    true__['train'][i] = []\n",
    "    true__['test'][i] = []\n",
    "    pred__['test'][i] = []\n",
    "    pred__['train'][i] = []\n",
    "    vec1[i] = np.concatenate([task_ids_dict[i],incorrect_tid_vec])\n",
    "    vec2[i] = np.concatenate([incorrect_tid_vec,task_ids_dict[i]])\n",
    "for k in ['test','train']:\n",
    "    print(k)\n",
    "    for idx1,i in enumerate(true_all_tasks[k]['overall'][-1]): #per student\n",
    "        #detect the task ID from true_all_tasks\n",
    "        for idx,j in enumerate(i): #to individual interactions vector (all up to padding too!)\n",
    "            for l in another_2:\n",
    "                if(np.count_nonzero(j) != 0):\n",
    "                    if(np.argmax(j) == np.argmax(vec1[l])):#correct\n",
    "                        true__[k][l].append(1.0)\n",
    "                        pred__[k][l].append(predictions_all_tasks[k]['overall'][-1][idx1][idx][np.argmax(j)])\n",
    "                    elif(np.argmax(j) == np.argmax(vec2[l])):#incorrect\n",
    "                        true__[k][l].append(0.0)\n",
    "                        pred__[k][l].append(1.0 - predictions_all_tasks[k]['overall'][-1][idx1][idx][np.argmax(j)])\n",
    "                    \n",
    "    for l in another_2:\n",
    "        print(str(l) + \" -> auc: \" + str(roc_auc_score(true__[k][l],pred__[k][l])))\n",
    "        #print(np.c_[true__[k][l][:],pred__[k][l][:]])\n",
    "        roc__[k][l] = roc_curve(true__[k][l],pred__[k][l])\n",
    "        true__[k][l] = []            \n",
    "        pred__[k][l] = []"
   ]
  },
  {
   "cell_type": "code",
   "execution_count": null,
   "metadata": {},
   "outputs": [],
   "source": [
    "fig=plt.figure(figsize=(14, 9), dpi= 200, facecolor='w', edgecolor='k')\n",
    "plt.plot([0, 1], [0, 1], 'k--')\n",
    "plt.xlim([0.0, 1.0])\n",
    "plt.ylim([0.0, 1.05])\n",
    "plt.xlabel('False Positive Rate')\n",
    "plt.ylabel('True Positive Rate')\n",
    "plt.title('ROC Bayesian Knowledge Tracing (DKT combined, per-skill)')\n",
    "for k in ['train','test']:\n",
    "    for task_id in another_2:\n",
    "        plt.plot(roc__[k][task_id][0], roc__[k][task_id][1], label=str(task_id) + \" - \" + str(k))\n",
    "\n",
    "plt.legend(loc=\"lower right\")"
   ]
  },
  {
   "cell_type": "code",
   "execution_count": null,
   "metadata": {},
   "outputs": [],
   "source": [
    "print(\"Calculating concatenated AUC\")\n",
    "for k in ['train','test']:\n",
    "    print(k)\n",
    "    sql = seqlen_all_tasks[k]['nl-M69Ez9k.parta'][0]\n",
    "    prd = predictions_all_tasks[k]['nl-M69Ez9k.parta'][0]\n",
    "    tre = true_all_tasks[k]['nl-M69Ez9k.parta'][0]\n",
    "    for i in another_2:\n",
    "        if(i != 'nl-M69Ez9k.parta'):\n",
    "            sql = np.concatenate([sql,seqlen_all_tasks[k][i][0]])\n",
    "            prd = np.concatenate([prd,predictions_all_tasks[k][i][0]])\n",
    "            tre = np.concatenate([tre,true_all_tasks[k][i][0]])\n",
    "    print(calculate_auc(tre,prd,sql))"
   ]
  },
  {
   "cell_type": "code",
   "execution_count": null,
   "metadata": {},
   "outputs": [],
   "source": [
    "fig=plt.figure(figsize=(14, 9), dpi= 80, facecolor='w', edgecolor='k')\n",
    "plt.plot([0, 1], [0, 1], 'k--')\n",
    "plt.xlim([0.0, 1.0])\n",
    "plt.ylim([0.0, 1.05])\n",
    "plt.xlabel('False Positive Rate')\n",
    "plt.ylabel('True Positive Rate')\n",
    "plt.title('ROC Bayesian Knowledge Tracing (combined model, test set)')\n",
    "\n",
    "for task_id in another_2:\n",
    "    roc = calculate_auc(true_all_tasks['test'][task_id][-1] , predictions_all_tasks['test'][task_id][-1] , seqlen_all_tasks['test'][task_id][-1],plot=True)\n",
    "    plt.plot(roc[1], roc[2], label=task_id)\n",
    "\n",
    "roc = calculate_auc(true_all_tasks['test']['overall'][-1],predictions_all_tasks['test']['overall'][-1],c_seqlen['test']['overall'][-1],plot=True)\n",
    "plt.plot(roc[1], roc[2], label='DKT (input combined)')\n",
    "\n",
    "plt.legend(loc=\"lower right\")"
   ]
  },
  {
   "cell_type": "code",
   "execution_count": null,
   "metadata": {},
   "outputs": [],
   "source": [
    "fig=plt.figure(figsize=(14, 9), dpi= 80, facecolor='w', edgecolor='k')\n",
    "plt.plot([0, 1], [0, 1], 'k--')\n",
    "plt.xlim([0.0, 1.0])\n",
    "plt.ylim([0.0, 1.05])\n",
    "plt.xlabel('False Positive Rate')\n",
    "plt.ylabel('True Positive Rate')\n",
    "plt.title('ROC Bayesian Knowledge Tracing (combined model, Train set)')\n",
    "\n",
    "for task_id in another_2:\n",
    "    roc = calculate_auc(true_all_tasks['train'][task_id][-1],predictions_all_tasks['train'][task_id][-1], seqlen_all_tasks['train'][task_id][-1], plot=True)\n",
    "    plt.plot(roc[1], roc[2], label=task_id)\n",
    "\n",
    "roc = calculate_auc(true_all_tasks['train']['overall'][-1],predictions_all_tasks['train']['overall'][-1],c_seqlen['train']['overall'][-1],plot=True)\n",
    "plt.plot(roc[1], roc[2], label='overall-train')\n",
    "\n",
    "plt.legend(loc=\"lower right\")"
   ]
  },
  {
   "cell_type": "code",
   "execution_count": null,
   "metadata": {},
   "outputs": [],
   "source": [
    "import matplotlib\n",
    "print(\"test set roc plots\")\n",
    "fig=plt.figure(figsize=(14, 9), dpi= 200, facecolor='w', edgecolor='k')\n",
    "matplotlib.rcParams.update({'font.size': 15})\n",
    "#BKT (Separate, per skill)\n",
    "filepath = \"bkt_large_concat_roc.pickle\"\n",
    "roc_curves = pickle.load( open(filepath, \"rb\" ) )\n",
    "for task_id, roc in roc_curves.items():\n",
    "  plt.plot(roc[0], roc[1], label=\"BKT\")\n",
    "\n",
    "#DKT (Separate, per skill)\n",
    "roc = load_obj('dkt_sep_roc_overall')\n",
    "plt.plot(roc[1], roc[2], label='DKTSS-5')\n",
    "\n",
    "#DKT (Combined, per skill)\n",
    "# roc = calculate_auc(tre,prd,sql,plot=True)\n",
    "# plt.plot(roc[1], roc[2], label='DKT (combined, per skill)')\n",
    "\n",
    "#DKT (combined, combined)\n",
    "roc = calculate_auc(true_all_tasks['test']['overall'][-1],predictions_all_tasks['test']['overall'][-1],c_seqlen['test']['overall'][-1],plot=True)\n",
    "plt.plot(roc[1], roc[2], label='DKTCS')\n",
    "\n",
    "plt.plot([0, 1], [0, 1], 'k--',label = \"Baseline\")\n",
    "plt.xlim([0.0, 1.0])\n",
    "plt.ylim([0.0, 1.05])\n",
    "#plt.xlabel('False Positive Rate')\n",
    "#plt.ylabel('True Positive Rate')\n",
    "\n",
    "plt.legend(loc=\"lower right\")\n",
    "plt.savefig('final_roc_10x.png')"
   ]
  },
  {
   "cell_type": "code",
   "execution_count": null,
   "metadata": {},
   "outputs": [],
   "source": [
    "fig, axs = plt.subplots(6,2, figsize=(10, 20), facecolor='w', edgecolor='k')\n",
    "fig.subplots_adjust(hspace = .5, wspace=0.1)\n",
    "\n",
    "axs = axs.ravel()\n",
    "\n",
    "for i,value in enumerate(another_2):\n",
    "    train_auc = seqlen_all_tasks['train'][value][:]\n",
    "    test_auc = seqlen_all_tasks['test'][value][:]\n",
    "    axs[i-1].plot(test_auc,label='test')\n",
    "    axs[i-1].plot(train_auc,label='train')\n",
    "    axs[i-1].set_ylim(0,1.1)\n",
    "    axs[i-1].set_xlim(0,12)\n",
    "    axs[i-1].set_xlabel(\"Epochs\")\n",
    "    axs[i-1].set_ylabel(\"AUC\")\n",
    "    axs[i-1].legend(loc=\"best\")\n",
    "    axs[i-1].set_title(\"Task ID = \"+str(value))\n",
    "    \n",
    "train_auc = seqlen_all_tasks['train']['overall'][:]\n",
    "test_auc = seqlen_all_tasks['test']['overall'][:]\n",
    "axs[i].plot(test_auc,label='test')\n",
    "axs[i].plot(train_auc,label='train')\n",
    "axs[i].set_ylim(0,1.1)\n",
    "axs[i].set_xlim(0,12)\n",
    "axs[i].set_xlabel(\"Epochs\")\n",
    "axs[i].set_ylabel(\"AUC\")\n",
    "axs[i].legend(loc=\"best\")\n",
    "axs[i].set_title(\"Overall\")"
   ]
  },
  {
   "cell_type": "code",
   "execution_count": null,
   "metadata": {},
   "outputs": [],
   "source": [
    "for i in another_2:\n",
    "    print(i + \" final train acc: \" + str(calculate_auc(true_all_tasks['train'][i][-1],predictions_all_tasks['train'][i][-1], seqlen_all_tasks['train'][i][-1])) + \"; final test acc: \"+str(calculate_auc(true_all_tasks['test'][i][-1] , predictions_all_tasks['test'][i][-1] , seqlen_all_tasks['test'][i][-1])))"
   ]
  },
  {
   "cell_type": "markdown",
   "metadata": {},
   "source": [
    "**No longer maintained below this point.**<br>Training the model for hyperparameter (learning rate) tuning."
   ]
  },
  {
   "cell_type": "code",
   "execution_count": null,
   "metadata": {
    "scrolled": false
   },
   "outputs": [],
   "source": [
    "# plot_lr = []\n",
    "# plot_valid_auc_taskid = []\n",
    "# plot_train_auc_taskid = []\n",
    "\n",
    "# with tf.Session() as sess:\n",
    "#     for l_r in learning_rate:\n",
    "#         plot_lr.append(l_r)    \n",
    "#         valid_taskid_list = []\n",
    "#         for k_fold in range(1,maximum_position+1):\n",
    "#             # Initialize the variables (i.e. assign their default value)\n",
    "#             tf.reset_default_graph()\n",
    "#             print(str(k_fold)+\"-fold cross-validation\")\n",
    "#             sess.run(tf.global_variables_initializer())\n",
    "#             sess.run(tf.local_variables_initializer())\n",
    "#             assign_op = learning_tf_rate.assign(l_r)\n",
    "#             sess.run(assign_op)\n",
    "#             print(\"Current Learning Rate: \"+str(learning_tf_rate.eval()))\n",
    "#             train_set_seqlen, valid_set_seqlen, valid_set_x, valid_set_y, valid_set_y_taskid, train_set_x, train_set_y, train_set_y_taskid = get_next_train_valid_set(k_fold-1)\n",
    "            \n",
    "#             for step in range(1, training_steps+1):\n",
    "#                 batch_x = train_set_x\n",
    "#                 batch_y = train_set_y\n",
    "#                 sess.run(optimizer, feed_dict={x: batch_x, y: batch_y, y_taskid: train_set_y_taskid, seqlen_tf: train_set_seqlen})\n",
    "\n",
    "#                 if step % display_step == 0 or step == 1:\n",
    "#                     loss,trainAUC,trainOPTS = sess.run([cost, auc, opts], feed_dict={x: batch_x, y: batch_y, y_taskid: train_set_y_taskid, seqlen_tf: train_set_seqlen})\n",
    "#                     #print status\n",
    "#                     print(\"Step \" + str(step) + \", Loss = \" + str(loss) + \", Learning Rate = \"+str(learning_tf_rate.eval()) + \", Train AUC:\" + str(trainOPTS))\n",
    "#             #calculate validation AUC\n",
    "#             valid_auc_taskid, valid_opts_taskid = sess.run([auc, opts], feed_dict={x: valid_set_x, y: valid_set_y, y_taskid: valid_set_y_taskid, seqlen_tf: valid_set_seqlen})\n",
    "#             print(\"Valid_auc_taskid: \" + str(valid_opts_taskid) + \" with k = \"+str(k_fold))\n",
    "#             valid_taskid_list.append(valid_opts_taskid)\n",
    "#             print(\"Optimization Finished!\")\n",
    "    \n",
    "#         #calculate training AUC (it should take both validation and training sets)\n",
    "#         train_auc_taskid, train_opts_taskid = sess.run([auc, opts], feed_dict={x: training_x, y: training_y, y_taskid: training_y_taskid, seqlen_tf: training_seqlen})\n",
    "\n",
    "#         print(\"Train_auc_taskid: \" + str(train_opts_taskid))\n",
    "#         plot_train_auc_taskid.append(train_opts_taskid)\n",
    "        \n",
    "#         #take average of validation AUCs\n",
    "#         valid_avg_taskid = np.mean(valid_taskid_list)\n",
    "        \n",
    "#         print(\"Average Valid_auc_taskid: \" + str(valid_avg_taskid))\n",
    "#         plot_valid_auc_taskid.append(valid_avg_taskid)"
   ]
  },
  {
   "cell_type": "markdown",
   "metadata": {},
   "source": [
    "Plotting validation set ccssm auc across different learning rates."
   ]
  },
  {
   "cell_type": "code",
   "execution_count": null,
   "metadata": {},
   "outputs": [],
   "source": [
    "# plt.title(\"Training Set AUC\")\n",
    "# plt.xlabel(\"Learning Rate Index\")\n",
    "# plt.ylabel(\"AUC\")\n",
    "# plt.plot(plot_train_auc_taskid,'r--',label='train')\n",
    "# plt.plot(plot_valid_auc_taskid,label='valid')\n",
    "# plt.legend(loc='best', fancybox=True, framealpha=0.5)\n",
    "# plt.show()\n",
    "# print(learning_rate)"
   ]
  },
  {
   "cell_type": "markdown",
   "metadata": {},
   "source": [
    "#http://www.wildml.com/2016/08/rnns-in-tensorflow-a-practical-guide-and-undocumented-features/\n",
    "Suggestions for later:\n",
    "- https://www.tensorflow.org/versions/r1.5/api_docs/python/tf/contrib/learn/DynamicRnnEstimator#evaluate\n",
    "- we can also do dynamic partition of training and test set: http://ischlag.github.io/2016/06/19/tensorflow-input-pipeline-example/, but to compare with all the other models, I am fixing the test set.\n",
    "- try using shuffle_batch instead of tf.batch https://www.tensorflow.org/api_docs/python/tf/train/shuffle_batch \n",
    "- tried the suggestion, turns out one can't feed inconsistent dimensional tensors via feed_dict. And also, none of the functions (like - tf.train.batch etc. seem to be accepting the original variables). I need to try it on a small notebook first."
   ]
  },
  {
   "cell_type": "code",
   "execution_count": null,
   "metadata": {},
   "outputs": [],
   "source": []
  }
 ],
 "metadata": {
  "kernelspec": {
   "display_name": "Python 3",
   "language": "python",
   "name": "python3"
  },
  "language_info": {
   "codemirror_mode": {
    "name": "ipython",
    "version": 3
   },
   "file_extension": ".py",
   "mimetype": "text/x-python",
   "name": "python",
   "nbconvert_exporter": "python",
   "pygments_lexer": "ipython3",
   "version": "3.6.4"
  }
 },
 "nbformat": 4,
 "nbformat_minor": 2
}
